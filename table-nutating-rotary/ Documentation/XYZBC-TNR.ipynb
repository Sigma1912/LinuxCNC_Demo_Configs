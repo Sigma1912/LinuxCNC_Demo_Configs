{
 "cells": [
  {
   "cell_type": "markdown",
   "id": "7212b447-86fb-4ba5-a68a-90860f269b1e",
   "metadata": {},
   "source": [
    "![Titlepic](Images/xyz_tnr_machine.png)"
   ]
  },
  {
   "cell_type": "markdown",
   "id": "35884d6e-1f98-4a7d-9c4e-c2c4273027d0",
   "metadata": {},
   "source": [
    "# Introduction\n",
    "\n",
    "This paper describes how to derive the kinematic model for a 5-axis machine tool in an XYZBC configuration with work side B,C rotation. In this example the B axis is the primary and the C axis is the secondary rotary axis. The primary being independent of the secondary axis. The secondary axis being the one closest to the work piece. The model presented here will be named 'XYZBC-TNR'.\n",
    "\n",
    "The method used here will be a step by step approach. Starting with a working kinematic model for a single rotary axis all the required elements will be added to build a complete kinematic model for the machine.\n",
    "\n",
    "The final model includes tool-length compensation, compensation for mechanical offsets between the two rotational axes B and C and compensation for setups where the machine reference point is not located in the center of the C rotary table. The nutation angle is adjustable from 0 to 90° as measured from the vertical. \n",
    "The kinematics derived here is also applicable to XYZAC configurations since the orientation of the nutating joint (referred to as the 'table angle') is adjustable by 0-90°. \n",
    "\n",
    "In this document only basic mathematical functions are used so the kinematic models derived can be used directly in the 'userkins.comp' template file provided with the LinuxCNC installation. All calculations can be done without the use of any computer algebra systems, however the use of computer assistance like 'sage' will make the process of matrix multiplication much less error prone.\n",
    "\n",
    "Note that there are other and potentially more computationally efficient ways to build custom kinematics using built in libraries like 'posemath'. Posemath provides many functions for efficient matrix manipulation and also offers functions for the use of quaternions. However the use of such a library would require a more indepth understanding of the mathematical theory that is beyond the scope of this presentation. Furthermore importing a library like 'posemath' into the 'userkins.comp' template would require substantially more programming skills than using the method applied in this paper.\n"
   ]
  },
  {
   "cell_type": "code",
   "execution_count": 1,
   "id": "f47b5a98-130a-41c2-8dd4-69b2e3e8c6f0",
   "metadata": {},
   "outputs": [],
   "source": [
    "from IPython.display import display, Image\n",
    "\n",
    "# only used to display equations out of code blocks\n",
    "from IPython.display import Math, display\n",
    "\n",
    "# joint position vector P \n",
    "var('Px','Py','Pz')\n",
    "P_=matrix([[Px],\n",
    "           [Py],\n",
    "           [Pz],\n",
    "           [1]])\n",
    "\n",
    "# cartesian position vector Q\n",
    "var('Qx','Qy','Qz')\n",
    "Q_=matrix([[Qx],\n",
    "           [Qy],\n",
    "           [Qz],\n",
    "           [1]])"
   ]
  },
  {
   "cell_type": "markdown",
   "id": "c9402ba9-8246-4690-b5cf-d184858dc2f9",
   "metadata": {},
   "source": [
    "A custom kinematic model in LinuxCNC is used to calculate cartesian coordinates from given machine joint positions (forward kinematics) and also to calculate the required machine joint positions to reach a given coordinate position (inverse kinematics). In the following description we will use vectors as mathematical representations of the two positions: \n",
    "\n",
    "\n",
    "\\begin{equation}\n",
    "Q ~=~\n",
    "\\left(\\begin{array}{rrrr}\n",
    "  Qx \\\\\n",
    "  Qy \\\\\n",
    "  Qz \\\\\n",
    "  1\n",
    "\\end{array}\\right)\n",
    "~\n",
    "Cartesian~position\n",
    "~~~~~~~~~~~~\n",
    "P ~=~\n",
    "\\left(\\begin{array}{rrrr}\n",
    "  Px \\\\\n",
    "  Py \\\\\n",
    "  Pz \\\\\n",
    "  1\n",
    "\\end{array}\\right)\n",
    "~\n",
    "Joint~position\n",
    "\\end{equation}\n",
    "\n",
    "Note that the fourth row is added to be able to multiply the vectors with a 4x4 transformation matrix. "
   ]
  },
  {
   "cell_type": "markdown",
   "id": "296c81e8-f128-4482-86e0-27f3faa863f8",
   "metadata": {},
   "source": [
    "# Kinematic transformation \n",
    "\n",
    "The kinematic model consists of a 'Forward' transformation and an 'Inverse' transformation. <br>\n",
    "The forward transformation uses known machine joint locations and calculates the corresponding axis locations (ie any XYZABCUVW) usually tool position and orientation in the work space. In Linuxcnc the forward kinematic is used to calculate the initial axis positions after homing the machine.<br>\n",
    "The inverse transformation calculates the required machine joint positions to move the control point (usually the tool tip) to the given coordinates (ie XYZABCUVW). \n",
    "\n",
    "# TCP Kinematic model\n",
    "For the tool to follow a point on the work piece we need a model that calculates where a given position on the work piece moves to when the rotary joints are rotated. In our example configuration the work piece will be mounted on the C rotary table.<br>\n",
    "\n",
    "For the forward kinematic model we start at the tool side and work along the kinematic chain towards the work piece so we will start with the primary rotary.<br>\n",
    "\n",
    "\n",
    "Note that in matrix multiplication the order is important that is $A\\cdot B$ is generally not equal to $B \\cdot A$. \n"
   ]
  },
  {
   "cell_type": "markdown",
   "id": "a192e05a-e3f2-4f5a-8797-cee7c037c584",
   "metadata": {},
   "source": [
    "## Table Primary Rotation\n",
    "### How to derive a rotation matrix for a nutating joint\n",
    "\n",
    "The machine in our example has a 'nutating' primary rotary joint. Nutating meaning here that the rotational axis is not parallel to any of the axes (x, y or z) of our machine coordinate system and hence we cannot use any of the basic rotation matrices to model it in our kinematic. The basic rotation matrices are only three particular solutions of a general formula to describe rotations around any given vector $V(v_x, v_y, v_z$) in space.\n",
    "In our particular case we will see that a regular (ie orthogonal) rotary assembly corresponds to a nutation angle of 90° and our kinematic model will also cover this particular machine type.<br>\n",
    "To construct the rotation matrix $R_p$ for the slanted primary joint of our table we will use the ‘Rodrigues' form of the general rotation formula. (Note that there is also an 'Euler-Rodrigues' formula that can be used for the same purpose but uses different parameters.)"
   ]
  },
  {
   "cell_type": "markdown",
   "id": "c0756fa1-0c59-4eee-abcd-49b3658fc240",
   "metadata": {},
   "source": [
    "\\begin{equation}\n",
    "R_p ~=~ I ~+~ sin\\theta \\cdot V + (2sin²{\\theta \\over2}) \\cdot V²\n",
    "\\label{eq:rod_rot}\n",
    "\\end{equation}\n",
    "where $\\theta$ is the angle of positive rotation around a vector $\\vec{v}$ acording to the 'Right-Hand' rule.\n",
    "\n",
    "With:\n",
    "\\begin{equation}\n",
    "I ~=~ \n",
    "\\left(\\begin{array}{rrrr}\n",
    "1 & 0 & 0 \\\\\n",
    "0 & 1 & 0 \\\\\n",
    "0 & 0 & 1 \n",
    "\\end{array}\\right)\n",
    "~~\n",
    "V ~=~\n",
    "\\left(\\begin{array}{rrrr}\n",
    "  0  & -v_z &  v_y \\\\\n",
    " v_z &   0  & -v_x  \\\\\n",
    "-v_y &  v_x  &   0 \n",
    "\\end{array}\\right)\n",
    "\\label{eq:mat_I_V}\n",
    "\\end{equation}\n",
    "\n",
    "For the matrix $V$ we need a unit vector that represents the rotational axis of the nutating joint:\n",
    "\n",
    "$$\\vec{v}=(v_x,v_y,v_z)$$\n",
    "\n",
    "In our case the nutating axis lies in the YZ-plane and has the components:\n",
    "\n",
    "$$v_x=0, ~~~~ v_y = -sin\\nu, ~~~~ v_z = cos\\nu$$ \n",
    "\n",
    "where $\\nu$ is the angle of the nutating axis as measured from the vertical.\n",
    "\n",
    "\n",
    "Using the definitions of $I$ and $V$ we can rewrite  $R_p $ as:\n",
    "\n",
    "\\begin{equation}\n",
    "R_p ~=~\n",
    "\\left(\\begin{array}{rrrr}\n",
    "  cos\\theta+v²_x(1-cos\\theta)   &   v_x v_y(1-cos\\theta)-v_z sin\\theta  &  v_x v_z(1-cos\\theta)+v_y sin\\theta \\\\\n",
    "  v_x v_y(1-cos\\theta)+v_z sin\\theta  &   cos\\theta+v²_y(1-cos\\theta)   &  v_y v_z(1-cos\\theta)-v_x sin\\theta \\\\\n",
    "  v_x v_z(1-cos\\theta)-v_y sin\\theta  &   v_y v_z(1-cos\\theta)+v_x sin\\theta   &   cos\\theta+v²_z(1-cos\\theta) \n",
    "\\end{array}\\right)\n",
    "\\end{equation}\n",
    "\n",
    "\n",
    "For simplicity we substitute \n",
    "$$sin\\nu = Sv, ~~~~ cos\\nu = Cv, ~~~~ sin\\theta = Sp, ~~~ cos\\theta = Cp$$\n",
    "\n",
    "using the components of $\\vec{v}$ the rotation matrix of our primary joint now becomes\n",
    "\n",
    "\\begin{equation}\n",
    "R_p ~=~\n",
    "\\left(\\begin{array}{rrrr}\n",
    "   Cp   &          -CvSp         &       -SvSp       \\\\\n",
    "  CvSp  &      Cp + S²v(1-Cp)    &    -SvCv(1-Cp)    \\\\\n",
    "  SvSp  &       -SvCv(1-Cp)      &   Cp + C²v(1-Cp) \n",
    "\\end{array}\\right)\n",
    "\\end{equation}\n",
    "\n",
    "and by expanding it to a 4x4 matrix we have now the required transformation matrix\n",
    "\n",
    "\\begin{equation}\n",
    "R_p ~=~\n",
    "\\left(\\begin{array}{rrrr}\n",
    "   Cp   &           -CvSp        &       -SvSp        &      0     \\\\\n",
    "  CvSp  &      Cp + S²v(1-Cp)    &    -SvCv(1-Cp)     &      0     \\\\\n",
    "  SvSp  &       -SvCv(1-Cp)      &   Cs + C²v(1-Cp)   &      0     \\\\\n",
    "   0    &             0          &         0          &      1\n",
    "\\end{array}\\right)\n",
    "\\end{equation}\n",
    "\n",
    "\n",
    "To make the matrix multiplications more manageable we substitute \n",
    "\n",
    "\n",
    "$$ Cp + S²v(1-Cp)~=~ r   ~~~~~~~~  Cp + C²v(1-Cp) ~=~ s ~~~~~~~~ -SvCv(1-Cp) ~=~ t  $$ \n",
    "\n",
    "and get the transformation matrix in it's final form\n",
    "\n",
    "\\begin{equation}\n",
    "R_p ~=~\n",
    "\\left(\\begin{array}{rrrr}\n",
    "   Cp   &   -CvSp  &  -SvSp &  0     \\\\\n",
    "  CvSp  &    r    &    t    &  0     \\\\\n",
    "  SvSp  &    t    &    s    &  0     \\\\\n",
    "   0    &    0    &    0    &  1\n",
    "\\end{array}\\right)\n",
    "\\end{equation}\n",
    "\n",
    "Since in CNC machining we usually want the positive rotation to be in relation to the tool rotation and we are describing a table (ie a work side rotation) we actually want to use the inverted matrix $R_p$ for our forward kinematics.\n",
    "\n",
    "\\begin{equation}\n",
    "R_p ~=~\n",
    "\\left(\\begin{array}{rrrr}\n",
    "   Cp   &   CvSp  &   SvSp  &  0     \\\\\n",
    " -CvSp  &    r    &    t    &  0     \\\\\n",
    " -SvSp  &    t    &    s    &  0     \\\\\n",
    "   0    &    0    &    0    &  1\n",
    "\\end{array}\\right)\n",
    "\\end{equation}\n",
    "\n",
    "\n",
    " with $~~ps = sin(\\theta_s),~~~ Cs = cos(\\theta_s)$\n",
    "and $\\theta_s$ being the angle of rotation around the secondary rotary joint"
   ]
  },
  {
   "cell_type": "code",
   "execution_count": 2,
   "id": "52260c48-75a4-45bc-b721-899b97b25301",
   "metadata": {},
   "outputs": [
    {
     "data": {
      "text/latex": [
       "$\\displaystyle R_t =~ \\left(\\begin{array}{rrrr}\n",
       "\\mathit{Cu} & -\\mathit{Su} & 0 & 0 \\\\\n",
       "\\mathit{Su} & \\mathit{Cu} & 0 & 0 \\\\\n",
       "0 & 0 & 1 & 0 \\\\\n",
       "0 & 0 & 0 & 1\n",
       "\\end{array}\\right)$"
      ],
      "text/plain": [
       "<IPython.core.display.Math object>"
      ]
     },
     "metadata": {},
     "output_type": "display_data"
    }
   ],
   "source": [
    "# define transformation matrix for the secondary rotary (ie rotation around z-axis)\n",
    "var('Cu','Su')\n",
    "Rt=matrix([[  Cu, -Su,   0, 0],\n",
    "           [  Su,  Cu,   0, 0],\n",
    "           [  0 ,  0 ,   1, 0],\n",
    "           [  0,   0 ,   0, 1]])\n",
    "display(Math(rf'R_t =~'+latex(Rt)))"
   ]
  },
  {
   "cell_type": "code",
   "execution_count": 3,
   "id": "513ab965-1fb4-4a0d-9c44-1a8899f49c9f",
   "metadata": {},
   "outputs": [
    {
     "data": {
      "text/latex": [
       "$\\displaystyle R_n =~ \\left(\\begin{array}{rrrr}\n",
       "\\mathit{Cp} & \\mathit{CvSp} & \\mathit{SvSp} & 0 \\\\\n",
       "-\\mathit{CvSp} & r & t & 0 \\\\\n",
       "-\\mathit{SvSp} & t & s & 0 \\\\\n",
       "0 & 0 & 0 & 1\n",
       "\\end{array}\\right)$"
      ],
      "text/plain": [
       "<IPython.core.display.Math object>"
      ]
     },
     "metadata": {},
     "output_type": "display_data"
    }
   ],
   "source": [
    "# define the transformation matrix for the primary rotary joint\n",
    "var('Cp','CvSp','SvSp','r','s','t')\n",
    "Rn=matrix([[ Cp  ,  CvSp,  SvSp, 0],\n",
    "           [-CvSp,     r,     t, 0],\n",
    "           [-SvSp,     t,     s, 0],\n",
    "           [    0,     0,     0, 1]])\n",
    "display(Math(rf'R_n =~'+latex(Rn)))"
   ]
  },
  {
   "cell_type": "code",
   "execution_count": 4,
   "id": "aca7a2f4-70d5-4810-bc18-d7af1c375e79",
   "metadata": {},
   "outputs": [
    {
     "data": {
      "text/latex": [
       "$\\displaystyle R_p =~ \\left(\\begin{array}{rrrr}\n",
       "\\mathit{Cp} & \\mathit{CvSp} & \\mathit{SvSp} & 0 \\\\\n",
       "-\\mathit{CvSp} & r & t & 0 \\\\\n",
       "-\\mathit{SvSp} & t & s & 0 \\\\\n",
       "0 & 0 & 0 & 1\n",
       "\\end{array}\\right) \\cdot \\left(\\begin{array}{rrrr}\n",
       "\\mathit{Cu} & -\\mathit{Su} & 0 & 0 \\\\\n",
       "\\mathit{Su} & \\mathit{Cu} & 0 & 0 \\\\\n",
       "0 & 0 & 1 & 0 \\\\\n",
       "0 & 0 & 0 & 1\n",
       "\\end{array}\\right) =~~~ \\left(\\begin{array}{rrrr}\n",
       "\\mathit{Cp} \\mathit{Cu} + \\mathit{CvSp} \\mathit{Su} & \\mathit{Cu} \\mathit{CvSp} - \\mathit{Cp} \\mathit{Su} & \\mathit{SvSp} & 0 \\\\\n",
       "-\\mathit{Cu} \\mathit{CvSp} + \\mathit{Su} r & \\mathit{CvSp} \\mathit{Su} + \\mathit{Cu} r & t & 0 \\\\\n",
       "-\\mathit{Cu} \\mathit{SvSp} + \\mathit{Su} t & \\mathit{Su} \\mathit{SvSp} + \\mathit{Cu} t & s & 0 \\\\\n",
       "0 & 0 & 0 & 1\n",
       "\\end{array}\\right)$"
      ],
      "text/plain": [
       "<IPython.core.display.Math object>"
      ]
     },
     "metadata": {},
     "output_type": "display_data"
    }
   ],
   "source": [
    "Rp=Rn*Rt\n",
    "display(Math(rf'R_p =~'+latex(Rn)+rf'\\cdot'+latex(Rt)+rf'=~~~'+latex(Rp)))"
   ]
  },
  {
   "cell_type": "code",
   "execution_count": 5,
   "id": "ba8e322b-f253-48d7-bcee-18fe81d42615",
   "metadata": {},
   "outputs": [
    {
     "data": {
      "text/latex": [
       "$\\displaystyle ^QA_P =~~ \\left(\\begin{array}{rrrr}\n",
       "\\mathit{Cp} \\mathit{Cu} + \\mathit{CvSp} \\mathit{Su} & \\mathit{Cu} \\mathit{CvSp} - \\mathit{Cp} \\mathit{Su} & \\mathit{SvSp} & 0 \\\\\n",
       "-\\mathit{Cu} \\mathit{CvSp} + \\mathit{Su} r & \\mathit{CvSp} \\mathit{Su} + \\mathit{Cu} r & t & 0 \\\\\n",
       "-\\mathit{Cu} \\mathit{SvSp} + \\mathit{Su} t & \\mathit{Su} \\mathit{SvSp} + \\mathit{Cu} t & s & 0 \\\\\n",
       "0 & 0 & 0 & 1\n",
       "\\end{array}\\right)$"
      ],
      "text/plain": [
       "<IPython.core.display.Math object>"
      ]
     },
     "metadata": {},
     "output_type": "display_data"
    }
   ],
   "source": [
    "# calculate the forward transformation matrix\n",
    "qAp=Rp\n",
    "display(Math(rf'^QA_P =~~'+latex(Rp)))\n"
   ]
  },
  {
   "cell_type": "code",
   "execution_count": 6,
   "id": "16e42194-048e-4aca-a768-e96041d444f2",
   "metadata": {},
   "outputs": [
    {
     "data": {
      "text/latex": [
       "$\\displaystyle Q =~ \\left(\\begin{array}{r}\n",
       "\\mathit{Qx} \\\\\n",
       "\\mathit{Qy} \\\\\n",
       "\\mathit{Qz} \\\\\n",
       "1\n",
       "\\end{array}\\right) =~^QA_P \\cdot P=~~ \\left(\\begin{array}{rrrr}\n",
       "\\mathit{Cp} \\mathit{Cu} + \\mathit{CvSp} \\mathit{Su} & \\mathit{Cu} \\mathit{CvSp} - \\mathit{Cp} \\mathit{Su} & \\mathit{SvSp} & 0 \\\\\n",
       "-\\mathit{Cu} \\mathit{CvSp} + \\mathit{Su} r & \\mathit{CvSp} \\mathit{Su} + \\mathit{Cu} r & t & 0 \\\\\n",
       "-\\mathit{Cu} \\mathit{SvSp} + \\mathit{Su} t & \\mathit{Su} \\mathit{SvSp} + \\mathit{Cu} t & s & 0 \\\\\n",
       "0 & 0 & 0 & 1\n",
       "\\end{array}\\right) \\cdot \\left(\\begin{array}{r}\n",
       "\\mathit{Px} \\\\\n",
       "\\mathit{Py} \\\\\n",
       "\\mathit{Pz} \\\\\n",
       "1\n",
       "\\end{array}\\right) =~~~ \\left(\\begin{array}{r}\n",
       "{\\left(\\mathit{Cp} \\mathit{Cu} + \\mathit{CvSp} \\mathit{Su}\\right)} \\mathit{Px} + {\\left(\\mathit{Cu} \\mathit{CvSp} - \\mathit{Cp} \\mathit{Su}\\right)} \\mathit{Py} + \\mathit{Pz} \\mathit{SvSp} \\\\\n",
       "-{\\left(\\mathit{Cu} \\mathit{CvSp} - \\mathit{Su} r\\right)} \\mathit{Px} + {\\left(\\mathit{CvSp} \\mathit{Su} + \\mathit{Cu} r\\right)} \\mathit{Py} + \\mathit{Pz} t \\\\\n",
       "-{\\left(\\mathit{Cu} \\mathit{SvSp} - \\mathit{Su} t\\right)} \\mathit{Px} + {\\left(\\mathit{Su} \\mathit{SvSp} + \\mathit{Cu} t\\right)} \\mathit{Py} + \\mathit{Pz} s \\\\\n",
       "1\n",
       "\\end{array}\\right)$"
      ],
      "text/plain": [
       "<IPython.core.display.Math object>"
      ]
     },
     "metadata": {},
     "output_type": "display_data"
    }
   ],
   "source": [
    "# calculate the forward kinematic\n",
    "Q_out=qAp*P_\n",
    "display(Math(rf'Q =~'+latex(Q_)+rf'=~^QA_P \\cdot P=~~'+latex(qAp)+rf'\\cdot'+latex(P_)+rf'=~~~'+latex(Q_out)))"
   ]
  },
  {
   "cell_type": "code",
   "execution_count": 7,
   "id": "8f31a13b-b5bc-4599-82a0-70a89d254276",
   "metadata": {
    "scrolled": true
   },
   "outputs": [
    {
     "data": {
      "text/latex": [
       "$\\displaystyle \\mathit{Qx} ~=~ \\left({\\left(\\mathit{Cp} \\mathit{Cu} + \\mathit{CvSp} \\mathit{Su}\\right)} \\mathit{Px} + {\\left(\\mathit{Cu} \\mathit{CvSp} - \\mathit{Cp} \\mathit{Su}\\right)} \\mathit{Py} + \\mathit{Pz} \\mathit{SvSp}\\right)$"
      ],
      "text/plain": [
       "<IPython.core.display.Math object>"
      ]
     },
     "metadata": {},
     "output_type": "display_data"
    },
    {
     "data": {
      "text/latex": [
       "$\\displaystyle \\mathit{Qy} ~=~ \\left(-{\\left(\\mathit{Cu} \\mathit{CvSp} - \\mathit{Su} r\\right)} \\mathit{Px} + {\\left(\\mathit{CvSp} \\mathit{Su} + \\mathit{Cu} r\\right)} \\mathit{Py} + \\mathit{Pz} t\\right)$"
      ],
      "text/plain": [
       "<IPython.core.display.Math object>"
      ]
     },
     "metadata": {},
     "output_type": "display_data"
    },
    {
     "data": {
      "text/latex": [
       "$\\displaystyle \\mathit{Qz} ~=~ \\left(-{\\left(\\mathit{Cu} \\mathit{SvSp} - \\mathit{Su} t\\right)} \\mathit{Px} + {\\left(\\mathit{Su} \\mathit{SvSp} + \\mathit{Cu} t\\right)} \\mathit{Py} + \\mathit{Pz} s\\right)$"
      ],
      "text/plain": [
       "<IPython.core.display.Math object>"
      ]
     },
     "metadata": {},
     "output_type": "display_data"
    }
   ],
   "source": [
    "# Extract the tool-position vector Q (FORWARD KINEMATICS) from\n",
    "# the fourth column of the forward transformation matrix\n",
    "display(Math(latex(Q_[0][0]) + rf'~=~'  + latex(Q_out[0])))\n",
    "display(Math(latex(Q_[1][0]) + rf'~=~'  + latex(Q_out[1])))\n",
    "display(Math(latex(Q_[2][0]) + rf'~=~'  + latex(Q_out[2])))"
   ]
  },
  {
   "cell_type": "code",
   "execution_count": 8,
   "id": "77c46f1e-be41-4576-b0bc-46ecf35b2e59",
   "metadata": {
    "scrolled": true
   },
   "outputs": [
    {
     "name": "stdout",
     "output_type": "stream",
     "text": [
      "//TCP kinematics FORWARD\n",
      "pos->tran.x =  ((Cp*Cu + CvSp*Su)*Px + (Cu*CvSp - Cp*Su)*Py + Pz*SvSp) ;\n",
      "pos->tran.y =  (-(Cu*CvSp - Su*r)*Px + (CvSp*Su + Cu*r)*Py + Pz*t) ;\n",
      "pos->tran.z =  (-(Cu*SvSp - Su*t)*Px + (Su*SvSp + Cu*t)*Py + Pz*s) ;\n"
     ]
    }
   ],
   "source": [
    "# expressions as used in kinematics component\n",
    "print('//TCP kinematics FORWARD')\n",
    "print('pos->tran.x = ', Q_out[0], ';')\n",
    "print('pos->tran.y = ', Q_out[1], ';')\n",
    "print('pos->tran.z = ', Q_out[2], ';')"
   ]
  },
  {
   "cell_type": "markdown",
   "id": "2a3c3aba-eb05-49f5-a04b-201b4ec4e0fa",
   "metadata": {},
   "source": [
    "### Inverse transformation\n",
    "\n",
    "To calculate the joint position $P$ from given coordinate positions $Q$ we need to 'unrotate' the primary rotary joint. Mathematically this means we need to transpose the rotation part in our transformation matrix.\n",
    "\n",
    "\\begin{equation}\n",
    " ^PA_Q=~ R_p^T \n",
    "\\end{equation}"
   ]
  },
  {
   "cell_type": "code",
   "execution_count": 9,
   "id": "e8bef1ac-4990-41b3-ad61-55caa2306b28",
   "metadata": {},
   "outputs": [
    {
     "data": {
      "text/latex": [
       "$\\displaystyle ^PA_Q =~~ \\left(\\begin{array}{rrrr}\n",
       "\\mathit{Cp} \\mathit{Cu} + \\mathit{CvSp} \\mathit{Su} & -\\mathit{Cu} \\mathit{CvSp} + \\mathit{Su} r & -\\mathit{Cu} \\mathit{SvSp} + \\mathit{Su} t & 0 \\\\\n",
       "\\mathit{Cu} \\mathit{CvSp} - \\mathit{Cp} \\mathit{Su} & \\mathit{CvSp} \\mathit{Su} + \\mathit{Cu} r & \\mathit{Su} \\mathit{SvSp} + \\mathit{Cu} t & 0 \\\\\n",
       "\\mathit{SvSp} & t & s & 0 \\\\\n",
       "0 & 0 & 0 & 1\n",
       "\\end{array}\\right)$"
      ],
      "text/plain": [
       "<IPython.core.display.Math object>"
      ]
     },
     "metadata": {},
     "output_type": "display_data"
    }
   ],
   "source": [
    "# calculate the inverse transformation matrix\n",
    "pAq=Rp.transpose()\n",
    "display(Math(rf'^PA_Q =~~'+latex(Rp.transpose())))"
   ]
  },
  {
   "cell_type": "markdown",
   "id": "91e98e17-0268-42a3-83e6-3d757882ee1d",
   "metadata": {},
   "source": [
    "To derive the joint position $P$ we then multiply the coordinate position vector $Q$ from the right:\n",
    "\n",
    "\\begin{equation}\n",
    " P=~^PA_Q \\cdot Q\n",
    "\\end{equation}"
   ]
  },
  {
   "cell_type": "code",
   "execution_count": 10,
   "id": "ae89297d-1041-4ac2-a53a-0fab10359436",
   "metadata": {},
   "outputs": [
    {
     "data": {
      "text/latex": [
       "$\\displaystyle P =~ \\left(\\begin{array}{r}\n",
       "\\mathit{Px} \\\\\n",
       "\\mathit{Py} \\\\\n",
       "\\mathit{Pz} \\\\\n",
       "1\n",
       "\\end{array}\\right) =~^PA_Q \\cdot Q=~~ =~ \\left(\\begin{array}{rrrr}\n",
       "\\mathit{Cp} \\mathit{Cu} + \\mathit{CvSp} \\mathit{Su} & -\\mathit{Cu} \\mathit{CvSp} + \\mathit{Su} r & -\\mathit{Cu} \\mathit{SvSp} + \\mathit{Su} t & 0 \\\\\n",
       "\\mathit{Cu} \\mathit{CvSp} - \\mathit{Cp} \\mathit{Su} & \\mathit{CvSp} \\mathit{Su} + \\mathit{Cu} r & \\mathit{Su} \\mathit{SvSp} + \\mathit{Cu} t & 0 \\\\\n",
       "\\mathit{SvSp} & t & s & 0 \\\\\n",
       "0 & 0 & 0 & 1\n",
       "\\end{array}\\right) \\cdot \\left(\\begin{array}{r}\n",
       "\\mathit{Qx} \\\\\n",
       "\\mathit{Qy} \\\\\n",
       "\\mathit{Qz} \\\\\n",
       "1\n",
       "\\end{array}\\right) =~ \\left(\\begin{array}{r}\n",
       "{\\left(\\mathit{Cp} \\mathit{Cu} + \\mathit{CvSp} \\mathit{Su}\\right)} \\mathit{Qx} - {\\left(\\mathit{Cu} \\mathit{CvSp} - \\mathit{Su} r\\right)} \\mathit{Qy} - {\\left(\\mathit{Cu} \\mathit{SvSp} - \\mathit{Su} t\\right)} \\mathit{Qz} \\\\\n",
       "{\\left(\\mathit{Cu} \\mathit{CvSp} - \\mathit{Cp} \\mathit{Su}\\right)} \\mathit{Qx} + {\\left(\\mathit{CvSp} \\mathit{Su} + \\mathit{Cu} r\\right)} \\mathit{Qy} + {\\left(\\mathit{Su} \\mathit{SvSp} + \\mathit{Cu} t\\right)} \\mathit{Qz} \\\\\n",
       "\\mathit{Qx} \\mathit{SvSp} + \\mathit{Qz} s + \\mathit{Qy} t \\\\\n",
       "1\n",
       "\\end{array}\\right)$"
      ],
      "text/plain": [
       "<IPython.core.display.Math object>"
      ]
     },
     "metadata": {},
     "output_type": "display_data"
    }
   ],
   "source": [
    "# calculate the inverse kinematic\n",
    "P_out=pAq*Q_\n",
    "display(Math(rf'P =~'+latex(P_)+rf'=~^PA_Q \\cdot Q=~~'+rf'=~'+latex(pAq)+rf'\\cdot'+latex(Q_)+rf'=~'+latex(P_out)))"
   ]
  },
  {
   "cell_type": "code",
   "execution_count": 11,
   "id": "0fa6af00-0a98-48c6-8882-e7f9ba0c134d",
   "metadata": {},
   "outputs": [
    {
     "data": {
      "text/latex": [
       "$\\displaystyle \\mathit{Px} ~=~ \\left({\\left(\\mathit{Cp} \\mathit{Cu} + \\mathit{CvSp} \\mathit{Su}\\right)} \\mathit{Qx} - {\\left(\\mathit{Cu} \\mathit{CvSp} - \\mathit{Su} r\\right)} \\mathit{Qy} - {\\left(\\mathit{Cu} \\mathit{SvSp} - \\mathit{Su} t\\right)} \\mathit{Qz}\\right)$"
      ],
      "text/plain": [
       "<IPython.core.display.Math object>"
      ]
     },
     "metadata": {},
     "output_type": "display_data"
    },
    {
     "data": {
      "text/latex": [
       "$\\displaystyle \\mathit{Py} ~=~ \\left({\\left(\\mathit{Cu} \\mathit{CvSp} - \\mathit{Cp} \\mathit{Su}\\right)} \\mathit{Qx} + {\\left(\\mathit{CvSp} \\mathit{Su} + \\mathit{Cu} r\\right)} \\mathit{Qy} + {\\left(\\mathit{Su} \\mathit{SvSp} + \\mathit{Cu} t\\right)} \\mathit{Qz}\\right)$"
      ],
      "text/plain": [
       "<IPython.core.display.Math object>"
      ]
     },
     "metadata": {},
     "output_type": "display_data"
    },
    {
     "data": {
      "text/latex": [
       "$\\displaystyle \\mathit{Pz} ~=~ \\left(\\mathit{Qx} \\mathit{SvSp} + \\mathit{Qz} s + \\mathit{Qy} t\\right)$"
      ],
      "text/plain": [
       "<IPython.core.display.Math object>"
      ]
     },
     "metadata": {},
     "output_type": "display_data"
    }
   ],
   "source": [
    "# Extract the joint-position vector P (INVERSE KINEMATICS) from\n",
    "# the fourth column of the inverse transformation matrix\n",
    "display(Math(latex(P_[0][0]) + rf'~=~'  + latex(P_out[0])))\n",
    "display(Math(latex(P_[1][0]) + rf'~=~'  + latex(P_out[1])))\n",
    "display(Math(latex(P_[2][0]) + rf'~=~'  + latex(P_out[2])))"
   ]
  },
  {
   "cell_type": "code",
   "execution_count": 12,
   "id": "5815d9fd-c15b-478b-9769-c2f01c0e8921",
   "metadata": {
    "scrolled": true
   },
   "outputs": [
    {
     "name": "stdout",
     "output_type": "stream",
     "text": [
      "//TCP kinematics INVERSE\n",
      "j[0] =  ((Cp*Cu + CvSp*Su)*Qx - (Cu*CvSp - Su*r)*Qy - (Cu*SvSp - Su*t)*Qz) ;\n",
      "j[1] =  ((Cu*CvSp - Cp*Su)*Qx + (CvSp*Su + Cu*r)*Qy + (Su*SvSp + Cu*t)*Qz) ;\n",
      "j[2] =  (Qx*SvSp + Qz*s + Qy*t) ;\n"
     ]
    }
   ],
   "source": [
    "# expressions as used in kinematics component\n",
    "print('//TCP kinematics INVERSE')\n",
    "print('j[0] = ', P_out[0], ';')\n",
    "print('j[1] = ', P_out[1], ';')\n",
    "print('j[2] = ', P_out[2], ';')"
   ]
  },
  {
   "cell_type": "markdown",
   "id": "7ed68fa7-e38f-4338-a69d-df2ef07d1ebf",
   "metadata": {},
   "source": [
    "## Table Secondary Rotation\n",
    "### Forward transformation\n",
    "\n",
    "In this case the forward transformation matrix for the secondary rotation is equal to a rotation around the z-axis:\n"
   ]
  },
  {
   "cell_type": "code",
   "execution_count": 13,
   "id": "93bf5afb-7ab9-4619-b97b-bdf38d119bf1",
   "metadata": {},
   "outputs": [
    {
     "data": {
      "text/latex": [
       "$\\displaystyle R_s =~ \\left(\\begin{array}{rrrr}\n",
       "\\mathit{Cs} & -\\mathit{Ss} & 0 & 0 \\\\\n",
       "\\mathit{Ss} & \\mathit{Cs} & 0 & 0 \\\\\n",
       "0 & 0 & 1 & 0 \\\\\n",
       "0 & 0 & 0 & 1\n",
       "\\end{array}\\right)$"
      ],
      "text/plain": [
       "<IPython.core.display.Math object>"
      ]
     },
     "metadata": {},
     "output_type": "display_data"
    }
   ],
   "source": [
    "# define transformation matrix for the secondary rotary (ie rotation around z-axis)\n",
    "var('Cs','Ss')\n",
    "Rs=matrix([[  Cs, -Ss,   0, 0],\n",
    "           [  Ss,  Cs,   0, 0],\n",
    "           [  0 ,  0 ,   1, 0],\n",
    "           [  0,   0 ,   0, 1]])\n",
    "display(Math(rf'R_s =~'+latex(Rs)))"
   ]
  },
  {
   "cell_type": "markdown",
   "id": "12b4b430-b4c2-42a4-bedf-d9e60de25a0e",
   "metadata": {},
   "source": [
    "with $~~Ss = sin(\\theta_s),~~~ Cs = cos(\\theta_s)$\n",
    "and $\\theta_s$ being the angle of rotation around the secondary rotary joint"
   ]
  },
  {
   "cell_type": "markdown",
   "id": "74c3bf08-370f-4341-8d53-754c3a107910",
   "metadata": {},
   "source": [
    "To build the forward transformation matrix $^QA_P$ for the primary and the secondary rotation we need to multipy $R_s$  with $R_p$ from the left:\n",
    "\n",
    "\\begin{equation}\n",
    " ^QA_P=~ R_s \\cdot R_p \n",
    "\\label{eq:trns_fwd}\n",
    "\\end{equation}\n",
    " "
   ]
  },
  {
   "cell_type": "code",
   "execution_count": 14,
   "id": "cf751dab-52ff-4262-bb03-1b82edd7f88b",
   "metadata": {},
   "outputs": [
    {
     "data": {
      "text/latex": [
       "$\\displaystyle ^QA_P =~~ \\left(\\begin{array}{rrrr}\n",
       "\\mathit{Cs} & -\\mathit{Ss} & 0 & 0 \\\\\n",
       "\\mathit{Ss} & \\mathit{Cs} & 0 & 0 \\\\\n",
       "0 & 0 & 1 & 0 \\\\\n",
       "0 & 0 & 0 & 1\n",
       "\\end{array}\\right) \\cdot \\left(\\begin{array}{rrrr}\n",
       "\\mathit{Cp} \\mathit{Cu} + \\mathit{CvSp} \\mathit{Su} & \\mathit{Cu} \\mathit{CvSp} - \\mathit{Cp} \\mathit{Su} & \\mathit{SvSp} & 0 \\\\\n",
       "-\\mathit{Cu} \\mathit{CvSp} + \\mathit{Su} r & \\mathit{CvSp} \\mathit{Su} + \\mathit{Cu} r & t & 0 \\\\\n",
       "-\\mathit{Cu} \\mathit{SvSp} + \\mathit{Su} t & \\mathit{Su} \\mathit{SvSp} + \\mathit{Cu} t & s & 0 \\\\\n",
       "0 & 0 & 0 & 1\n",
       "\\end{array}\\right) =~~ \\left(\\begin{array}{rrrr}\n",
       "{\\left(\\mathit{Cp} \\mathit{Cu} + \\mathit{CvSp} \\mathit{Su}\\right)} \\mathit{Cs} + {\\left(\\mathit{Cu} \\mathit{CvSp} - \\mathit{Su} r\\right)} \\mathit{Ss} & {\\left(\\mathit{Cu} \\mathit{CvSp} - \\mathit{Cp} \\mathit{Su}\\right)} \\mathit{Cs} - {\\left(\\mathit{CvSp} \\mathit{Su} + \\mathit{Cu} r\\right)} \\mathit{Ss} & \\mathit{Cs} \\mathit{SvSp} - \\mathit{Ss} t & 0 \\\\\n",
       "-{\\left(\\mathit{Cu} \\mathit{CvSp} - \\mathit{Su} r\\right)} \\mathit{Cs} + {\\left(\\mathit{Cp} \\mathit{Cu} + \\mathit{CvSp} \\mathit{Su}\\right)} \\mathit{Ss} & {\\left(\\mathit{CvSp} \\mathit{Su} + \\mathit{Cu} r\\right)} \\mathit{Cs} + {\\left(\\mathit{Cu} \\mathit{CvSp} - \\mathit{Cp} \\mathit{Su}\\right)} \\mathit{Ss} & \\mathit{Ss} \\mathit{SvSp} + \\mathit{Cs} t & 0 \\\\\n",
       "-\\mathit{Cu} \\mathit{SvSp} + \\mathit{Su} t & \\mathit{Su} \\mathit{SvSp} + \\mathit{Cu} t & s & 0 \\\\\n",
       "0 & 0 & 0 & 1\n",
       "\\end{array}\\right)$"
      ],
      "text/plain": [
       "<IPython.core.display.Math object>"
      ]
     },
     "metadata": {},
     "output_type": "display_data"
    }
   ],
   "source": [
    "# calculate the forward transformation matrix\n",
    "qAp=Rs*Rp\n",
    "display(Math(rf'^QA_P =~~'+latex(Rs)+rf'\\cdot'+latex(Rp)+rf'=~~'+latex(qAp)))\n"
   ]
  },
  {
   "cell_type": "code",
   "execution_count": 15,
   "id": "6a3027e2-3756-48b3-be66-f46603477e97",
   "metadata": {},
   "outputs": [
    {
     "data": {
      "text/latex": [
       "$\\displaystyle Q =~ \\left(\\begin{array}{r}\n",
       "\\mathit{Qx} \\\\\n",
       "\\mathit{Qy} \\\\\n",
       "\\mathit{Qz} \\\\\n",
       "1\n",
       "\\end{array}\\right) =~^QA_P \\cdot P =~ \\left(\\begin{array}{rrrr}\n",
       "{\\left(\\mathit{Cp} \\mathit{Cu} + \\mathit{CvSp} \\mathit{Su}\\right)} \\mathit{Cs} + {\\left(\\mathit{Cu} \\mathit{CvSp} - \\mathit{Su} r\\right)} \\mathit{Ss} & {\\left(\\mathit{Cu} \\mathit{CvSp} - \\mathit{Cp} \\mathit{Su}\\right)} \\mathit{Cs} - {\\left(\\mathit{CvSp} \\mathit{Su} + \\mathit{Cu} r\\right)} \\mathit{Ss} & \\mathit{Cs} \\mathit{SvSp} - \\mathit{Ss} t & 0 \\\\\n",
       "-{\\left(\\mathit{Cu} \\mathit{CvSp} - \\mathit{Su} r\\right)} \\mathit{Cs} + {\\left(\\mathit{Cp} \\mathit{Cu} + \\mathit{CvSp} \\mathit{Su}\\right)} \\mathit{Ss} & {\\left(\\mathit{CvSp} \\mathit{Su} + \\mathit{Cu} r\\right)} \\mathit{Cs} + {\\left(\\mathit{Cu} \\mathit{CvSp} - \\mathit{Cp} \\mathit{Su}\\right)} \\mathit{Ss} & \\mathit{Ss} \\mathit{SvSp} + \\mathit{Cs} t & 0 \\\\\n",
       "-\\mathit{Cu} \\mathit{SvSp} + \\mathit{Su} t & \\mathit{Su} \\mathit{SvSp} + \\mathit{Cu} t & s & 0 \\\\\n",
       "0 & 0 & 0 & 1\n",
       "\\end{array}\\right) \\cdot \\left(\\begin{array}{r}\n",
       "\\mathit{Px} \\\\\n",
       "\\mathit{Py} \\\\\n",
       "\\mathit{Pz} \\\\\n",
       "1\n",
       "\\end{array}\\right)$"
      ],
      "text/plain": [
       "<IPython.core.display.Math object>"
      ]
     },
     "metadata": {},
     "output_type": "display_data"
    },
    {
     "data": {
      "text/latex": [
       "$\\displaystyle Q =~ \\left(\\begin{array}{r}\n",
       "\\mathit{Qx} \\\\\n",
       "\\mathit{Qy} \\\\\n",
       "\\mathit{Qz} \\\\\n",
       "1\n",
       "\\end{array}\\right) =~ \\left(\\begin{array}{r}\n",
       "{\\left({\\left(\\mathit{Cp} \\mathit{Cu} + \\mathit{CvSp} \\mathit{Su}\\right)} \\mathit{Cs} + {\\left(\\mathit{Cu} \\mathit{CvSp} - \\mathit{Su} r\\right)} \\mathit{Ss}\\right)} \\mathit{Px} + {\\left({\\left(\\mathit{Cu} \\mathit{CvSp} - \\mathit{Cp} \\mathit{Su}\\right)} \\mathit{Cs} - {\\left(\\mathit{CvSp} \\mathit{Su} + \\mathit{Cu} r\\right)} \\mathit{Ss}\\right)} \\mathit{Py} + {\\left(\\mathit{Cs} \\mathit{SvSp} - \\mathit{Ss} t\\right)} \\mathit{Pz} \\\\\n",
       "-{\\left({\\left(\\mathit{Cu} \\mathit{CvSp} - \\mathit{Su} r\\right)} \\mathit{Cs} - {\\left(\\mathit{Cp} \\mathit{Cu} + \\mathit{CvSp} \\mathit{Su}\\right)} \\mathit{Ss}\\right)} \\mathit{Px} + {\\left({\\left(\\mathit{CvSp} \\mathit{Su} + \\mathit{Cu} r\\right)} \\mathit{Cs} + {\\left(\\mathit{Cu} \\mathit{CvSp} - \\mathit{Cp} \\mathit{Su}\\right)} \\mathit{Ss}\\right)} \\mathit{Py} + {\\left(\\mathit{Ss} \\mathit{SvSp} + \\mathit{Cs} t\\right)} \\mathit{Pz} \\\\\n",
       "-{\\left(\\mathit{Cu} \\mathit{SvSp} - \\mathit{Su} t\\right)} \\mathit{Px} + {\\left(\\mathit{Su} \\mathit{SvSp} + \\mathit{Cu} t\\right)} \\mathit{Py} + \\mathit{Pz} s \\\\\n",
       "1\n",
       "\\end{array}\\right)$"
      ],
      "text/plain": [
       "<IPython.core.display.Math object>"
      ]
     },
     "metadata": {},
     "output_type": "display_data"
    }
   ],
   "source": [
    "# calculate the forward kinematic\n",
    "Q_out=qAp*P_\n",
    "display(Math(rf'Q =~'+latex(Q_)+rf'=~^QA_P \\cdot P'+rf'=~'+latex(qAp)+rf'\\cdot'+latex(P_)))\n",
    "display(Math(rf'Q =~'+latex(Q_)+rf'=~'+latex(Q_out)))"
   ]
  },
  {
   "cell_type": "code",
   "execution_count": 16,
   "id": "ed1e0678-ea89-48b3-a7e6-4251fb0a3b43",
   "metadata": {
    "scrolled": true
   },
   "outputs": [
    {
     "data": {
      "text/latex": [
       "$\\displaystyle \\mathit{Qx} ~=~ \\left({\\left({\\left(\\mathit{Cp} \\mathit{Cu} + \\mathit{CvSp} \\mathit{Su}\\right)} \\mathit{Cs} + {\\left(\\mathit{Cu} \\mathit{CvSp} - \\mathit{Su} r\\right)} \\mathit{Ss}\\right)} \\mathit{Px} + {\\left({\\left(\\mathit{Cu} \\mathit{CvSp} - \\mathit{Cp} \\mathit{Su}\\right)} \\mathit{Cs} - {\\left(\\mathit{CvSp} \\mathit{Su} + \\mathit{Cu} r\\right)} \\mathit{Ss}\\right)} \\mathit{Py} + {\\left(\\mathit{Cs} \\mathit{SvSp} - \\mathit{Ss} t\\right)} \\mathit{Pz}\\right)$"
      ],
      "text/plain": [
       "<IPython.core.display.Math object>"
      ]
     },
     "metadata": {},
     "output_type": "display_data"
    },
    {
     "data": {
      "text/latex": [
       "$\\displaystyle \\mathit{Qy} ~=~ \\left(-{\\left({\\left(\\mathit{Cu} \\mathit{CvSp} - \\mathit{Su} r\\right)} \\mathit{Cs} - {\\left(\\mathit{Cp} \\mathit{Cu} + \\mathit{CvSp} \\mathit{Su}\\right)} \\mathit{Ss}\\right)} \\mathit{Px} + {\\left({\\left(\\mathit{CvSp} \\mathit{Su} + \\mathit{Cu} r\\right)} \\mathit{Cs} + {\\left(\\mathit{Cu} \\mathit{CvSp} - \\mathit{Cp} \\mathit{Su}\\right)} \\mathit{Ss}\\right)} \\mathit{Py} + {\\left(\\mathit{Ss} \\mathit{SvSp} + \\mathit{Cs} t\\right)} \\mathit{Pz}\\right)$"
      ],
      "text/plain": [
       "<IPython.core.display.Math object>"
      ]
     },
     "metadata": {},
     "output_type": "display_data"
    },
    {
     "data": {
      "text/latex": [
       "$\\displaystyle \\mathit{Qz} ~=~ \\left(-{\\left(\\mathit{Cu} \\mathit{SvSp} - \\mathit{Su} t\\right)} \\mathit{Px} + {\\left(\\mathit{Su} \\mathit{SvSp} + \\mathit{Cu} t\\right)} \\mathit{Py} + \\mathit{Pz} s\\right)$"
      ],
      "text/plain": [
       "<IPython.core.display.Math object>"
      ]
     },
     "metadata": {},
     "output_type": "display_data"
    }
   ],
   "source": [
    "# Extract the tool-position vector Q (FORWARD KINEMATICS) from\n",
    "# the fourth column of the forward transformation matrix\n",
    "display(Math(latex(Q_[0][0]) + rf'~=~'  + latex(Q_out[0])))\n",
    "display(Math(latex(Q_[1][0]) + rf'~=~'  + latex(Q_out[1])))\n",
    "display(Math(latex(Q_[2][0]) + rf'~=~'  + latex(Q_out[2])))"
   ]
  },
  {
   "cell_type": "code",
   "execution_count": 17,
   "id": "8f85ed6c-e489-436f-b623-889d70c0d91c",
   "metadata": {
    "scrolled": true
   },
   "outputs": [
    {
     "name": "stdout",
     "output_type": "stream",
     "text": [
      "//TCP kinematics FORWARD\n",
      "pos->tran.x =  (((Cp*Cu + CvSp*Su)*Cs + (Cu*CvSp - Su*r)*Ss)*Px + ((Cu*CvSp - Cp*Su)*Cs - (CvSp*Su + Cu*r)*Ss)*Py + (Cs*SvSp - Ss*t)*Pz) ;\n",
      "pos->tran.y =  (-((Cu*CvSp - Su*r)*Cs - (Cp*Cu + CvSp*Su)*Ss)*Px + ((CvSp*Su + Cu*r)*Cs + (Cu*CvSp - Cp*Su)*Ss)*Py + (Ss*SvSp + Cs*t)*Pz) ;\n",
      "pos->tran.z =  (-(Cu*SvSp - Su*t)*Px + (Su*SvSp + Cu*t)*Py + Pz*s) ;\n"
     ]
    }
   ],
   "source": [
    "# expressions as used in kinematics component\n",
    "print('//TCP kinematics FORWARD')\n",
    "print('pos->tran.x = ', Q_out[0], ';')\n",
    "print('pos->tran.y = ', Q_out[1], ';')\n",
    "print('pos->tran.z = ', Q_out[2], ';')"
   ]
  },
  {
   "cell_type": "markdown",
   "id": "9c0b4cb5-4f74-4945-839e-e8dbb64a1289",
   "metadata": {},
   "source": [
    "### Inverse transformation\n",
    "\n",
    "To calculate the joint position $P$ from given coordinate positions $Q$ we now need to first 'unrotate' the secondary rotary joint and then the primary joint. Mathematically this means we need to multiply $R_p^T$ with $R_s^T$ from the left .\n",
    "\n",
    "\\begin{equation}\n",
    " ^PA_Q=~ R_p^T \\cdot  R_s^T\n",
    "\\end{equation}\n"
   ]
  },
  {
   "cell_type": "code",
   "execution_count": 18,
   "id": "00039c9d-e2ea-4eb4-bf52-c5d22f057248",
   "metadata": {},
   "outputs": [
    {
     "data": {
      "text/latex": [
       "$\\displaystyle ^PA_Q =~~ \\left(\\begin{array}{rrrr}\n",
       "\\mathit{Cp} \\mathit{Cu} + \\mathit{CvSp} \\mathit{Su} & -\\mathit{Cu} \\mathit{CvSp} + \\mathit{Su} r & -\\mathit{Cu} \\mathit{SvSp} + \\mathit{Su} t & 0 \\\\\n",
       "\\mathit{Cu} \\mathit{CvSp} - \\mathit{Cp} \\mathit{Su} & \\mathit{CvSp} \\mathit{Su} + \\mathit{Cu} r & \\mathit{Su} \\mathit{SvSp} + \\mathit{Cu} t & 0 \\\\\n",
       "\\mathit{SvSp} & t & s & 0 \\\\\n",
       "0 & 0 & 0 & 1\n",
       "\\end{array}\\right) \\cdot \\left(\\begin{array}{rrrr}\n",
       "\\mathit{Cs} & \\mathit{Ss} & 0 & 0 \\\\\n",
       "-\\mathit{Ss} & \\mathit{Cs} & 0 & 0 \\\\\n",
       "0 & 0 & 1 & 0 \\\\\n",
       "0 & 0 & 0 & 1\n",
       "\\end{array}\\right) =~ \\left(\\begin{array}{rrrr}\n",
       "{\\left(\\mathit{Cp} \\mathit{Cu} + \\mathit{CvSp} \\mathit{Su}\\right)} \\mathit{Cs} + {\\left(\\mathit{Cu} \\mathit{CvSp} - \\mathit{Su} r\\right)} \\mathit{Ss} & -{\\left(\\mathit{Cu} \\mathit{CvSp} - \\mathit{Su} r\\right)} \\mathit{Cs} + {\\left(\\mathit{Cp} \\mathit{Cu} + \\mathit{CvSp} \\mathit{Su}\\right)} \\mathit{Ss} & -\\mathit{Cu} \\mathit{SvSp} + \\mathit{Su} t & 0 \\\\\n",
       "{\\left(\\mathit{Cu} \\mathit{CvSp} - \\mathit{Cp} \\mathit{Su}\\right)} \\mathit{Cs} - {\\left(\\mathit{CvSp} \\mathit{Su} + \\mathit{Cu} r\\right)} \\mathit{Ss} & {\\left(\\mathit{CvSp} \\mathit{Su} + \\mathit{Cu} r\\right)} \\mathit{Cs} + {\\left(\\mathit{Cu} \\mathit{CvSp} - \\mathit{Cp} \\mathit{Su}\\right)} \\mathit{Ss} & \\mathit{Su} \\mathit{SvSp} + \\mathit{Cu} t & 0 \\\\\n",
       "\\mathit{Cs} \\mathit{SvSp} - \\mathit{Ss} t & \\mathit{Ss} \\mathit{SvSp} + \\mathit{Cs} t & s & 0 \\\\\n",
       "0 & 0 & 0 & 1\n",
       "\\end{array}\\right)$"
      ],
      "text/plain": [
       "<IPython.core.display.Math object>"
      ]
     },
     "metadata": {},
     "output_type": "display_data"
    }
   ],
   "source": [
    "# calculate the inverse transformation matrix\n",
    "pAq=Rp.transpose()*Rs.transpose()\n",
    "display(Math(rf'^PA_Q =~~'+latex(Rp.transpose())+rf'\\cdot'+latex(Rs.transpose())+rf'=~'+latex(pAq)))"
   ]
  },
  {
   "cell_type": "markdown",
   "id": "eab69b07-7be8-4337-b59e-ca7efceaf99b",
   "metadata": {},
   "source": [
    "To derive the joint position $P$ we then multiply the coordinate position vector $Q$ from the right:\n",
    "\n",
    "\\begin{equation}\n",
    " P=~^PA_Q \\cdot Q\n",
    "\\end{equation}"
   ]
  },
  {
   "cell_type": "code",
   "execution_count": 19,
   "id": "dfa3e46d-f367-41dc-8476-4eec1e4500d6",
   "metadata": {},
   "outputs": [
    {
     "data": {
      "text/latex": [
       "$\\displaystyle P =~ \\left(\\begin{array}{r}\n",
       "\\mathit{Px} \\\\\n",
       "\\mathit{Py} \\\\\n",
       "\\mathit{Pz} \\\\\n",
       "1\n",
       "\\end{array}\\right) =~ \\left(\\begin{array}{rrrr}\n",
       "{\\left(\\mathit{Cp} \\mathit{Cu} + \\mathit{CvSp} \\mathit{Su}\\right)} \\mathit{Cs} + {\\left(\\mathit{Cu} \\mathit{CvSp} - \\mathit{Su} r\\right)} \\mathit{Ss} & -{\\left(\\mathit{Cu} \\mathit{CvSp} - \\mathit{Su} r\\right)} \\mathit{Cs} + {\\left(\\mathit{Cp} \\mathit{Cu} + \\mathit{CvSp} \\mathit{Su}\\right)} \\mathit{Ss} & -\\mathit{Cu} \\mathit{SvSp} + \\mathit{Su} t & 0 \\\\\n",
       "{\\left(\\mathit{Cu} \\mathit{CvSp} - \\mathit{Cp} \\mathit{Su}\\right)} \\mathit{Cs} - {\\left(\\mathit{CvSp} \\mathit{Su} + \\mathit{Cu} r\\right)} \\mathit{Ss} & {\\left(\\mathit{CvSp} \\mathit{Su} + \\mathit{Cu} r\\right)} \\mathit{Cs} + {\\left(\\mathit{Cu} \\mathit{CvSp} - \\mathit{Cp} \\mathit{Su}\\right)} \\mathit{Ss} & \\mathit{Su} \\mathit{SvSp} + \\mathit{Cu} t & 0 \\\\\n",
       "\\mathit{Cs} \\mathit{SvSp} - \\mathit{Ss} t & \\mathit{Ss} \\mathit{SvSp} + \\mathit{Cs} t & s & 0 \\\\\n",
       "0 & 0 & 0 & 1\n",
       "\\end{array}\\right) \\cdot \\left(\\begin{array}{r}\n",
       "\\mathit{Qx} \\\\\n",
       "\\mathit{Qy} \\\\\n",
       "\\mathit{Qz} \\\\\n",
       "1\n",
       "\\end{array}\\right) =~ \\left(\\begin{array}{r}\n",
       "{\\left({\\left(\\mathit{Cp} \\mathit{Cu} + \\mathit{CvSp} \\mathit{Su}\\right)} \\mathit{Cs} + {\\left(\\mathit{Cu} \\mathit{CvSp} - \\mathit{Su} r\\right)} \\mathit{Ss}\\right)} \\mathit{Qx} - {\\left({\\left(\\mathit{Cu} \\mathit{CvSp} - \\mathit{Su} r\\right)} \\mathit{Cs} - {\\left(\\mathit{Cp} \\mathit{Cu} + \\mathit{CvSp} \\mathit{Su}\\right)} \\mathit{Ss}\\right)} \\mathit{Qy} - {\\left(\\mathit{Cu} \\mathit{SvSp} - \\mathit{Su} t\\right)} \\mathit{Qz} \\\\\n",
       "{\\left({\\left(\\mathit{Cu} \\mathit{CvSp} - \\mathit{Cp} \\mathit{Su}\\right)} \\mathit{Cs} - {\\left(\\mathit{CvSp} \\mathit{Su} + \\mathit{Cu} r\\right)} \\mathit{Ss}\\right)} \\mathit{Qx} + {\\left({\\left(\\mathit{CvSp} \\mathit{Su} + \\mathit{Cu} r\\right)} \\mathit{Cs} + {\\left(\\mathit{Cu} \\mathit{CvSp} - \\mathit{Cp} \\mathit{Su}\\right)} \\mathit{Ss}\\right)} \\mathit{Qy} + {\\left(\\mathit{Su} \\mathit{SvSp} + \\mathit{Cu} t\\right)} \\mathit{Qz} \\\\\n",
       "{\\left(\\mathit{Cs} \\mathit{SvSp} - \\mathit{Ss} t\\right)} \\mathit{Qx} + {\\left(\\mathit{Ss} \\mathit{SvSp} + \\mathit{Cs} t\\right)} \\mathit{Qy} + \\mathit{Qz} s \\\\\n",
       "1\n",
       "\\end{array}\\right)$"
      ],
      "text/plain": [
       "<IPython.core.display.Math object>"
      ]
     },
     "metadata": {},
     "output_type": "display_data"
    }
   ],
   "source": [
    "# calculate the inverse kinematic\n",
    "P_out=pAq*Q_\n",
    "display(Math(rf'P =~'+latex(P_)+rf'=~'+latex(pAq)+rf'\\cdot'+latex(Q_)+rf'=~'+latex(P_out)))"
   ]
  },
  {
   "cell_type": "code",
   "execution_count": 20,
   "id": "3542374e-1c4f-4c81-84ac-22a574476c47",
   "metadata": {},
   "outputs": [
    {
     "data": {
      "text/latex": [
       "$\\displaystyle \\mathit{Px} ~=~ \\left({\\left({\\left(\\mathit{Cp} \\mathit{Cu} + \\mathit{CvSp} \\mathit{Su}\\right)} \\mathit{Cs} + {\\left(\\mathit{Cu} \\mathit{CvSp} - \\mathit{Su} r\\right)} \\mathit{Ss}\\right)} \\mathit{Qx} - {\\left({\\left(\\mathit{Cu} \\mathit{CvSp} - \\mathit{Su} r\\right)} \\mathit{Cs} - {\\left(\\mathit{Cp} \\mathit{Cu} + \\mathit{CvSp} \\mathit{Su}\\right)} \\mathit{Ss}\\right)} \\mathit{Qy} - {\\left(\\mathit{Cu} \\mathit{SvSp} - \\mathit{Su} t\\right)} \\mathit{Qz}\\right)$"
      ],
      "text/plain": [
       "<IPython.core.display.Math object>"
      ]
     },
     "metadata": {},
     "output_type": "display_data"
    },
    {
     "data": {
      "text/latex": [
       "$\\displaystyle \\mathit{Py} ~=~ \\left({\\left({\\left(\\mathit{Cu} \\mathit{CvSp} - \\mathit{Cp} \\mathit{Su}\\right)} \\mathit{Cs} - {\\left(\\mathit{CvSp} \\mathit{Su} + \\mathit{Cu} r\\right)} \\mathit{Ss}\\right)} \\mathit{Qx} + {\\left({\\left(\\mathit{CvSp} \\mathit{Su} + \\mathit{Cu} r\\right)} \\mathit{Cs} + {\\left(\\mathit{Cu} \\mathit{CvSp} - \\mathit{Cp} \\mathit{Su}\\right)} \\mathit{Ss}\\right)} \\mathit{Qy} + {\\left(\\mathit{Su} \\mathit{SvSp} + \\mathit{Cu} t\\right)} \\mathit{Qz}\\right)$"
      ],
      "text/plain": [
       "<IPython.core.display.Math object>"
      ]
     },
     "metadata": {},
     "output_type": "display_data"
    },
    {
     "data": {
      "text/latex": [
       "$\\displaystyle \\mathit{Pz} ~=~ \\left({\\left(\\mathit{Cs} \\mathit{SvSp} - \\mathit{Ss} t\\right)} \\mathit{Qx} + {\\left(\\mathit{Ss} \\mathit{SvSp} + \\mathit{Cs} t\\right)} \\mathit{Qy} + \\mathit{Qz} s\\right)$"
      ],
      "text/plain": [
       "<IPython.core.display.Math object>"
      ]
     },
     "metadata": {},
     "output_type": "display_data"
    }
   ],
   "source": [
    "# Extract the joint-position vector P (INVERSE KINEMATICS) from\n",
    "# the fourth column of the inverse transformation matrix\n",
    "display(Math(latex(P_[0][0]) + rf'~=~'  + latex(P_out[0])))\n",
    "display(Math(latex(P_[1][0]) + rf'~=~'  + latex(P_out[1])))\n",
    "display(Math(latex(P_[2][0]) + rf'~=~'  + latex(P_out[2])))"
   ]
  },
  {
   "cell_type": "code",
   "execution_count": 21,
   "id": "9b48732d-1c04-4e10-b7ec-b5844599c378",
   "metadata": {
    "scrolled": true
   },
   "outputs": [
    {
     "name": "stdout",
     "output_type": "stream",
     "text": [
      "//TCP kinematics INVERSE\n",
      "j[0] =  (((Cp*Cu + CvSp*Su)*Cs + (Cu*CvSp - Su*r)*Ss)*Qx - ((Cu*CvSp - Su*r)*Cs - (Cp*Cu + CvSp*Su)*Ss)*Qy - (Cu*SvSp - Su*t)*Qz) ;\n",
      "j[1] =  (((Cu*CvSp - Cp*Su)*Cs - (CvSp*Su + Cu*r)*Ss)*Qx + ((CvSp*Su + Cu*r)*Cs + (Cu*CvSp - Cp*Su)*Ss)*Qy + (Su*SvSp + Cu*t)*Qz) ;\n",
      "j[2] =  ((Cs*SvSp - Ss*t)*Qx + (Ss*SvSp + Cs*t)*Qy + Qz*s) ;\n"
     ]
    }
   ],
   "source": [
    "# expressions as used in kinematics component\n",
    "print('//TCP kinematics INVERSE')\n",
    "print('j[0] = ', P_out[0], ';')\n",
    "print('j[1] = ', P_out[1], ';')\n",
    "print('j[2] = ', P_out[2], ';')"
   ]
  },
  {
   "cell_type": "markdown",
   "id": "e345f08d-9f84-46a2-8d2f-c54473bfd9cf",
   "metadata": {},
   "source": [
    "## Offsets in the rotary assembly\n",
    "\n",
    "The rotational axes of a rotary assembly like type discussed here will always have an intended or unintented offset from one rotational axis to the other. In our case this is an offset in the x direction (red indicator) and in the z direction (blue indicator). In the image the yellow rod indicates the rotational axis of B and the yellow cross at it's end indicates where the axis B and axis C intersect when both x- and z-offset are zero this is also called the 'rotation point' of the rotary assembly. In this example we define the values for the offsets in the example image as x-offset = 50 and z-offset = 250. In our kinematic model this represents the situation where, starting from the center of the face of the rotary C, we need to travel 250 in the positive z-direction and 50 in the positive x-direction to reach the rotation point of the rotary assembly.\n",
    "\n",
    "Note that the direction of travel when defining these offsets is arbitrary so in our case the offset situation in the image could also be defined as -50 in x and -250 in z. However once the definition is made we must keep it through the entire process of building the kinematic model."
   ]
  },
  {
   "cell_type": "code",
   "execution_count": 22,
   "id": "5764b913-cd9b-4f31-8811-e61a3b28e6cd",
   "metadata": {},
   "outputs": [
    {
     "data": {
      "image/png": "[encoded data removed]",
      "text/plain": [
       "<IPython.core.display.Image object>"
      ]
     },
     "metadata": {
      "image/png": {
       "height": 500,
       "width": 500
      }
     },
     "output_type": "display_data"
    }
   ],
   "source": [
    "\n",
    "display(Image(filename=\"Images/table_dxdz.png\", \n",
    "              height=500, width=500))"
   ]
  },
  {
   "cell_type": "markdown",
   "id": "89e4511a-b82e-40db-9d47-a5514362feed",
   "metadata": {},
   "source": [
    "### Forward transformation\n",
    "\n",
    "Because these offsets are located in between the two rotations they also need to be built in between the rotations in our transformation matrix. It may be helpful to view the offsets as the components of a vector. In our case the vector components would be (20,0,300) and the vector would point from the face of the rotary table C to the rotation point. \n",
    "To build the transformation matrix that describes these offsets we need to keep in mind whether we are moving with or against the offset vector as we travel from the work to the spindle. In our case we defined the offset vector to point away from the rotary C so we are travelling in the same direction and thus the vector components need to be entered as positive numbers.\n",
    "\n",
    "\\begin{equation}\n",
    " ^QA_P=~ R_s \\cdot T_o \\cdot R_p\n",
    "\\end{equation}"
   ]
  },
  {
   "cell_type": "code",
   "execution_count": 23,
   "id": "323ea1c8-0915-485e-8fd6-a0a44f6919f6",
   "metadata": {},
   "outputs": [
    {
     "data": {
      "text/latex": [
       "$\\displaystyle T_o =~ \\left(\\begin{array}{rrrr}\n",
       "1 & 0 & 0 & \\mathit{Dx} \\\\\n",
       "0 & 1 & 0 & 0 \\\\\n",
       "0 & 0 & 1 & \\mathit{Dz} \\\\\n",
       "0 & 0 & 0 & 1\n",
       "\\end{array}\\right)$"
      ],
      "text/plain": [
       "<IPython.core.display.Math object>"
      ]
     },
     "metadata": {},
     "output_type": "display_data"
    }
   ],
   "source": [
    "# define the forward transformation for the geometric offsets\n",
    "var('Dx','Dz')\n",
    "To=matrix([[ 1, 0, 0,  Dx],\n",
    "           [ 0, 1, 0,  0 ],\n",
    "           [ 0, 0, 1,  Dz],\n",
    "           [ 0, 0, 0,  1 ]])\n",
    "display(Math(rf'T_o =~'+latex(To)))\n",
    "\n"
   ]
  },
  {
   "cell_type": "code",
   "execution_count": 24,
   "id": "6f194033-d431-4ace-8093-6ff6451e85fa",
   "metadata": {},
   "outputs": [
    {
     "data": {
      "text/latex": [
       "$\\displaystyle ^QA_P =~~ \\left(\\begin{array}{rrrr}\n",
       "\\mathit{Cs} & -\\mathit{Ss} & 0 & 0 \\\\\n",
       "\\mathit{Ss} & \\mathit{Cs} & 0 & 0 \\\\\n",
       "0 & 0 & 1 & 0 \\\\\n",
       "0 & 0 & 0 & 1\n",
       "\\end{array}\\right) \\cdot \\left(\\begin{array}{rrrr}\n",
       "1 & 0 & 0 & \\mathit{Dx} \\\\\n",
       "0 & 1 & 0 & 0 \\\\\n",
       "0 & 0 & 1 & \\mathit{Dz} \\\\\n",
       "0 & 0 & 0 & 1\n",
       "\\end{array}\\right) \\cdot \\left(\\begin{array}{rrrr}\n",
       "\\mathit{Cp} \\mathit{Cu} + \\mathit{CvSp} \\mathit{Su} & \\mathit{Cu} \\mathit{CvSp} - \\mathit{Cp} \\mathit{Su} & \\mathit{SvSp} & 0 \\\\\n",
       "-\\mathit{Cu} \\mathit{CvSp} + \\mathit{Su} r & \\mathit{CvSp} \\mathit{Su} + \\mathit{Cu} r & t & 0 \\\\\n",
       "-\\mathit{Cu} \\mathit{SvSp} + \\mathit{Su} t & \\mathit{Su} \\mathit{SvSp} + \\mathit{Cu} t & s & 0 \\\\\n",
       "0 & 0 & 0 & 1\n",
       "\\end{array}\\right) \\left(\\begin{array}{rrrr}\n",
       "{\\left(\\mathit{Cp} \\mathit{Cu} + \\mathit{CvSp} \\mathit{Su}\\right)} \\mathit{Cs} + {\\left(\\mathit{Cu} \\mathit{CvSp} - \\mathit{Su} r\\right)} \\mathit{Ss} & {\\left(\\mathit{Cu} \\mathit{CvSp} - \\mathit{Cp} \\mathit{Su}\\right)} \\mathit{Cs} - {\\left(\\mathit{CvSp} \\mathit{Su} + \\mathit{Cu} r\\right)} \\mathit{Ss} & \\mathit{Cs} \\mathit{SvSp} - \\mathit{Ss} t & \\mathit{Cs} \\mathit{Dx} \\\\\n",
       "-{\\left(\\mathit{Cu} \\mathit{CvSp} - \\mathit{Su} r\\right)} \\mathit{Cs} + {\\left(\\mathit{Cp} \\mathit{Cu} + \\mathit{CvSp} \\mathit{Su}\\right)} \\mathit{Ss} & {\\left(\\mathit{CvSp} \\mathit{Su} + \\mathit{Cu} r\\right)} \\mathit{Cs} + {\\left(\\mathit{Cu} \\mathit{CvSp} - \\mathit{Cp} \\mathit{Su}\\right)} \\mathit{Ss} & \\mathit{Ss} \\mathit{SvSp} + \\mathit{Cs} t & \\mathit{Dx} \\mathit{Ss} \\\\\n",
       "-\\mathit{Cu} \\mathit{SvSp} + \\mathit{Su} t & \\mathit{Su} \\mathit{SvSp} + \\mathit{Cu} t & s & \\mathit{Dz} \\\\\n",
       "0 & 0 & 0 & 1\n",
       "\\end{array}\\right)$"
      ],
      "text/plain": [
       "<IPython.core.display.Math object>"
      ]
     },
     "metadata": {},
     "output_type": "display_data"
    }
   ],
   "source": [
    "# calculate the forward transformation matrix\n",
    "qAp=Rs*To*Rp\n",
    "display(Math(rf'^QA_P =~~'+latex(Rs)+rf'\\cdot'+latex(To)+rf'\\cdot'+latex(Rp)+latex(qAp)))"
   ]
  },
  {
   "cell_type": "code",
   "execution_count": 25,
   "id": "1ac302e8-2b4c-4921-a4fa-8a1f3e7fb5f6",
   "metadata": {},
   "outputs": [
    {
     "data": {
      "text/latex": [
       "$\\displaystyle Q =~ \\left(\\begin{array}{r}\n",
       "\\mathit{Qx} \\\\\n",
       "\\mathit{Qy} \\\\\n",
       "\\mathit{Qz} \\\\\n",
       "1\n",
       "\\end{array}\\right) =~^QA_P \\cdot P =~ \\left(\\begin{array}{rrrr}\n",
       "{\\left(\\mathit{Cp} \\mathit{Cu} + \\mathit{CvSp} \\mathit{Su}\\right)} \\mathit{Cs} + {\\left(\\mathit{Cu} \\mathit{CvSp} - \\mathit{Su} r\\right)} \\mathit{Ss} & {\\left(\\mathit{Cu} \\mathit{CvSp} - \\mathit{Cp} \\mathit{Su}\\right)} \\mathit{Cs} - {\\left(\\mathit{CvSp} \\mathit{Su} + \\mathit{Cu} r\\right)} \\mathit{Ss} & \\mathit{Cs} \\mathit{SvSp} - \\mathit{Ss} t & \\mathit{Cs} \\mathit{Dx} \\\\\n",
       "-{\\left(\\mathit{Cu} \\mathit{CvSp} - \\mathit{Su} r\\right)} \\mathit{Cs} + {\\left(\\mathit{Cp} \\mathit{Cu} + \\mathit{CvSp} \\mathit{Su}\\right)} \\mathit{Ss} & {\\left(\\mathit{CvSp} \\mathit{Su} + \\mathit{Cu} r\\right)} \\mathit{Cs} + {\\left(\\mathit{Cu} \\mathit{CvSp} - \\mathit{Cp} \\mathit{Su}\\right)} \\mathit{Ss} & \\mathit{Ss} \\mathit{SvSp} + \\mathit{Cs} t & \\mathit{Dx} \\mathit{Ss} \\\\\n",
       "-\\mathit{Cu} \\mathit{SvSp} + \\mathit{Su} t & \\mathit{Su} \\mathit{SvSp} + \\mathit{Cu} t & s & \\mathit{Dz} \\\\\n",
       "0 & 0 & 0 & 1\n",
       "\\end{array}\\right) \\cdot \\left(\\begin{array}{r}\n",
       "\\mathit{Px} \\\\\n",
       "\\mathit{Py} \\\\\n",
       "\\mathit{Pz} \\\\\n",
       "1\n",
       "\\end{array}\\right)$"
      ],
      "text/plain": [
       "<IPython.core.display.Math object>"
      ]
     },
     "metadata": {},
     "output_type": "display_data"
    },
    {
     "data": {
      "text/latex": [
       "$\\displaystyle Q =~ \\left(\\begin{array}{r}\n",
       "\\mathit{Qx} \\\\\n",
       "\\mathit{Qy} \\\\\n",
       "\\mathit{Qz} \\\\\n",
       "1\n",
       "\\end{array}\\right) =~ \\left(\\begin{array}{r}\n",
       "\\mathit{Cs} \\mathit{Dx} + {\\left({\\left(\\mathit{Cp} \\mathit{Cu} + \\mathit{CvSp} \\mathit{Su}\\right)} \\mathit{Cs} + {\\left(\\mathit{Cu} \\mathit{CvSp} - \\mathit{Su} r\\right)} \\mathit{Ss}\\right)} \\mathit{Px} + {\\left({\\left(\\mathit{Cu} \\mathit{CvSp} - \\mathit{Cp} \\mathit{Su}\\right)} \\mathit{Cs} - {\\left(\\mathit{CvSp} \\mathit{Su} + \\mathit{Cu} r\\right)} \\mathit{Ss}\\right)} \\mathit{Py} + {\\left(\\mathit{Cs} \\mathit{SvSp} - \\mathit{Ss} t\\right)} \\mathit{Pz} \\\\\n",
       "-{\\left({\\left(\\mathit{Cu} \\mathit{CvSp} - \\mathit{Su} r\\right)} \\mathit{Cs} - {\\left(\\mathit{Cp} \\mathit{Cu} + \\mathit{CvSp} \\mathit{Su}\\right)} \\mathit{Ss}\\right)} \\mathit{Px} + {\\left({\\left(\\mathit{CvSp} \\mathit{Su} + \\mathit{Cu} r\\right)} \\mathit{Cs} + {\\left(\\mathit{Cu} \\mathit{CvSp} - \\mathit{Cp} \\mathit{Su}\\right)} \\mathit{Ss}\\right)} \\mathit{Py} + {\\left(\\mathit{Ss} \\mathit{SvSp} + \\mathit{Cs} t\\right)} \\mathit{Pz} + \\mathit{Dx} \\mathit{Ss} \\\\\n",
       "-{\\left(\\mathit{Cu} \\mathit{SvSp} - \\mathit{Su} t\\right)} \\mathit{Px} + {\\left(\\mathit{Su} \\mathit{SvSp} + \\mathit{Cu} t\\right)} \\mathit{Py} + \\mathit{Pz} s + \\mathit{Dz} \\\\\n",
       "1\n",
       "\\end{array}\\right)$"
      ],
      "text/plain": [
       "<IPython.core.display.Math object>"
      ]
     },
     "metadata": {},
     "output_type": "display_data"
    }
   ],
   "source": [
    "# calculate the forward kinematic\n",
    "Q_out=qAp*P_\n",
    "display(Math(rf'Q =~'+latex(Q_)+rf'=~^QA_P \\cdot P'+rf'=~'+latex(qAp)+rf'\\cdot'+latex(P_)))\n",
    "display(Math(rf'Q =~'+latex(Q_)+rf'=~'+latex(Q_out)))"
   ]
  },
  {
   "cell_type": "code",
   "execution_count": 26,
   "id": "0b08f92c-e6d8-4e4e-9adf-f4d7a456f18a",
   "metadata": {},
   "outputs": [
    {
     "data": {
      "text/latex": [
       "$\\displaystyle \\mathit{Qx} ~=~ \\left(\\mathit{Cs} \\mathit{Dx} + {\\left({\\left(\\mathit{Cp} \\mathit{Cu} + \\mathit{CvSp} \\mathit{Su}\\right)} \\mathit{Cs} + {\\left(\\mathit{Cu} \\mathit{CvSp} - \\mathit{Su} r\\right)} \\mathit{Ss}\\right)} \\mathit{Px} + {\\left({\\left(\\mathit{Cu} \\mathit{CvSp} - \\mathit{Cp} \\mathit{Su}\\right)} \\mathit{Cs} - {\\left(\\mathit{CvSp} \\mathit{Su} + \\mathit{Cu} r\\right)} \\mathit{Ss}\\right)} \\mathit{Py} + {\\left(\\mathit{Cs} \\mathit{SvSp} - \\mathit{Ss} t\\right)} \\mathit{Pz}\\right)$"
      ],
      "text/plain": [
       "<IPython.core.display.Math object>"
      ]
     },
     "metadata": {},
     "output_type": "display_data"
    },
    {
     "data": {
      "text/latex": [
       "$\\displaystyle \\mathit{Qy} ~=~ \\left(-{\\left({\\left(\\mathit{Cu} \\mathit{CvSp} - \\mathit{Su} r\\right)} \\mathit{Cs} - {\\left(\\mathit{Cp} \\mathit{Cu} + \\mathit{CvSp} \\mathit{Su}\\right)} \\mathit{Ss}\\right)} \\mathit{Px} + {\\left({\\left(\\mathit{CvSp} \\mathit{Su} + \\mathit{Cu} r\\right)} \\mathit{Cs} + {\\left(\\mathit{Cu} \\mathit{CvSp} - \\mathit{Cp} \\mathit{Su}\\right)} \\mathit{Ss}\\right)} \\mathit{Py} + {\\left(\\mathit{Ss} \\mathit{SvSp} + \\mathit{Cs} t\\right)} \\mathit{Pz} + \\mathit{Dx} \\mathit{Ss}\\right)$"
      ],
      "text/plain": [
       "<IPython.core.display.Math object>"
      ]
     },
     "metadata": {},
     "output_type": "display_data"
    },
    {
     "data": {
      "text/latex": [
       "$\\displaystyle \\mathit{Qz} ~=~ \\left(-{\\left(\\mathit{Cu} \\mathit{SvSp} - \\mathit{Su} t\\right)} \\mathit{Px} + {\\left(\\mathit{Su} \\mathit{SvSp} + \\mathit{Cu} t\\right)} \\mathit{Py} + \\mathit{Pz} s + \\mathit{Dz}\\right)$"
      ],
      "text/plain": [
       "<IPython.core.display.Math object>"
      ]
     },
     "metadata": {},
     "output_type": "display_data"
    }
   ],
   "source": [
    "# Extract the tool-position vector Q (FORWARD KINEMATICS) from\n",
    "# the fourth column of the forward transformation matrix\n",
    "display(Math(latex(Q_[0][0]) + rf'~=~'  + latex(Q_out[0])))\n",
    "display(Math(latex(Q_[1][0]) + rf'~=~'  + latex(Q_out[1])))\n",
    "display(Math(latex(Q_[2][0]) + rf'~=~'  + latex(Q_out[2])))"
   ]
  },
  {
   "cell_type": "code",
   "execution_count": 27,
   "id": "b6e77262-3152-4455-aa9e-d50602cfd673",
   "metadata": {},
   "outputs": [
    {
     "name": "stdout",
     "output_type": "stream",
     "text": [
      "//TCP kinematics FORWARD\n",
      "pos->tran.x =  (Cs*Dx + ((Cp*Cu + CvSp*Su)*Cs + (Cu*CvSp - Su*r)*Ss)*Px + ((Cu*CvSp - Cp*Su)*Cs - (CvSp*Su + Cu*r)*Ss)*Py + (Cs*SvSp - Ss*t)*Pz) ;\n",
      "pos->tran.y =  (-((Cu*CvSp - Su*r)*Cs - (Cp*Cu + CvSp*Su)*Ss)*Px + ((CvSp*Su + Cu*r)*Cs + (Cu*CvSp - Cp*Su)*Ss)*Py + (Ss*SvSp + Cs*t)*Pz + Dx*Ss) ;\n",
      "pos->tran.z =  (-(Cu*SvSp - Su*t)*Px + (Su*SvSp + Cu*t)*Py + Pz*s + Dz) ;\n"
     ]
    }
   ],
   "source": [
    "# expressions as used in kinematics component\n",
    "print('//TCP kinematics FORWARD')\n",
    "print('pos->tran.x = ', Q_out[0], ';')\n",
    "print('pos->tran.y = ', Q_out[1], ';')\n",
    "print('pos->tran.z = ', Q_out[2], ';')"
   ]
  },
  {
   "cell_type": "markdown",
   "id": "ee07966d-8447-4cc6-8ccc-6ecc83dda5c5",
   "metadata": {},
   "source": [
    "### Inverse transformation\n",
    "\n",
    "In the inverse transformation\n",
    "\n",
    "\\begin{equation}\n",
    " ^PA_Q=~ R_p^T \\cdot  T_{io} \\cdot  R_s^T\n",
    "\\end{equation}\n",
    "\n",
    "Where $T_{io}$ is the inverted offset vector translation:"
   ]
  },
  {
   "cell_type": "code",
   "execution_count": 28,
   "id": "01cc24b5-24e1-415e-a090-7547da5b0f85",
   "metadata": {},
   "outputs": [
    {
     "data": {
      "text/latex": [
       "$\\displaystyle T_io =~ \\left(\\begin{array}{rrrr}\n",
       "1 & 0 & 0 & -\\mathit{Dx} \\\\\n",
       "0 & 1 & 0 & 0 \\\\\n",
       "0 & 0 & 1 & -\\mathit{Dz} \\\\\n",
       "0 & 0 & 0 & 1\n",
       "\\end{array}\\right)$"
      ],
      "text/plain": [
       "<IPython.core.display.Math object>"
      ]
     },
     "metadata": {},
     "output_type": "display_data"
    }
   ],
   "source": [
    "# define the inverse transformation for the geometric offsets\n",
    "Tio=matrix([[ 1, 0, 0,  -Dx],\n",
    "           [ 0, 1, 0,  0 ],\n",
    "           [ 0, 0, 1,  -Dz],\n",
    "           [ 0, 0, 0,  1 ]])\n",
    "display(Math(rf'T_io =~'+latex(Tio)))"
   ]
  },
  {
   "cell_type": "code",
   "execution_count": 29,
   "id": "054abc37-62b8-4f38-9cc0-20686d3ad9d1",
   "metadata": {},
   "outputs": [
    {
     "data": {
      "text/latex": [
       "$\\displaystyle ^PA_Q=~ \\left(\\begin{array}{rrrr}\n",
       "\\mathit{Cp} \\mathit{Cu} + \\mathit{CvSp} \\mathit{Su} & -\\mathit{Cu} \\mathit{CvSp} + \\mathit{Su} r & -\\mathit{Cu} \\mathit{SvSp} + \\mathit{Su} t & 0 \\\\\n",
       "\\mathit{Cu} \\mathit{CvSp} - \\mathit{Cp} \\mathit{Su} & \\mathit{CvSp} \\mathit{Su} + \\mathit{Cu} r & \\mathit{Su} \\mathit{SvSp} + \\mathit{Cu} t & 0 \\\\\n",
       "\\mathit{SvSp} & t & s & 0 \\\\\n",
       "0 & 0 & 0 & 1\n",
       "\\end{array}\\right) \\cdot \\left(\\begin{array}{rrrr}\n",
       "1 & 0 & 0 & -\\mathit{Dx} \\\\\n",
       "0 & 1 & 0 & 0 \\\\\n",
       "0 & 0 & 1 & -\\mathit{Dz} \\\\\n",
       "0 & 0 & 0 & 1\n",
       "\\end{array}\\right) \\cdot \\left(\\begin{array}{rrrr}\n",
       "\\mathit{Cs} & \\mathit{Ss} & 0 & 0 \\\\\n",
       "-\\mathit{Ss} & \\mathit{Cs} & 0 & 0 \\\\\n",
       "0 & 0 & 1 & 0 \\\\\n",
       "0 & 0 & 0 & 1\n",
       "\\end{array}\\right) =~ \\left(\\begin{array}{r}\n",
       "{\\left({\\left(\\mathit{Cp} \\mathit{Cu} + \\mathit{CvSp} \\mathit{Su}\\right)} \\mathit{Cs} + {\\left(\\mathit{Cu} \\mathit{CvSp} - \\mathit{Su} r\\right)} \\mathit{Ss}\\right)} \\mathit{Qx} - {\\left({\\left(\\mathit{Cu} \\mathit{CvSp} - \\mathit{Su} r\\right)} \\mathit{Cs} - {\\left(\\mathit{Cp} \\mathit{Cu} + \\mathit{CvSp} \\mathit{Su}\\right)} \\mathit{Ss}\\right)} \\mathit{Qy} - {\\left(\\mathit{Cu} \\mathit{SvSp} - \\mathit{Su} t\\right)} \\mathit{Qz} \\\\\n",
       "{\\left({\\left(\\mathit{Cu} \\mathit{CvSp} - \\mathit{Cp} \\mathit{Su}\\right)} \\mathit{Cs} - {\\left(\\mathit{CvSp} \\mathit{Su} + \\mathit{Cu} r\\right)} \\mathit{Ss}\\right)} \\mathit{Qx} + {\\left({\\left(\\mathit{CvSp} \\mathit{Su} + \\mathit{Cu} r\\right)} \\mathit{Cs} + {\\left(\\mathit{Cu} \\mathit{CvSp} - \\mathit{Cp} \\mathit{Su}\\right)} \\mathit{Ss}\\right)} \\mathit{Qy} + {\\left(\\mathit{Su} \\mathit{SvSp} + \\mathit{Cu} t\\right)} \\mathit{Qz} \\\\\n",
       "{\\left(\\mathit{Cs} \\mathit{SvSp} - \\mathit{Ss} t\\right)} \\mathit{Qx} + {\\left(\\mathit{Ss} \\mathit{SvSp} + \\mathit{Cs} t\\right)} \\mathit{Qy} + \\mathit{Qz} s \\\\\n",
       "1\n",
       "\\end{array}\\right)$"
      ],
      "text/plain": [
       "<IPython.core.display.Math object>"
      ]
     },
     "metadata": {},
     "output_type": "display_data"
    }
   ],
   "source": [
    "# calculate inverse transformation matrix\n",
    "pAq=Rp.transpose()*Tio*Rs.transpose()\n",
    "display(Math(rf'^PA_Q=~'+latex(Rp.transpose())+rf'\\cdot'+latex(Tio)+rf'\\cdot'+latex(Rs.transpose())+rf'=~'+latex(P_out)))"
   ]
  },
  {
   "cell_type": "code",
   "execution_count": 30,
   "id": "c9ba8f5c-9224-42e8-ac02-08cd46fa2cf9",
   "metadata": {},
   "outputs": [
    {
     "data": {
      "text/latex": [
       "$\\displaystyle P =~ \\left(\\begin{array}{r}\n",
       "\\mathit{Px} \\\\\n",
       "\\mathit{Py} \\\\\n",
       "\\mathit{Pz} \\\\\n",
       "1\n",
       "\\end{array}\\right) =~ \\left(\\begin{array}{rrrr}\n",
       "{\\left(\\mathit{Cp} \\mathit{Cu} + \\mathit{CvSp} \\mathit{Su}\\right)} \\mathit{Cs} + {\\left(\\mathit{Cu} \\mathit{CvSp} - \\mathit{Su} r\\right)} \\mathit{Ss} & -{\\left(\\mathit{Cu} \\mathit{CvSp} - \\mathit{Su} r\\right)} \\mathit{Cs} + {\\left(\\mathit{Cp} \\mathit{Cu} + \\mathit{CvSp} \\mathit{Su}\\right)} \\mathit{Ss} & -\\mathit{Cu} \\mathit{SvSp} + \\mathit{Su} t & -{\\left(\\mathit{Cp} \\mathit{Cu} + \\mathit{CvSp} \\mathit{Su}\\right)} \\mathit{Dx} + {\\left(\\mathit{Cu} \\mathit{SvSp} - \\mathit{Su} t\\right)} \\mathit{Dz} \\\\\n",
       "{\\left(\\mathit{Cu} \\mathit{CvSp} - \\mathit{Cp} \\mathit{Su}\\right)} \\mathit{Cs} - {\\left(\\mathit{CvSp} \\mathit{Su} + \\mathit{Cu} r\\right)} \\mathit{Ss} & {\\left(\\mathit{CvSp} \\mathit{Su} + \\mathit{Cu} r\\right)} \\mathit{Cs} + {\\left(\\mathit{Cu} \\mathit{CvSp} - \\mathit{Cp} \\mathit{Su}\\right)} \\mathit{Ss} & \\mathit{Su} \\mathit{SvSp} + \\mathit{Cu} t & -{\\left(\\mathit{Cu} \\mathit{CvSp} - \\mathit{Cp} \\mathit{Su}\\right)} \\mathit{Dx} - {\\left(\\mathit{Su} \\mathit{SvSp} + \\mathit{Cu} t\\right)} \\mathit{Dz} \\\\\n",
       "\\mathit{Cs} \\mathit{SvSp} - \\mathit{Ss} t & \\mathit{Ss} \\mathit{SvSp} + \\mathit{Cs} t & s & -\\mathit{Dx} \\mathit{SvSp} - \\mathit{Dz} s \\\\\n",
       "0 & 0 & 0 & 1\n",
       "\\end{array}\\right) \\cdot \\left(\\begin{array}{r}\n",
       "\\mathit{Qx} \\\\\n",
       "\\mathit{Qy} \\\\\n",
       "\\mathit{Qz} \\\\\n",
       "1\n",
       "\\end{array}\\right)$"
      ],
      "text/plain": [
       "<IPython.core.display.Math object>"
      ]
     },
     "metadata": {},
     "output_type": "display_data"
    },
    {
     "data": {
      "text/latex": [
       "$\\displaystyle P =~ \\left(\\begin{array}{r}\n",
       "\\mathit{Px} \\\\\n",
       "\\mathit{Py} \\\\\n",
       "\\mathit{Pz} \\\\\n",
       "1\n",
       "\\end{array}\\right) =~ \\left(\\begin{array}{r}\n",
       "-{\\left(\\mathit{Cp} \\mathit{Cu} + \\mathit{CvSp} \\mathit{Su}\\right)} \\mathit{Dx} + {\\left(\\mathit{Cu} \\mathit{SvSp} - \\mathit{Su} t\\right)} \\mathit{Dz} + {\\left({\\left(\\mathit{Cp} \\mathit{Cu} + \\mathit{CvSp} \\mathit{Su}\\right)} \\mathit{Cs} + {\\left(\\mathit{Cu} \\mathit{CvSp} - \\mathit{Su} r\\right)} \\mathit{Ss}\\right)} \\mathit{Qx} - {\\left({\\left(\\mathit{Cu} \\mathit{CvSp} - \\mathit{Su} r\\right)} \\mathit{Cs} - {\\left(\\mathit{Cp} \\mathit{Cu} + \\mathit{CvSp} \\mathit{Su}\\right)} \\mathit{Ss}\\right)} \\mathit{Qy} - {\\left(\\mathit{Cu} \\mathit{SvSp} - \\mathit{Su} t\\right)} \\mathit{Qz} \\\\\n",
       "-{\\left(\\mathit{Cu} \\mathit{CvSp} - \\mathit{Cp} \\mathit{Su}\\right)} \\mathit{Dx} - {\\left(\\mathit{Su} \\mathit{SvSp} + \\mathit{Cu} t\\right)} \\mathit{Dz} + {\\left({\\left(\\mathit{Cu} \\mathit{CvSp} - \\mathit{Cp} \\mathit{Su}\\right)} \\mathit{Cs} - {\\left(\\mathit{CvSp} \\mathit{Su} + \\mathit{Cu} r\\right)} \\mathit{Ss}\\right)} \\mathit{Qx} + {\\left({\\left(\\mathit{CvSp} \\mathit{Su} + \\mathit{Cu} r\\right)} \\mathit{Cs} + {\\left(\\mathit{Cu} \\mathit{CvSp} - \\mathit{Cp} \\mathit{Su}\\right)} \\mathit{Ss}\\right)} \\mathit{Qy} + {\\left(\\mathit{Su} \\mathit{SvSp} + \\mathit{Cu} t\\right)} \\mathit{Qz} \\\\\n",
       "{\\left(\\mathit{Cs} \\mathit{SvSp} - \\mathit{Ss} t\\right)} \\mathit{Qx} + {\\left(\\mathit{Ss} \\mathit{SvSp} + \\mathit{Cs} t\\right)} \\mathit{Qy} - \\mathit{Dx} \\mathit{SvSp} - \\mathit{Dz} s + \\mathit{Qz} s \\\\\n",
       "1\n",
       "\\end{array}\\right)$"
      ],
      "text/plain": [
       "<IPython.core.display.Math object>"
      ]
     },
     "metadata": {},
     "output_type": "display_data"
    }
   ],
   "source": [
    "# calculate the inverse kinematic\n",
    "P_out=pAq*Q_\n",
    "display(Math(rf'P =~'+latex(P_)+rf'=~'+latex(pAq)+rf'\\cdot'+latex(Q_)))\n",
    "display(Math(rf'P =~'+latex(P_)+rf'=~'+latex(P_out)))"
   ]
  },
  {
   "cell_type": "code",
   "execution_count": 31,
   "id": "8a38e4b0-3c23-4767-98f5-a9ddf60726b5",
   "metadata": {},
   "outputs": [
    {
     "data": {
      "text/latex": [
       "$\\displaystyle \\mathit{Px} ~=~ \\left(-{\\left(\\mathit{Cp} \\mathit{Cu} + \\mathit{CvSp} \\mathit{Su}\\right)} \\mathit{Dx} + {\\left(\\mathit{Cu} \\mathit{SvSp} - \\mathit{Su} t\\right)} \\mathit{Dz} + {\\left({\\left(\\mathit{Cp} \\mathit{Cu} + \\mathit{CvSp} \\mathit{Su}\\right)} \\mathit{Cs} + {\\left(\\mathit{Cu} \\mathit{CvSp} - \\mathit{Su} r\\right)} \\mathit{Ss}\\right)} \\mathit{Qx} - {\\left({\\left(\\mathit{Cu} \\mathit{CvSp} - \\mathit{Su} r\\right)} \\mathit{Cs} - {\\left(\\mathit{Cp} \\mathit{Cu} + \\mathit{CvSp} \\mathit{Su}\\right)} \\mathit{Ss}\\right)} \\mathit{Qy} - {\\left(\\mathit{Cu} \\mathit{SvSp} - \\mathit{Su} t\\right)} \\mathit{Qz}\\right)$"
      ],
      "text/plain": [
       "<IPython.core.display.Math object>"
      ]
     },
     "metadata": {},
     "output_type": "display_data"
    },
    {
     "data": {
      "text/latex": [
       "$\\displaystyle \\mathit{Py} ~=~ \\left(-{\\left(\\mathit{Cu} \\mathit{CvSp} - \\mathit{Cp} \\mathit{Su}\\right)} \\mathit{Dx} - {\\left(\\mathit{Su} \\mathit{SvSp} + \\mathit{Cu} t\\right)} \\mathit{Dz} + {\\left({\\left(\\mathit{Cu} \\mathit{CvSp} - \\mathit{Cp} \\mathit{Su}\\right)} \\mathit{Cs} - {\\left(\\mathit{CvSp} \\mathit{Su} + \\mathit{Cu} r\\right)} \\mathit{Ss}\\right)} \\mathit{Qx} + {\\left({\\left(\\mathit{CvSp} \\mathit{Su} + \\mathit{Cu} r\\right)} \\mathit{Cs} + {\\left(\\mathit{Cu} \\mathit{CvSp} - \\mathit{Cp} \\mathit{Su}\\right)} \\mathit{Ss}\\right)} \\mathit{Qy} + {\\left(\\mathit{Su} \\mathit{SvSp} + \\mathit{Cu} t\\right)} \\mathit{Qz}\\right)$"
      ],
      "text/plain": [
       "<IPython.core.display.Math object>"
      ]
     },
     "metadata": {},
     "output_type": "display_data"
    },
    {
     "data": {
      "text/latex": [
       "$\\displaystyle \\mathit{Pz} ~=~ \\left({\\left(\\mathit{Cs} \\mathit{SvSp} - \\mathit{Ss} t\\right)} \\mathit{Qx} + {\\left(\\mathit{Ss} \\mathit{SvSp} + \\mathit{Cs} t\\right)} \\mathit{Qy} - \\mathit{Dx} \\mathit{SvSp} - \\mathit{Dz} s + \\mathit{Qz} s\\right)$"
      ],
      "text/plain": [
       "<IPython.core.display.Math object>"
      ]
     },
     "metadata": {},
     "output_type": "display_data"
    }
   ],
   "source": [
    "# Extract the joint-position vector P (INVERSE KINEMATICS) from\n",
    "# the fourth column of the inverse transformation matrix\n",
    "display(Math(latex(P_[0][0]) + rf'~=~'  + latex(P_out[0])))\n",
    "display(Math(latex(P_[1][0]) + rf'~=~'  + latex(P_out[1])))\n",
    "display(Math(latex(P_[2][0]) + rf'~=~'  + latex(P_out[2])))"
   ]
  },
  {
   "cell_type": "code",
   "execution_count": 32,
   "id": "d61ddff4-7d4a-454d-9f8c-bd934fa934a0",
   "metadata": {
    "scrolled": true
   },
   "outputs": [
    {
     "name": "stdout",
     "output_type": "stream",
     "text": [
      "//TCP kinematics INVERSE\n",
      "j[0] =  (-(Cp*Cu + CvSp*Su)*Dx + (Cu*SvSp - Su*t)*Dz + ((Cp*Cu + CvSp*Su)*Cs + (Cu*CvSp - Su*r)*Ss)*Qx - ((Cu*CvSp - Su*r)*Cs - (Cp*Cu + CvSp*Su)*Ss)*Qy - (Cu*SvSp - Su*t)*Qz) ;\n",
      "j[1] =  (-(Cu*CvSp - Cp*Su)*Dx - (Su*SvSp + Cu*t)*Dz + ((Cu*CvSp - Cp*Su)*Cs - (CvSp*Su + Cu*r)*Ss)*Qx + ((CvSp*Su + Cu*r)*Cs + (Cu*CvSp - Cp*Su)*Ss)*Qy + (Su*SvSp + Cu*t)*Qz) ;\n",
      "j[2] =  ((Cs*SvSp - Ss*t)*Qx + (Ss*SvSp + Cs*t)*Qy - Dx*SvSp - Dz*s + Qz*s) ;\n"
     ]
    }
   ],
   "source": [
    "# expressions as used in kinematics component\n",
    "print('//TCP kinematics INVERSE')\n",
    "print('j[0] = ', P_out[0], ';')\n",
    "print('j[1] = ', P_out[1], ';')\n",
    "print('j[2] = ', P_out[2], ';')"
   ]
  },
  {
   "cell_type": "markdown",
   "id": "4ca650dc-4637-4111-9118-cedfe1955d38",
   "metadata": {},
   "source": [
    "Note that our machine reference point has now shifted from the rotation point of the table rotary assembly along the offsets to the center of the rotary table which is fine for this example."
   ]
  },
  {
   "cell_type": "markdown",
   "id": "898ed813-6705-4581-be10-3d70b85c0da3",
   "metadata": {},
   "source": [
    "-------"
   ]
  },
  {
   "cell_type": "markdown",
   "id": "69e198fa-e3c6-462e-891a-c436cfffbdcd",
   "metadata": {},
   "source": [
    "## Excursion: Shifting the reference point back to the rotation point\n",
    "\n",
    "If we wanted the machine reference to remain in the rotation point we would need to add another link to the kinematic chain:<br>"
   ]
  },
  {
   "cell_type": "markdown",
   "id": "8e5ff17c-5450-48d8-b8b4-17c3c1f4776a",
   "metadata": {},
   "source": [
    "### Forward kinematic\n",
    "We set $P=(Px,Py,Pz)=(0,0,0)$ <br>\n",
    "and $\\theta_p = \\theta_s = 0$ which gives $Sp=Ss=0,~ Cp=Cs=1,~ t=0,~ r=s=1$<br>\n",
    "With these input values our current forward kinematic"
   ]
  },
  {
   "cell_type": "code",
   "execution_count": 33,
   "id": "fec24a71-f6a5-4d32-bf40-502ffa878a7e",
   "metadata": {},
   "outputs": [
    {
     "data": {
      "text/latex": [
       "$\\displaystyle Q =~ \\left(\\begin{array}{r}\n",
       "\\mathit{Qx} \\\\\n",
       "\\mathit{Qy} \\\\\n",
       "\\mathit{Qz} \\\\\n",
       "1\n",
       "\\end{array}\\right) =~ \\left(\\begin{array}{r}\n",
       "\\mathit{Cs} \\mathit{Dx} + {\\left({\\left(\\mathit{Cp} \\mathit{Cu} + \\mathit{CvSp} \\mathit{Su}\\right)} \\mathit{Cs} + {\\left(\\mathit{Cu} \\mathit{CvSp} - \\mathit{Su} r\\right)} \\mathit{Ss}\\right)} \\mathit{Px} + {\\left({\\left(\\mathit{Cu} \\mathit{CvSp} - \\mathit{Cp} \\mathit{Su}\\right)} \\mathit{Cs} - {\\left(\\mathit{CvSp} \\mathit{Su} + \\mathit{Cu} r\\right)} \\mathit{Ss}\\right)} \\mathit{Py} + {\\left(\\mathit{Cs} \\mathit{SvSp} - \\mathit{Ss} t\\right)} \\mathit{Pz} \\\\\n",
       "-{\\left({\\left(\\mathit{Cu} \\mathit{CvSp} - \\mathit{Su} r\\right)} \\mathit{Cs} - {\\left(\\mathit{Cp} \\mathit{Cu} + \\mathit{CvSp} \\mathit{Su}\\right)} \\mathit{Ss}\\right)} \\mathit{Px} + {\\left({\\left(\\mathit{CvSp} \\mathit{Su} + \\mathit{Cu} r\\right)} \\mathit{Cs} + {\\left(\\mathit{Cu} \\mathit{CvSp} - \\mathit{Cp} \\mathit{Su}\\right)} \\mathit{Ss}\\right)} \\mathit{Py} + {\\left(\\mathit{Ss} \\mathit{SvSp} + \\mathit{Cs} t\\right)} \\mathit{Pz} + \\mathit{Dx} \\mathit{Ss} \\\\\n",
       "-{\\left(\\mathit{Cu} \\mathit{SvSp} - \\mathit{Su} t\\right)} \\mathit{Px} + {\\left(\\mathit{Su} \\mathit{SvSp} + \\mathit{Cu} t\\right)} \\mathit{Py} + \\mathit{Pz} s + \\mathit{Dz} \\\\\n",
       "1\n",
       "\\end{array}\\right)$"
      ],
      "text/plain": [
       "<IPython.core.display.Math object>"
      ]
     },
     "metadata": {},
     "output_type": "display_data"
    }
   ],
   "source": [
    "display(Math(rf'Q =~'+latex(Q_)+rf'=~'+latex(Q_out)))"
   ]
  },
  {
   "cell_type": "markdown",
   "id": "96762449-e711-4390-9c6c-dc0337898876",
   "metadata": {},
   "source": [
    "results in $Q(Dx,0,Dz)$ \n",
    "Which is the reason our machine reference point has been moved to the face center of the rotary C. So in order to move the machine reference back to the rotation-point of the rotary assembly we need to add the offset values $(-Dx,-Dz)$ to the result of our forward kinematic which we can do in the form of a vector translation by $T_{io}$ "
   ]
  },
  {
   "cell_type": "markdown",
   "id": "2b74c5cd-5587-444e-a20d-07b0378509ae",
   "metadata": {},
   "source": [
    "that is multiplied with our forward transformation matrix from the left.\n",
    "\n",
    "\n",
    "\\begin{equation}\n",
    " ^QA_P=~ T_io \\cdot R_s \\cdot T_o \\cdot R_p\n",
    "\\end{equation}"
   ]
  },
  {
   "cell_type": "code",
   "execution_count": 34,
   "id": "d0a998c6-37ff-4c78-8537-62c088f6db1a",
   "metadata": {},
   "outputs": [
    {
     "data": {
      "text/latex": [
       "$\\displaystyle ^QA_P =~~ \\left(\\begin{array}{rrrr}\n",
       "1 & 0 & 0 & -\\mathit{Dx} \\\\\n",
       "0 & 1 & 0 & 0 \\\\\n",
       "0 & 0 & 1 & -\\mathit{Dz} \\\\\n",
       "0 & 0 & 0 & 1\n",
       "\\end{array}\\right) \\cdot \\left(\\begin{array}{rrrr}\n",
       "\\mathit{Cs} & -\\mathit{Ss} & 0 & 0 \\\\\n",
       "\\mathit{Ss} & \\mathit{Cs} & 0 & 0 \\\\\n",
       "0 & 0 & 1 & 0 \\\\\n",
       "0 & 0 & 0 & 1\n",
       "\\end{array}\\right) \\cdot \\left(\\begin{array}{rrrr}\n",
       "1 & 0 & 0 & \\mathit{Dx} \\\\\n",
       "0 & 1 & 0 & 0 \\\\\n",
       "0 & 0 & 1 & \\mathit{Dz} \\\\\n",
       "0 & 0 & 0 & 1\n",
       "\\end{array}\\right) \\cdot \\left(\\begin{array}{rrrr}\n",
       "\\mathit{Cp} \\mathit{Cu} + \\mathit{CvSp} \\mathit{Su} & \\mathit{Cu} \\mathit{CvSp} - \\mathit{Cp} \\mathit{Su} & \\mathit{SvSp} & 0 \\\\\n",
       "-\\mathit{Cu} \\mathit{CvSp} + \\mathit{Su} r & \\mathit{CvSp} \\mathit{Su} + \\mathit{Cu} r & t & 0 \\\\\n",
       "-\\mathit{Cu} \\mathit{SvSp} + \\mathit{Su} t & \\mathit{Su} \\mathit{SvSp} + \\mathit{Cu} t & s & 0 \\\\\n",
       "0 & 0 & 0 & 1\n",
       "\\end{array}\\right)$"
      ],
      "text/plain": [
       "<IPython.core.display.Math object>"
      ]
     },
     "metadata": {},
     "output_type": "display_data"
    },
    {
     "data": {
      "text/latex": [
       "$\\displaystyle ^QA_P =~~ \\left(\\begin{array}{rrrr}\n",
       "{\\left(\\mathit{Cp} \\mathit{Cu} + \\mathit{CvSp} \\mathit{Su}\\right)} \\mathit{Cs} + {\\left(\\mathit{Cu} \\mathit{CvSp} - \\mathit{Su} r\\right)} \\mathit{Ss} & {\\left(\\mathit{Cu} \\mathit{CvSp} - \\mathit{Cp} \\mathit{Su}\\right)} \\mathit{Cs} - {\\left(\\mathit{CvSp} \\mathit{Su} + \\mathit{Cu} r\\right)} \\mathit{Ss} & \\mathit{Cs} \\mathit{SvSp} - \\mathit{Ss} t & \\mathit{Cs} \\mathit{Dx} - \\mathit{Dx} \\\\\n",
       "-{\\left(\\mathit{Cu} \\mathit{CvSp} - \\mathit{Su} r\\right)} \\mathit{Cs} + {\\left(\\mathit{Cp} \\mathit{Cu} + \\mathit{CvSp} \\mathit{Su}\\right)} \\mathit{Ss} & {\\left(\\mathit{CvSp} \\mathit{Su} + \\mathit{Cu} r\\right)} \\mathit{Cs} + {\\left(\\mathit{Cu} \\mathit{CvSp} - \\mathit{Cp} \\mathit{Su}\\right)} \\mathit{Ss} & \\mathit{Ss} \\mathit{SvSp} + \\mathit{Cs} t & \\mathit{Dx} \\mathit{Ss} \\\\\n",
       "-\\mathit{Cu} \\mathit{SvSp} + \\mathit{Su} t & \\mathit{Su} \\mathit{SvSp} + \\mathit{Cu} t & s & 0 \\\\\n",
       "0 & 0 & 0 & 1\n",
       "\\end{array}\\right)$"
      ],
      "text/plain": [
       "<IPython.core.display.Math object>"
      ]
     },
     "metadata": {},
     "output_type": "display_data"
    }
   ],
   "source": [
    "# calculate the forward transformation matrix\n",
    "qAp=Tio*Rs*To*Rp\n",
    "display(Math(rf'^QA_P =~~'+latex(Tio)+rf'\\cdot'+latex(Rs)+rf'\\cdot'+latex(To)+rf'\\cdot'+latex(Rp)))\n",
    "display(Math(rf'^QA_P =~~'+latex(qAp)))"
   ]
  },
  {
   "cell_type": "code",
   "execution_count": 35,
   "id": "dfa32542-c4f9-40ff-91f8-ac9667e6ef25",
   "metadata": {},
   "outputs": [
    {
     "data": {
      "text/latex": [
       "$\\displaystyle Q =~ \\left(\\begin{array}{r}\n",
       "\\mathit{Qx} \\\\\n",
       "\\mathit{Qy} \\\\\n",
       "\\mathit{Qz} \\\\\n",
       "1\n",
       "\\end{array}\\right) =~^QA_P \\cdot P =~ \\left(\\begin{array}{rrrr}\n",
       "{\\left(\\mathit{Cp} \\mathit{Cu} + \\mathit{CvSp} \\mathit{Su}\\right)} \\mathit{Cs} + {\\left(\\mathit{Cu} \\mathit{CvSp} - \\mathit{Su} r\\right)} \\mathit{Ss} & {\\left(\\mathit{Cu} \\mathit{CvSp} - \\mathit{Cp} \\mathit{Su}\\right)} \\mathit{Cs} - {\\left(\\mathit{CvSp} \\mathit{Su} + \\mathit{Cu} r\\right)} \\mathit{Ss} & \\mathit{Cs} \\mathit{SvSp} - \\mathit{Ss} t & \\mathit{Cs} \\mathit{Dx} - \\mathit{Dx} \\\\\n",
       "-{\\left(\\mathit{Cu} \\mathit{CvSp} - \\mathit{Su} r\\right)} \\mathit{Cs} + {\\left(\\mathit{Cp} \\mathit{Cu} + \\mathit{CvSp} \\mathit{Su}\\right)} \\mathit{Ss} & {\\left(\\mathit{CvSp} \\mathit{Su} + \\mathit{Cu} r\\right)} \\mathit{Cs} + {\\left(\\mathit{Cu} \\mathit{CvSp} - \\mathit{Cp} \\mathit{Su}\\right)} \\mathit{Ss} & \\mathit{Ss} \\mathit{SvSp} + \\mathit{Cs} t & \\mathit{Dx} \\mathit{Ss} \\\\\n",
       "-\\mathit{Cu} \\mathit{SvSp} + \\mathit{Su} t & \\mathit{Su} \\mathit{SvSp} + \\mathit{Cu} t & s & 0 \\\\\n",
       "0 & 0 & 0 & 1\n",
       "\\end{array}\\right) \\cdot \\left(\\begin{array}{r}\n",
       "\\mathit{Px} \\\\\n",
       "\\mathit{Py} \\\\\n",
       "\\mathit{Pz} \\\\\n",
       "1\n",
       "\\end{array}\\right) =~ \\left(\\begin{array}{r}\n",
       "\\mathit{Cs} \\mathit{Dx} + {\\left({\\left(\\mathit{Cp} \\mathit{Cu} + \\mathit{CvSp} \\mathit{Su}\\right)} \\mathit{Cs} + {\\left(\\mathit{Cu} \\mathit{CvSp} - \\mathit{Su} r\\right)} \\mathit{Ss}\\right)} \\mathit{Px} + {\\left({\\left(\\mathit{Cu} \\mathit{CvSp} - \\mathit{Cp} \\mathit{Su}\\right)} \\mathit{Cs} - {\\left(\\mathit{CvSp} \\mathit{Su} + \\mathit{Cu} r\\right)} \\mathit{Ss}\\right)} \\mathit{Py} + {\\left(\\mathit{Cs} \\mathit{SvSp} - \\mathit{Ss} t\\right)} \\mathit{Pz} - \\mathit{Dx} \\\\\n",
       "-{\\left({\\left(\\mathit{Cu} \\mathit{CvSp} - \\mathit{Su} r\\right)} \\mathit{Cs} - {\\left(\\mathit{Cp} \\mathit{Cu} + \\mathit{CvSp} \\mathit{Su}\\right)} \\mathit{Ss}\\right)} \\mathit{Px} + {\\left({\\left(\\mathit{CvSp} \\mathit{Su} + \\mathit{Cu} r\\right)} \\mathit{Cs} + {\\left(\\mathit{Cu} \\mathit{CvSp} - \\mathit{Cp} \\mathit{Su}\\right)} \\mathit{Ss}\\right)} \\mathit{Py} + {\\left(\\mathit{Ss} \\mathit{SvSp} + \\mathit{Cs} t\\right)} \\mathit{Pz} + \\mathit{Dx} \\mathit{Ss} \\\\\n",
       "-{\\left(\\mathit{Cu} \\mathit{SvSp} - \\mathit{Su} t\\right)} \\mathit{Px} + {\\left(\\mathit{Su} \\mathit{SvSp} + \\mathit{Cu} t\\right)} \\mathit{Py} + \\mathit{Pz} s \\\\\n",
       "1\n",
       "\\end{array}\\right)$"
      ],
      "text/plain": [
       "<IPython.core.display.Math object>"
      ]
     },
     "metadata": {},
     "output_type": "display_data"
    }
   ],
   "source": [
    "# calculate the forward kinematic\n",
    "Q_out=qAp*P_\n",
    "display(Math(rf'Q =~'+latex(Q_)+rf'=~^QA_P \\cdot P'+rf'=~'+latex(qAp)+rf'\\cdot'+latex(P_)+rf'=~'+latex(Q_out)))"
   ]
  },
  {
   "cell_type": "code",
   "execution_count": 36,
   "id": "3398247c-3986-4c4d-ad34-15a27b39a52c",
   "metadata": {},
   "outputs": [
    {
     "data": {
      "text/latex": [
       "$\\displaystyle \\mathit{Qx} ~=~ \\left(\\mathit{Cs} \\mathit{Dx} + {\\left({\\left(\\mathit{Cp} \\mathit{Cu} + \\mathit{CvSp} \\mathit{Su}\\right)} \\mathit{Cs} + {\\left(\\mathit{Cu} \\mathit{CvSp} - \\mathit{Su} r\\right)} \\mathit{Ss}\\right)} \\mathit{Px} + {\\left({\\left(\\mathit{Cu} \\mathit{CvSp} - \\mathit{Cp} \\mathit{Su}\\right)} \\mathit{Cs} - {\\left(\\mathit{CvSp} \\mathit{Su} + \\mathit{Cu} r\\right)} \\mathit{Ss}\\right)} \\mathit{Py} + {\\left(\\mathit{Cs} \\mathit{SvSp} - \\mathit{Ss} t\\right)} \\mathit{Pz} - \\mathit{Dx}\\right)$"
      ],
      "text/plain": [
       "<IPython.core.display.Math object>"
      ]
     },
     "metadata": {},
     "output_type": "display_data"
    },
    {
     "data": {
      "text/latex": [
       "$\\displaystyle \\mathit{Qy} ~=~ \\left(-{\\left({\\left(\\mathit{Cu} \\mathit{CvSp} - \\mathit{Su} r\\right)} \\mathit{Cs} - {\\left(\\mathit{Cp} \\mathit{Cu} + \\mathit{CvSp} \\mathit{Su}\\right)} \\mathit{Ss}\\right)} \\mathit{Px} + {\\left({\\left(\\mathit{CvSp} \\mathit{Su} + \\mathit{Cu} r\\right)} \\mathit{Cs} + {\\left(\\mathit{Cu} \\mathit{CvSp} - \\mathit{Cp} \\mathit{Su}\\right)} \\mathit{Ss}\\right)} \\mathit{Py} + {\\left(\\mathit{Ss} \\mathit{SvSp} + \\mathit{Cs} t\\right)} \\mathit{Pz} + \\mathit{Dx} \\mathit{Ss}\\right)$"
      ],
      "text/plain": [
       "<IPython.core.display.Math object>"
      ]
     },
     "metadata": {},
     "output_type": "display_data"
    },
    {
     "data": {
      "text/latex": [
       "$\\displaystyle \\mathit{Qz} ~=~ \\left(-{\\left(\\mathit{Cu} \\mathit{SvSp} - \\mathit{Su} t\\right)} \\mathit{Px} + {\\left(\\mathit{Su} \\mathit{SvSp} + \\mathit{Cu} t\\right)} \\mathit{Py} + \\mathit{Pz} s\\right)$"
      ],
      "text/plain": [
       "<IPython.core.display.Math object>"
      ]
     },
     "metadata": {},
     "output_type": "display_data"
    }
   ],
   "source": [
    "# Extract the tool-position vector Q (FORWARD KINEMATICS) from\n",
    "# the fourth column of the forward transformation matrix\n",
    "display(Math(latex(Q_[0][0]) + rf'~=~'  + latex(Q_out[0])))\n",
    "display(Math(latex(Q_[1][0]) + rf'~=~'  + latex(Q_out[1])))\n",
    "display(Math(latex(Q_[2][0]) + rf'~=~'  + latex(Q_out[2])))"
   ]
  },
  {
   "cell_type": "code",
   "execution_count": 37,
   "id": "24983687-bcfe-4f76-b437-86dedcec24f3",
   "metadata": {},
   "outputs": [
    {
     "name": "stdout",
     "output_type": "stream",
     "text": [
      "//TCP kinematics FORWARD\n",
      "pos->tran.x =  (Cs*Dx + ((Cp*Cu + CvSp*Su)*Cs + (Cu*CvSp - Su*r)*Ss)*Px + ((Cu*CvSp - Cp*Su)*Cs - (CvSp*Su + Cu*r)*Ss)*Py + (Cs*SvSp - Ss*t)*Pz - Dx) ;\n",
      "pos->tran.y =  (-((Cu*CvSp - Su*r)*Cs - (Cp*Cu + CvSp*Su)*Ss)*Px + ((CvSp*Su + Cu*r)*Cs + (Cu*CvSp - Cp*Su)*Ss)*Py + (Ss*SvSp + Cs*t)*Pz + Dx*Ss) ;\n",
      "pos->tran.z =  (-(Cu*SvSp - Su*t)*Px + (Su*SvSp + Cu*t)*Py + Pz*s) ;\n"
     ]
    }
   ],
   "source": [
    "# expressions as used in kinematics component\n",
    "print('//TCP kinematics FORWARD')\n",
    "print('pos->tran.x = ', Q_out[0], ';')\n",
    "print('pos->tran.y = ', Q_out[1], ';')\n",
    "print('pos->tran.z = ', Q_out[2], ';')"
   ]
  },
  {
   "cell_type": "markdown",
   "id": "c60fb51b-5eac-4de9-8a0e-e823481adb11",
   "metadata": {},
   "source": [
    "### Inverse transformation\n",
    "\n",
    "In the inverse transformation\n",
    "\n",
    "\\begin{equation}\n",
    " P=~^PA_Q \\cdot Q =~ R_p^T\\cdot  T_{io} \\cdot  R_s^T \\cdot Q \n",
    "\\end{equation}\n",
    "\n",
    " we have to add the offset values $Dx,Dz$ to the input values $Q$:"
   ]
  },
  {
   "cell_type": "code",
   "execution_count": 38,
   "id": "1a70ee96-888d-41ba-ac05-495c2511d92f",
   "metadata": {},
   "outputs": [
    {
     "data": {
      "text/latex": [
       "$\\displaystyle Q =~ \\left(\\begin{array}{r}\n",
       "\\mathit{Dx} + \\mathit{Qx} \\\\\n",
       "\\mathit{Qy} \\\\\n",
       "\\mathit{Dz} + \\mathit{Qz} \\\\\n",
       "1\n",
       "\\end{array}\\right)$"
      ],
      "text/plain": [
       "<IPython.core.display.Math object>"
      ]
     },
     "metadata": {},
     "output_type": "display_data"
    }
   ],
   "source": [
    "var('Qx','Qy','Qz')\n",
    "Q_in=matrix([[Qx+Dx],\n",
    "             [Qy],\n",
    "             [Qz+Dz],\n",
    "             [1]])\n",
    "display(Math(rf'Q =~'+latex(Q_in)))"
   ]
  },
  {
   "cell_type": "markdown",
   "id": "caba5441-5902-4c3f-a682-6b29ace92239",
   "metadata": {},
   "source": [
    "This is essentially the same as multiplying a translation vector to right side of our transformation matrix. To keep the math more readable we choose to subtract the values directly from the input."
   ]
  },
  {
   "cell_type": "code",
   "execution_count": 39,
   "id": "745b49cf-7e71-40e5-9dff-4349f018e3bc",
   "metadata": {},
   "outputs": [
    {
     "data": {
      "text/latex": [
       "$\\displaystyle ^PA_Q =~~ \\left(\\begin{array}{rrrr}\n",
       "{\\left(\\mathit{Cp} \\mathit{Cu} + \\mathit{CvSp} \\mathit{Su}\\right)} \\mathit{Cs} + {\\left(\\mathit{Cu} \\mathit{CvSp} - \\mathit{Su} r\\right)} \\mathit{Ss} & -{\\left(\\mathit{Cu} \\mathit{CvSp} - \\mathit{Su} r\\right)} \\mathit{Cs} + {\\left(\\mathit{Cp} \\mathit{Cu} + \\mathit{CvSp} \\mathit{Su}\\right)} \\mathit{Ss} & -\\mathit{Cu} \\mathit{SvSp} + \\mathit{Su} t & -{\\left(\\mathit{Cp} \\mathit{Cu} + \\mathit{CvSp} \\mathit{Su}\\right)} \\mathit{Dx} + {\\left(\\mathit{Cu} \\mathit{SvSp} - \\mathit{Su} t\\right)} \\mathit{Dz} \\\\\n",
       "{\\left(\\mathit{Cu} \\mathit{CvSp} - \\mathit{Cp} \\mathit{Su}\\right)} \\mathit{Cs} - {\\left(\\mathit{CvSp} \\mathit{Su} + \\mathit{Cu} r\\right)} \\mathit{Ss} & {\\left(\\mathit{CvSp} \\mathit{Su} + \\mathit{Cu} r\\right)} \\mathit{Cs} + {\\left(\\mathit{Cu} \\mathit{CvSp} - \\mathit{Cp} \\mathit{Su}\\right)} \\mathit{Ss} & \\mathit{Su} \\mathit{SvSp} + \\mathit{Cu} t & -{\\left(\\mathit{Cu} \\mathit{CvSp} - \\mathit{Cp} \\mathit{Su}\\right)} \\mathit{Dx} - {\\left(\\mathit{Su} \\mathit{SvSp} + \\mathit{Cu} t\\right)} \\mathit{Dz} \\\\\n",
       "\\mathit{Cs} \\mathit{SvSp} - \\mathit{Ss} t & \\mathit{Ss} \\mathit{SvSp} + \\mathit{Cs} t & s & -\\mathit{Dx} \\mathit{SvSp} - \\mathit{Dz} s \\\\\n",
       "0 & 0 & 0 & 1\n",
       "\\end{array}\\right)$"
      ],
      "text/plain": [
       "<IPython.core.display.Math object>"
      ]
     },
     "metadata": {},
     "output_type": "display_data"
    }
   ],
   "source": [
    "# nothing has changed in the inverse transformation matrix\n",
    "display(Math(rf'^PA_Q =~~'+latex(pAq)))"
   ]
  },
  {
   "cell_type": "code",
   "execution_count": 40,
   "id": "62e154d0-01a4-4b9e-bfe7-8052ebe17d96",
   "metadata": {},
   "outputs": [
    {
     "data": {
      "text/latex": [
       "$\\displaystyle P =~ \\left(\\begin{array}{r}\n",
       "\\mathit{Px} \\\\\n",
       "\\mathit{Py} \\\\\n",
       "\\mathit{Pz} \\\\\n",
       "1\n",
       "\\end{array}\\right) =~ \\left(\\begin{array}{rrrr}\n",
       "{\\left(\\mathit{Cp} \\mathit{Cu} + \\mathit{CvSp} \\mathit{Su}\\right)} \\mathit{Cs} + {\\left(\\mathit{Cu} \\mathit{CvSp} - \\mathit{Su} r\\right)} \\mathit{Ss} & -{\\left(\\mathit{Cu} \\mathit{CvSp} - \\mathit{Su} r\\right)} \\mathit{Cs} + {\\left(\\mathit{Cp} \\mathit{Cu} + \\mathit{CvSp} \\mathit{Su}\\right)} \\mathit{Ss} & -\\mathit{Cu} \\mathit{SvSp} + \\mathit{Su} t & -{\\left(\\mathit{Cp} \\mathit{Cu} + \\mathit{CvSp} \\mathit{Su}\\right)} \\mathit{Dx} + {\\left(\\mathit{Cu} \\mathit{SvSp} - \\mathit{Su} t\\right)} \\mathit{Dz} \\\\\n",
       "{\\left(\\mathit{Cu} \\mathit{CvSp} - \\mathit{Cp} \\mathit{Su}\\right)} \\mathit{Cs} - {\\left(\\mathit{CvSp} \\mathit{Su} + \\mathit{Cu} r\\right)} \\mathit{Ss} & {\\left(\\mathit{CvSp} \\mathit{Su} + \\mathit{Cu} r\\right)} \\mathit{Cs} + {\\left(\\mathit{Cu} \\mathit{CvSp} - \\mathit{Cp} \\mathit{Su}\\right)} \\mathit{Ss} & \\mathit{Su} \\mathit{SvSp} + \\mathit{Cu} t & -{\\left(\\mathit{Cu} \\mathit{CvSp} - \\mathit{Cp} \\mathit{Su}\\right)} \\mathit{Dx} - {\\left(\\mathit{Su} \\mathit{SvSp} + \\mathit{Cu} t\\right)} \\mathit{Dz} \\\\\n",
       "\\mathit{Cs} \\mathit{SvSp} - \\mathit{Ss} t & \\mathit{Ss} \\mathit{SvSp} + \\mathit{Cs} t & s & -\\mathit{Dx} \\mathit{SvSp} - \\mathit{Dz} s \\\\\n",
       "0 & 0 & 0 & 1\n",
       "\\end{array}\\right) \\cdot \\left(\\begin{array}{r}\n",
       "\\mathit{Dx} + \\mathit{Qx} \\\\\n",
       "\\mathit{Qy} \\\\\n",
       "\\mathit{Dz} + \\mathit{Qz} \\\\\n",
       "1\n",
       "\\end{array}\\right)$"
      ],
      "text/plain": [
       "<IPython.core.display.Math object>"
      ]
     },
     "metadata": {},
     "output_type": "display_data"
    },
    {
     "data": {
      "text/latex": [
       "$\\displaystyle P =~ \\left(\\begin{array}{r}\n",
       "\\mathit{Px} \\\\\n",
       "\\mathit{Py} \\\\\n",
       "\\mathit{Pz} \\\\\n",
       "1\n",
       "\\end{array}\\right) =~ \\left(\\begin{array}{r}\n",
       "{\\left({\\left(\\mathit{Cp} \\mathit{Cu} + \\mathit{CvSp} \\mathit{Su}\\right)} \\mathit{Cs} + {\\left(\\mathit{Cu} \\mathit{CvSp} - \\mathit{Su} r\\right)} \\mathit{Ss}\\right)} {\\left(\\mathit{Dx} + \\mathit{Qx}\\right)} - {\\left(\\mathit{Cp} \\mathit{Cu} + \\mathit{CvSp} \\mathit{Su}\\right)} \\mathit{Dx} - {\\left(\\mathit{Cu} \\mathit{SvSp} - \\mathit{Su} t\\right)} {\\left(\\mathit{Dz} + \\mathit{Qz}\\right)} + {\\left(\\mathit{Cu} \\mathit{SvSp} - \\mathit{Su} t\\right)} \\mathit{Dz} - {\\left({\\left(\\mathit{Cu} \\mathit{CvSp} - \\mathit{Su} r\\right)} \\mathit{Cs} - {\\left(\\mathit{Cp} \\mathit{Cu} + \\mathit{CvSp} \\mathit{Su}\\right)} \\mathit{Ss}\\right)} \\mathit{Qy} \\\\\n",
       "{\\left({\\left(\\mathit{Cu} \\mathit{CvSp} - \\mathit{Cp} \\mathit{Su}\\right)} \\mathit{Cs} - {\\left(\\mathit{CvSp} \\mathit{Su} + \\mathit{Cu} r\\right)} \\mathit{Ss}\\right)} {\\left(\\mathit{Dx} + \\mathit{Qx}\\right)} - {\\left(\\mathit{Cu} \\mathit{CvSp} - \\mathit{Cp} \\mathit{Su}\\right)} \\mathit{Dx} + {\\left(\\mathit{Su} \\mathit{SvSp} + \\mathit{Cu} t\\right)} {\\left(\\mathit{Dz} + \\mathit{Qz}\\right)} - {\\left(\\mathit{Su} \\mathit{SvSp} + \\mathit{Cu} t\\right)} \\mathit{Dz} + {\\left({\\left(\\mathit{CvSp} \\mathit{Su} + \\mathit{Cu} r\\right)} \\mathit{Cs} + {\\left(\\mathit{Cu} \\mathit{CvSp} - \\mathit{Cp} \\mathit{Su}\\right)} \\mathit{Ss}\\right)} \\mathit{Qy} \\\\\n",
       "{\\left(\\mathit{Cs} \\mathit{SvSp} - \\mathit{Ss} t\\right)} {\\left(\\mathit{Dx} + \\mathit{Qx}\\right)} + {\\left(\\mathit{Ss} \\mathit{SvSp} + \\mathit{Cs} t\\right)} \\mathit{Qy} - \\mathit{Dx} \\mathit{SvSp} + {\\left(\\mathit{Dz} + \\mathit{Qz}\\right)} s - \\mathit{Dz} s \\\\\n",
       "1\n",
       "\\end{array}\\right)$"
      ],
      "text/plain": [
       "<IPython.core.display.Math object>"
      ]
     },
     "metadata": {},
     "output_type": "display_data"
    }
   ],
   "source": [
    "# calculate the inverse kinematic\n",
    "P_out=pAq*Q_in\n",
    "display(Math(rf'P =~'+latex(P_)+rf'=~'+latex(pAq)+rf'\\cdot'+latex(Q_in)))\n",
    "display(Math(rf'P =~'+latex(P_)+rf'=~'+latex(P_out)))"
   ]
  },
  {
   "cell_type": "code",
   "execution_count": 41,
   "id": "31df7e2a-cb74-45b5-8857-76ab06ae554c",
   "metadata": {},
   "outputs": [
    {
     "data": {
      "text/latex": [
       "$\\displaystyle \\mathit{Px} ~=~ \\left({\\left({\\left(\\mathit{Cp} \\mathit{Cu} + \\mathit{CvSp} \\mathit{Su}\\right)} \\mathit{Cs} + {\\left(\\mathit{Cu} \\mathit{CvSp} - \\mathit{Su} r\\right)} \\mathit{Ss}\\right)} {\\left(\\mathit{Dx} + \\mathit{Qx}\\right)} - {\\left(\\mathit{Cp} \\mathit{Cu} + \\mathit{CvSp} \\mathit{Su}\\right)} \\mathit{Dx} - {\\left(\\mathit{Cu} \\mathit{SvSp} - \\mathit{Su} t\\right)} {\\left(\\mathit{Dz} + \\mathit{Qz}\\right)} + {\\left(\\mathit{Cu} \\mathit{SvSp} - \\mathit{Su} t\\right)} \\mathit{Dz} - {\\left({\\left(\\mathit{Cu} \\mathit{CvSp} - \\mathit{Su} r\\right)} \\mathit{Cs} - {\\left(\\mathit{Cp} \\mathit{Cu} + \\mathit{CvSp} \\mathit{Su}\\right)} \\mathit{Ss}\\right)} \\mathit{Qy}\\right)$"
      ],
      "text/plain": [
       "<IPython.core.display.Math object>"
      ]
     },
     "metadata": {},
     "output_type": "display_data"
    },
    {
     "data": {
      "text/latex": [
       "$\\displaystyle \\mathit{Py} ~=~ \\left({\\left({\\left(\\mathit{Cu} \\mathit{CvSp} - \\mathit{Cp} \\mathit{Su}\\right)} \\mathit{Cs} - {\\left(\\mathit{CvSp} \\mathit{Su} + \\mathit{Cu} r\\right)} \\mathit{Ss}\\right)} {\\left(\\mathit{Dx} + \\mathit{Qx}\\right)} - {\\left(\\mathit{Cu} \\mathit{CvSp} - \\mathit{Cp} \\mathit{Su}\\right)} \\mathit{Dx} + {\\left(\\mathit{Su} \\mathit{SvSp} + \\mathit{Cu} t\\right)} {\\left(\\mathit{Dz} + \\mathit{Qz}\\right)} - {\\left(\\mathit{Su} \\mathit{SvSp} + \\mathit{Cu} t\\right)} \\mathit{Dz} + {\\left({\\left(\\mathit{CvSp} \\mathit{Su} + \\mathit{Cu} r\\right)} \\mathit{Cs} + {\\left(\\mathit{Cu} \\mathit{CvSp} - \\mathit{Cp} \\mathit{Su}\\right)} \\mathit{Ss}\\right)} \\mathit{Qy}\\right)$"
      ],
      "text/plain": [
       "<IPython.core.display.Math object>"
      ]
     },
     "metadata": {},
     "output_type": "display_data"
    },
    {
     "data": {
      "text/latex": [
       "$\\displaystyle \\mathit{Pz} ~=~ \\left({\\left(\\mathit{Cs} \\mathit{SvSp} - \\mathit{Ss} t\\right)} {\\left(\\mathit{Dx} + \\mathit{Qx}\\right)} + {\\left(\\mathit{Ss} \\mathit{SvSp} + \\mathit{Cs} t\\right)} \\mathit{Qy} - \\mathit{Dx} \\mathit{SvSp} + {\\left(\\mathit{Dz} + \\mathit{Qz}\\right)} s - \\mathit{Dz} s\\right)$"
      ],
      "text/plain": [
       "<IPython.core.display.Math object>"
      ]
     },
     "metadata": {},
     "output_type": "display_data"
    }
   ],
   "source": [
    "# Extract the joint-position vector P (INVERSE KINEMATICS) from\n",
    "# the fourth column of the inverse transformation matrix\n",
    "display(Math(latex(P_[0][0]) + rf'~=~'  + latex(P_out[0])))\n",
    "display(Math(latex(P_[1][0]) + rf'~=~'  + latex(P_out[1])))\n",
    "display(Math(latex(P_[2][0]) + rf'~=~'  + latex(P_out[2])))"
   ]
  },
  {
   "cell_type": "code",
   "execution_count": 42,
   "id": "933bd9f0-806e-4112-9976-173f93db6af3",
   "metadata": {},
   "outputs": [
    {
     "name": "stdout",
     "output_type": "stream",
     "text": [
      "//TCP kinematics INVERSE\n",
      "j[0] =  (((Cp*Cu + CvSp*Su)*Cs + (Cu*CvSp - Su*r)*Ss)*(Dx + Qx) - (Cp*Cu + CvSp*Su)*Dx - (Cu*SvSp - Su*t)*(Dz + Qz) + (Cu*SvSp - Su*t)*Dz - ((Cu*CvSp - Su*r)*Cs - (Cp*Cu + CvSp*Su)*Ss)*Qy) ;\n",
      "j[1] =  (((Cu*CvSp - Cp*Su)*Cs - (CvSp*Su + Cu*r)*Ss)*(Dx + Qx) - (Cu*CvSp - Cp*Su)*Dx + (Su*SvSp + Cu*t)*(Dz + Qz) - (Su*SvSp + Cu*t)*Dz + ((CvSp*Su + Cu*r)*Cs + (Cu*CvSp - Cp*Su)*Ss)*Qy) ;\n",
      "j[2] =  ((Cs*SvSp - Ss*t)*(Dx + Qx) + (Ss*SvSp + Cs*t)*Qy - Dx*SvSp + (Dz + Qz)*s - Dz*s) ;\n"
     ]
    }
   ],
   "source": [
    "# expressions as used in kinematics component\n",
    "print('//TCP kinematics INVERSE')\n",
    "print('j[0] = ', P_out[0], ';')\n",
    "print('j[1] = ', P_out[1], ';')\n",
    "print('j[2] = ', P_out[2], ';')"
   ]
  },
  {
   "cell_type": "markdown",
   "id": "28b9bc07-c3c1-4383-939d-c4ed8d98f9c9",
   "metadata": {},
   "source": [
    "## End of Excursion\n",
    "\n",
    "-----"
   ]
  },
  {
   "cell_type": "markdown",
   "id": "41539577-aff1-47b6-9fdc-9efee03bf9aa",
   "metadata": {},
   "source": [
    "## Tool length offset (TLO)\n",
    "\n",
    "Tool-length compensation is applied automatically in LinuxCNC by subtracting the tool-length value *Dt* stored in the tool table from the the z-axis coordinate position while the joint position value remains unchanged. In it's current form our forward kinematic model assumes that the joint position $P$ is identical to the tool position and uses the joint position value $P(Px,Py,Pz)$ to calculate the coordinate value $Q(Qx,Qy,Qz)$. Hence our kinematic model does not see a tool position change when TLO is activated by G43.\n",
    "\n",
    "\n",
    "### Forward kinematics\n",
    "\n",
    "To illustrate the situation we assume that the machine coordinate system origin (ie G53 X0Y0Z0) coincides with the rotation point of our rotary assembly. Further assuming that a tool could be positioned in this location we would expect that without any tool-length compensation (G49) a tool positioned here (G0 X0Y0Z0) would be unaffected by any rotation of either B or C and that is indeed the case:"
   ]
  },
  {
   "cell_type": "code",
   "execution_count": 43,
   "id": "c2aa11d9-1f7c-454d-ae64-0d169a540281",
   "metadata": {},
   "outputs": [
    {
     "data": {
      "text/latex": [
       "$\\displaystyle Q =~ \\left(\\begin{array}{r}\n",
       "\\mathit{Qx} \\\\\n",
       "\\mathit{Qy} \\\\\n",
       "\\mathit{Qz} \\\\\n",
       "1\n",
       "\\end{array}\\right) =~ \\left(\\begin{array}{r}\n",
       "\\mathit{Cs} \\mathit{Dx} + {\\left({\\left(\\mathit{Cp} \\mathit{Cu} + \\mathit{CvSp} \\mathit{Su}\\right)} \\mathit{Cs} + {\\left(\\mathit{Cu} \\mathit{CvSp} - \\mathit{Su} r\\right)} \\mathit{Ss}\\right)} \\mathit{Px} + {\\left({\\left(\\mathit{Cu} \\mathit{CvSp} - \\mathit{Cp} \\mathit{Su}\\right)} \\mathit{Cs} - {\\left(\\mathit{CvSp} \\mathit{Su} + \\mathit{Cu} r\\right)} \\mathit{Ss}\\right)} \\mathit{Py} + {\\left(\\mathit{Cs} \\mathit{SvSp} - \\mathit{Ss} t\\right)} \\mathit{Pz} - \\mathit{Dx} \\\\\n",
       "-{\\left({\\left(\\mathit{Cu} \\mathit{CvSp} - \\mathit{Su} r\\right)} \\mathit{Cs} - {\\left(\\mathit{Cp} \\mathit{Cu} + \\mathit{CvSp} \\mathit{Su}\\right)} \\mathit{Ss}\\right)} \\mathit{Px} + {\\left({\\left(\\mathit{CvSp} \\mathit{Su} + \\mathit{Cu} r\\right)} \\mathit{Cs} + {\\left(\\mathit{Cu} \\mathit{CvSp} - \\mathit{Cp} \\mathit{Su}\\right)} \\mathit{Ss}\\right)} \\mathit{Py} + {\\left(\\mathit{Ss} \\mathit{SvSp} + \\mathit{Cs} t\\right)} \\mathit{Pz} + \\mathit{Dx} \\mathit{Ss} \\\\\n",
       "-{\\left(\\mathit{Cu} \\mathit{SvSp} - \\mathit{Su} t\\right)} \\mathit{Px} + {\\left(\\mathit{Su} \\mathit{SvSp} + \\mathit{Cu} t\\right)} \\mathit{Py} + \\mathit{Pz} s \\\\\n",
       "1\n",
       "\\end{array}\\right)$"
      ],
      "text/plain": [
       "<IPython.core.display.Math object>"
      ]
     },
     "metadata": {},
     "output_type": "display_data"
    }
   ],
   "source": [
    "display(Math(rf'Q =~'+latex(Q_)+rf'=~'+latex(Q_out)))"
   ]
  },
  {
   "cell_type": "markdown",
   "id": "7b103917-061e-4891-9e11-e5cc690da0ab",
   "metadata": {},
   "source": [
    "It is easy to see that for $Dx=Dz=0$ and $P(0,0,0)$ the result is indeed $Q(0,0,0)$ and this is what we expected."
   ]
  },
  {
   "cell_type": "markdown",
   "id": "cb0a118a-e1e8-4075-b689-3156aded2b50",
   "metadata": {},
   "source": [
    "However there is a problem: <br>\n",
    "If we apply tool-length compensation (ie G43) and we move the tool to G0 X0Y0Z0  so the tool center point (TCP) is again positioned at the machine reference point our DRO would no longer display the expected coordinates (0,0,0). Since our tool tip is now located in the machine reference point and due to the way TLO is handled by LinuxCNC our joint-position is now $P(0,0,Dt)$. As $P_z$ is no longer zero our forward kinematic will result in $Q(0,0,sP_z)$.<br>\n",
    "To solve this problem we need to subtract the tool-offset value *Dt* from the z joint position before feeding it into the forward kinematic. In this way our joint-position becomes $P(0,0,0)$ which will then give us the desired result of $Q(0,0,0)$. <br>"
   ]
  },
  {
   "cell_type": "code",
   "execution_count": 44,
   "id": "d0096fe6-89af-4464-b440-f4b4dbae56eb",
   "metadata": {},
   "outputs": [
    {
     "data": {
      "text/latex": [
       "$\\displaystyle P =~ \\left(\\begin{array}{r}\n",
       "\\mathit{Px} \\\\\n",
       "\\mathit{Py} \\\\\n",
       "-\\mathit{Dt} + \\mathit{Pz} \\\\\n",
       "1\n",
       "\\end{array}\\right)$"
      ],
      "text/plain": [
       "<IPython.core.display.Math object>"
      ]
     },
     "metadata": {},
     "output_type": "display_data"
    }
   ],
   "source": [
    "var('Px','Py','Pz','Dt')\n",
    "P_in=matrix([[Px],\n",
    "             [Py],\n",
    "             [Pz - Dt],\n",
    "             [1]])\n",
    "display(Math(rf'P =~'+latex(P_in)))"
   ]
  },
  {
   "cell_type": "code",
   "execution_count": 45,
   "id": "8c367610-7f90-4755-867c-cb182923ac66",
   "metadata": {},
   "outputs": [
    {
     "data": {
      "text/latex": [
       "$\\displaystyle Q =~ \\left(\\begin{array}{r}\n",
       "\\mathit{Qx} \\\\\n",
       "\\mathit{Qy} \\\\\n",
       "\\mathit{Qz} \\\\\n",
       "1\n",
       "\\end{array}\\right) =~^QA_P \\cdot P =~ \\left(\\begin{array}{rrrr}\n",
       "{\\left(\\mathit{Cp} \\mathit{Cu} + \\mathit{CvSp} \\mathit{Su}\\right)} \\mathit{Cs} + {\\left(\\mathit{Cu} \\mathit{CvSp} - \\mathit{Su} r\\right)} \\mathit{Ss} & {\\left(\\mathit{Cu} \\mathit{CvSp} - \\mathit{Cp} \\mathit{Su}\\right)} \\mathit{Cs} - {\\left(\\mathit{CvSp} \\mathit{Su} + \\mathit{Cu} r\\right)} \\mathit{Ss} & \\mathit{Cs} \\mathit{SvSp} - \\mathit{Ss} t & \\mathit{Cs} \\mathit{Dx} - \\mathit{Dx} \\\\\n",
       "-{\\left(\\mathit{Cu} \\mathit{CvSp} - \\mathit{Su} r\\right)} \\mathit{Cs} + {\\left(\\mathit{Cp} \\mathit{Cu} + \\mathit{CvSp} \\mathit{Su}\\right)} \\mathit{Ss} & {\\left(\\mathit{CvSp} \\mathit{Su} + \\mathit{Cu} r\\right)} \\mathit{Cs} + {\\left(\\mathit{Cu} \\mathit{CvSp} - \\mathit{Cp} \\mathit{Su}\\right)} \\mathit{Ss} & \\mathit{Ss} \\mathit{SvSp} + \\mathit{Cs} t & \\mathit{Dx} \\mathit{Ss} \\\\\n",
       "-\\mathit{Cu} \\mathit{SvSp} + \\mathit{Su} t & \\mathit{Su} \\mathit{SvSp} + \\mathit{Cu} t & s & 0 \\\\\n",
       "0 & 0 & 0 & 1\n",
       "\\end{array}\\right) \\cdot \\left(\\begin{array}{r}\n",
       "\\mathit{Px} \\\\\n",
       "\\mathit{Py} \\\\\n",
       "-\\mathit{Dt} + \\mathit{Pz} \\\\\n",
       "1\n",
       "\\end{array}\\right)$"
      ],
      "text/plain": [
       "<IPython.core.display.Math object>"
      ]
     },
     "metadata": {},
     "output_type": "display_data"
    },
    {
     "data": {
      "text/latex": [
       "$\\displaystyle Q =~ \\left(\\begin{array}{r}\n",
       "-{\\left(\\mathit{Cs} \\mathit{SvSp} - \\mathit{Ss} t\\right)} {\\left(\\mathit{Dt} - \\mathit{Pz}\\right)} + \\mathit{Cs} \\mathit{Dx} + {\\left({\\left(\\mathit{Cp} \\mathit{Cu} + \\mathit{CvSp} \\mathit{Su}\\right)} \\mathit{Cs} + {\\left(\\mathit{Cu} \\mathit{CvSp} - \\mathit{Su} r\\right)} \\mathit{Ss}\\right)} \\mathit{Px} + {\\left({\\left(\\mathit{Cu} \\mathit{CvSp} - \\mathit{Cp} \\mathit{Su}\\right)} \\mathit{Cs} - {\\left(\\mathit{CvSp} \\mathit{Su} + \\mathit{Cu} r\\right)} \\mathit{Ss}\\right)} \\mathit{Py} - \\mathit{Dx} \\\\\n",
       "-{\\left(\\mathit{Ss} \\mathit{SvSp} + \\mathit{Cs} t\\right)} {\\left(\\mathit{Dt} - \\mathit{Pz}\\right)} - {\\left({\\left(\\mathit{Cu} \\mathit{CvSp} - \\mathit{Su} r\\right)} \\mathit{Cs} - {\\left(\\mathit{Cp} \\mathit{Cu} + \\mathit{CvSp} \\mathit{Su}\\right)} \\mathit{Ss}\\right)} \\mathit{Px} + {\\left({\\left(\\mathit{CvSp} \\mathit{Su} + \\mathit{Cu} r\\right)} \\mathit{Cs} + {\\left(\\mathit{Cu} \\mathit{CvSp} - \\mathit{Cp} \\mathit{Su}\\right)} \\mathit{Ss}\\right)} \\mathit{Py} + \\mathit{Dx} \\mathit{Ss} \\\\\n",
       "-{\\left(\\mathit{Cu} \\mathit{SvSp} - \\mathit{Su} t\\right)} \\mathit{Px} + {\\left(\\mathit{Su} \\mathit{SvSp} + \\mathit{Cu} t\\right)} \\mathit{Py} - {\\left(\\mathit{Dt} - \\mathit{Pz}\\right)} s \\\\\n",
       "1\n",
       "\\end{array}\\right)$"
      ],
      "text/plain": [
       "<IPython.core.display.Math object>"
      ]
     },
     "metadata": {},
     "output_type": "display_data"
    }
   ],
   "source": [
    "# calculate forward kinematic\n",
    "Q_out=qAp*P_in\n",
    "display(Math(rf'Q =~'+latex(Q_)+rf'=~^QA_P \\cdot P'+rf'=~'+latex(qAp)+rf'\\cdot'+latex(P_in)))\n",
    "display(Math(rf'Q =~'+latex(Q_out)))"
   ]
  },
  {
   "cell_type": "markdown",
   "id": "431b172f-3f72-4ced-9567-5ce4b273c777",
   "metadata": {},
   "source": [
    "Alas, if we were to test this in LinuxCNC the DRO would now show a z-axis position value equivalent to *-Dt* instead of the expected *0.000*. This is because LinuxCNC automatically subtracts the TLO value from the value of *pos->tran.z* which is the result of our forward kinematic.<br>\n",
    "This can be fixed by adding *Dt* back to the result of our forward kinematic calculation which we can do by creating a vector translation:\n"
   ]
  },
  {
   "cell_type": "code",
   "execution_count": 46,
   "id": "55715dcf-2658-463a-855f-3ecf426af3f8",
   "metadata": {},
   "outputs": [
    {
     "data": {
      "text/latex": [
       "$\\displaystyle Tt=~ \\left(\\begin{array}{rrrr}\n",
       "1 & 0 & 0 & 0 \\\\\n",
       "0 & 1 & 0 & 0 \\\\\n",
       "0 & 0 & 1 & \\mathit{Dt} \\\\\n",
       "0 & 0 & 0 & 1\n",
       "\\end{array}\\right)$"
      ],
      "text/plain": [
       "<IPython.core.display.Math object>"
      ]
     },
     "metadata": {},
     "output_type": "display_data"
    }
   ],
   "source": [
    "Tt=matrix([[ 1, 0, 0, 0],\n",
    "           [ 0, 1, 0, 0],\n",
    "           [ 0, 0, 1, Dt],\n",
    "           [ 0, 0, 0, 1 ]])\n",
    "\n",
    "display(Math(rf'Tt=~'+latex(Tt)))"
   ]
  },
  {
   "cell_type": "markdown",
   "id": "b307c980-7267-4eff-91cc-809a43942919",
   "metadata": {},
   "source": [
    "and multiply that to the left of our transformation matrix:\n",
    "\n",
    "\n",
    "\\begin{equation}\n",
    " ^QA_P=~ T_t \\cdot R_s \\cdot T_o \\cdot R_p\n",
    "\\end{equation}"
   ]
  },
  {
   "cell_type": "code",
   "execution_count": 47,
   "id": "7e18355a-220f-464e-8af5-a2d943391ddc",
   "metadata": {},
   "outputs": [
    {
     "data": {
      "text/latex": [
       "$\\displaystyle ^QA_P =~~ \\left(\\begin{array}{rrrr}\n",
       "1 & 0 & 0 & 0 \\\\\n",
       "0 & 1 & 0 & 0 \\\\\n",
       "0 & 0 & 1 & \\mathit{Dt} \\\\\n",
       "0 & 0 & 0 & 1\n",
       "\\end{array}\\right) \\cdot \\left(\\begin{array}{rrrr}\n",
       "\\mathit{Cs} & -\\mathit{Ss} & 0 & 0 \\\\\n",
       "\\mathit{Ss} & \\mathit{Cs} & 0 & 0 \\\\\n",
       "0 & 0 & 1 & 0 \\\\\n",
       "0 & 0 & 0 & 1\n",
       "\\end{array}\\right) \\cdot \\left(\\begin{array}{rrrr}\n",
       "1 & 0 & 0 & \\mathit{Dx} \\\\\n",
       "0 & 1 & 0 & 0 \\\\\n",
       "0 & 0 & 1 & \\mathit{Dz} \\\\\n",
       "0 & 0 & 0 & 1\n",
       "\\end{array}\\right) \\cdot \\left(\\begin{array}{rrrr}\n",
       "\\mathit{Cp} \\mathit{Cu} + \\mathit{CvSp} \\mathit{Su} & \\mathit{Cu} \\mathit{CvSp} - \\mathit{Cp} \\mathit{Su} & \\mathit{SvSp} & 0 \\\\\n",
       "-\\mathit{Cu} \\mathit{CvSp} + \\mathit{Su} r & \\mathit{CvSp} \\mathit{Su} + \\mathit{Cu} r & t & 0 \\\\\n",
       "-\\mathit{Cu} \\mathit{SvSp} + \\mathit{Su} t & \\mathit{Su} \\mathit{SvSp} + \\mathit{Cu} t & s & 0 \\\\\n",
       "0 & 0 & 0 & 1\n",
       "\\end{array}\\right)$"
      ],
      "text/plain": [
       "<IPython.core.display.Math object>"
      ]
     },
     "metadata": {},
     "output_type": "display_data"
    },
    {
     "data": {
      "text/latex": [
       "$\\displaystyle ^QA_P =~~ \\left(\\begin{array}{rrrr}\n",
       "{\\left(\\mathit{Cp} \\mathit{Cu} + \\mathit{CvSp} \\mathit{Su}\\right)} \\mathit{Cs} + {\\left(\\mathit{Cu} \\mathit{CvSp} - \\mathit{Su} r\\right)} \\mathit{Ss} & {\\left(\\mathit{Cu} \\mathit{CvSp} - \\mathit{Cp} \\mathit{Su}\\right)} \\mathit{Cs} - {\\left(\\mathit{CvSp} \\mathit{Su} + \\mathit{Cu} r\\right)} \\mathit{Ss} & \\mathit{Cs} \\mathit{SvSp} - \\mathit{Ss} t & \\mathit{Cs} \\mathit{Dx} \\\\\n",
       "-{\\left(\\mathit{Cu} \\mathit{CvSp} - \\mathit{Su} r\\right)} \\mathit{Cs} + {\\left(\\mathit{Cp} \\mathit{Cu} + \\mathit{CvSp} \\mathit{Su}\\right)} \\mathit{Ss} & {\\left(\\mathit{CvSp} \\mathit{Su} + \\mathit{Cu} r\\right)} \\mathit{Cs} + {\\left(\\mathit{Cu} \\mathit{CvSp} - \\mathit{Cp} \\mathit{Su}\\right)} \\mathit{Ss} & \\mathit{Ss} \\mathit{SvSp} + \\mathit{Cs} t & \\mathit{Dx} \\mathit{Ss} \\\\\n",
       "-\\mathit{Cu} \\mathit{SvSp} + \\mathit{Su} t & \\mathit{Su} \\mathit{SvSp} + \\mathit{Cu} t & s & \\mathit{Dt} + \\mathit{Dz} \\\\\n",
       "0 & 0 & 0 & 1\n",
       "\\end{array}\\right)$"
      ],
      "text/plain": [
       "<IPython.core.display.Math object>"
      ]
     },
     "metadata": {},
     "output_type": "display_data"
    }
   ],
   "source": [
    "# calculate the forward transformation matrix\n",
    "qAp=Tt*Rs*To*Rp\n",
    "display(Math(rf'^QA_P =~~'+latex(Tt)+rf'\\cdot'+latex(Rs)+rf'\\cdot'+latex(To)+rf'\\cdot'+latex(Rp)))\n",
    "display(Math(rf'^QA_P =~~'+latex(qAp)))"
   ]
  },
  {
   "cell_type": "code",
   "execution_count": 48,
   "id": "bb0e18a7-926d-4a08-a7a4-0321ae786cfb",
   "metadata": {},
   "outputs": [
    {
     "data": {
      "text/latex": [
       "$\\displaystyle Q =~ \\left(\\begin{array}{r}\n",
       "\\mathit{Qx} \\\\\n",
       "\\mathit{Qy} \\\\\n",
       "\\mathit{Qz} \\\\\n",
       "1\n",
       "\\end{array}\\right) =~^QA_P \\cdot P=~ \\left(\\begin{array}{rrrr}\n",
       "{\\left(\\mathit{Cp} \\mathit{Cu} + \\mathit{CvSp} \\mathit{Su}\\right)} \\mathit{Cs} + {\\left(\\mathit{Cu} \\mathit{CvSp} - \\mathit{Su} r\\right)} \\mathit{Ss} & {\\left(\\mathit{Cu} \\mathit{CvSp} - \\mathit{Cp} \\mathit{Su}\\right)} \\mathit{Cs} - {\\left(\\mathit{CvSp} \\mathit{Su} + \\mathit{Cu} r\\right)} \\mathit{Ss} & \\mathit{Cs} \\mathit{SvSp} - \\mathit{Ss} t & \\mathit{Cs} \\mathit{Dx} \\\\\n",
       "-{\\left(\\mathit{Cu} \\mathit{CvSp} - \\mathit{Su} r\\right)} \\mathit{Cs} + {\\left(\\mathit{Cp} \\mathit{Cu} + \\mathit{CvSp} \\mathit{Su}\\right)} \\mathit{Ss} & {\\left(\\mathit{CvSp} \\mathit{Su} + \\mathit{Cu} r\\right)} \\mathit{Cs} + {\\left(\\mathit{Cu} \\mathit{CvSp} - \\mathit{Cp} \\mathit{Su}\\right)} \\mathit{Ss} & \\mathit{Ss} \\mathit{SvSp} + \\mathit{Cs} t & \\mathit{Dx} \\mathit{Ss} \\\\\n",
       "-\\mathit{Cu} \\mathit{SvSp} + \\mathit{Su} t & \\mathit{Su} \\mathit{SvSp} + \\mathit{Cu} t & s & \\mathit{Dt} + \\mathit{Dz} \\\\\n",
       "0 & 0 & 0 & 1\n",
       "\\end{array}\\right) \\cdot \\left(\\begin{array}{r}\n",
       "\\mathit{Px} \\\\\n",
       "\\mathit{Py} \\\\\n",
       "-\\mathit{Dt} + \\mathit{Pz} \\\\\n",
       "1\n",
       "\\end{array}\\right)$"
      ],
      "text/plain": [
       "<IPython.core.display.Math object>"
      ]
     },
     "metadata": {},
     "output_type": "display_data"
    },
    {
     "data": {
      "text/latex": [
       "$\\displaystyle Q =~ \\left(\\begin{array}{r}\n",
       "-{\\left(\\mathit{Cs} \\mathit{SvSp} - \\mathit{Ss} t\\right)} {\\left(\\mathit{Dt} - \\mathit{Pz}\\right)} + \\mathit{Cs} \\mathit{Dx} + {\\left({\\left(\\mathit{Cp} \\mathit{Cu} + \\mathit{CvSp} \\mathit{Su}\\right)} \\mathit{Cs} + {\\left(\\mathit{Cu} \\mathit{CvSp} - \\mathit{Su} r\\right)} \\mathit{Ss}\\right)} \\mathit{Px} + {\\left({\\left(\\mathit{Cu} \\mathit{CvSp} - \\mathit{Cp} \\mathit{Su}\\right)} \\mathit{Cs} - {\\left(\\mathit{CvSp} \\mathit{Su} + \\mathit{Cu} r\\right)} \\mathit{Ss}\\right)} \\mathit{Py} \\\\\n",
       "-{\\left(\\mathit{Ss} \\mathit{SvSp} + \\mathit{Cs} t\\right)} {\\left(\\mathit{Dt} - \\mathit{Pz}\\right)} - {\\left({\\left(\\mathit{Cu} \\mathit{CvSp} - \\mathit{Su} r\\right)} \\mathit{Cs} - {\\left(\\mathit{Cp} \\mathit{Cu} + \\mathit{CvSp} \\mathit{Su}\\right)} \\mathit{Ss}\\right)} \\mathit{Px} + {\\left({\\left(\\mathit{CvSp} \\mathit{Su} + \\mathit{Cu} r\\right)} \\mathit{Cs} + {\\left(\\mathit{Cu} \\mathit{CvSp} - \\mathit{Cp} \\mathit{Su}\\right)} \\mathit{Ss}\\right)} \\mathit{Py} + \\mathit{Dx} \\mathit{Ss} \\\\\n",
       "-{\\left(\\mathit{Cu} \\mathit{SvSp} - \\mathit{Su} t\\right)} \\mathit{Px} + {\\left(\\mathit{Su} \\mathit{SvSp} + \\mathit{Cu} t\\right)} \\mathit{Py} - {\\left(\\mathit{Dt} - \\mathit{Pz}\\right)} s + \\mathit{Dt} + \\mathit{Dz} \\\\\n",
       "1\n",
       "\\end{array}\\right)$"
      ],
      "text/plain": [
       "<IPython.core.display.Math object>"
      ]
     },
     "metadata": {},
     "output_type": "display_data"
    }
   ],
   "source": [
    "# calculate forward kinematic\n",
    "Q_out=qAp*P_in\n",
    "display(Math(rf'Q =~'+latex(Q_)+rf'=~^QA_P \\cdot P=~'+latex(qAp)+rf'\\cdot'+latex(P_in)))\n",
    "display(Math(rf'Q =~'+latex(Q_out)))"
   ]
  },
  {
   "cell_type": "code",
   "execution_count": 49,
   "id": "033f3b16-14f9-491e-9f75-d2197cbbc2fa",
   "metadata": {},
   "outputs": [
    {
     "data": {
      "text/latex": [
       "$\\displaystyle \\mathit{Qx} ~=~ \\left(-{\\left(\\mathit{Cs} \\mathit{SvSp} - \\mathit{Ss} t\\right)} {\\left(\\mathit{Dt} - \\mathit{Pz}\\right)} + \\mathit{Cs} \\mathit{Dx} + {\\left({\\left(\\mathit{Cp} \\mathit{Cu} + \\mathit{CvSp} \\mathit{Su}\\right)} \\mathit{Cs} + {\\left(\\mathit{Cu} \\mathit{CvSp} - \\mathit{Su} r\\right)} \\mathit{Ss}\\right)} \\mathit{Px} + {\\left({\\left(\\mathit{Cu} \\mathit{CvSp} - \\mathit{Cp} \\mathit{Su}\\right)} \\mathit{Cs} - {\\left(\\mathit{CvSp} \\mathit{Su} + \\mathit{Cu} r\\right)} \\mathit{Ss}\\right)} \\mathit{Py}\\right)$"
      ],
      "text/plain": [
       "<IPython.core.display.Math object>"
      ]
     },
     "metadata": {},
     "output_type": "display_data"
    },
    {
     "data": {
      "text/latex": [
       "$\\displaystyle \\mathit{Qy} ~=~ \\left(-{\\left(\\mathit{Ss} \\mathit{SvSp} + \\mathit{Cs} t\\right)} {\\left(\\mathit{Dt} - \\mathit{Pz}\\right)} - {\\left({\\left(\\mathit{Cu} \\mathit{CvSp} - \\mathit{Su} r\\right)} \\mathit{Cs} - {\\left(\\mathit{Cp} \\mathit{Cu} + \\mathit{CvSp} \\mathit{Su}\\right)} \\mathit{Ss}\\right)} \\mathit{Px} + {\\left({\\left(\\mathit{CvSp} \\mathit{Su} + \\mathit{Cu} r\\right)} \\mathit{Cs} + {\\left(\\mathit{Cu} \\mathit{CvSp} - \\mathit{Cp} \\mathit{Su}\\right)} \\mathit{Ss}\\right)} \\mathit{Py} + \\mathit{Dx} \\mathit{Ss}\\right)$"
      ],
      "text/plain": [
       "<IPython.core.display.Math object>"
      ]
     },
     "metadata": {},
     "output_type": "display_data"
    },
    {
     "data": {
      "text/latex": [
       "$\\displaystyle \\mathit{Qz} ~=~ \\left(-{\\left(\\mathit{Cu} \\mathit{SvSp} - \\mathit{Su} t\\right)} \\mathit{Px} + {\\left(\\mathit{Su} \\mathit{SvSp} + \\mathit{Cu} t\\right)} \\mathit{Py} - {\\left(\\mathit{Dt} - \\mathit{Pz}\\right)} s + \\mathit{Dt} + \\mathit{Dz}\\right)$"
      ],
      "text/plain": [
       "<IPython.core.display.Math object>"
      ]
     },
     "metadata": {},
     "output_type": "display_data"
    }
   ],
   "source": [
    "# Extract the tool-position vector Q (FORWARD KINEMATICS) from\n",
    "# the fourth column of the forward transformation matrix\n",
    "display(Math(latex(Q_[0][0]) + rf'~=~'  + latex(Q_out[0])))\n",
    "display(Math(latex(Q_[1][0]) + rf'~=~'  + latex(Q_out[1])))\n",
    "display(Math(latex(Q_[2][0]) + rf'~=~'  + latex(Q_out[2])))"
   ]
  },
  {
   "cell_type": "code",
   "execution_count": 50,
   "id": "639320b9-c21a-4659-a0cf-ce5b2dda8295",
   "metadata": {},
   "outputs": [
    {
     "name": "stdout",
     "output_type": "stream",
     "text": [
      "//TCP kinematics FORWARD\n",
      "pos->tran.x =  (-(Cs*SvSp - Ss*t)*(Dt - Pz) + Cs*Dx + ((Cp*Cu + CvSp*Su)*Cs + (Cu*CvSp - Su*r)*Ss)*Px + ((Cu*CvSp - Cp*Su)*Cs - (CvSp*Su + Cu*r)*Ss)*Py) ;\n",
      "pos->tran.y =  (-(Ss*SvSp + Cs*t)*(Dt - Pz) - ((Cu*CvSp - Su*r)*Cs - (Cp*Cu + CvSp*Su)*Ss)*Px + ((CvSp*Su + Cu*r)*Cs + (Cu*CvSp - Cp*Su)*Ss)*Py + Dx*Ss) ;\n",
      "pos->tran.z =  (-(Cu*SvSp - Su*t)*Px + (Su*SvSp + Cu*t)*Py - (Dt - Pz)*s + Dt + Dz) ;\n"
     ]
    }
   ],
   "source": [
    "# expressions as used in kinematics component\n",
    "print('//TCP kinematics FORWARD')\n",
    "print('pos->tran.x = ', Q_out[0], ';')\n",
    "print('pos->tran.y = ', Q_out[1], ';')\n",
    "print('pos->tran.z = ', Q_out[2], ';')"
   ]
  },
  {
   "cell_type": "markdown",
   "id": "d26902c8-72b1-4a1c-aa23-92351101622f",
   "metadata": {},
   "source": [
    "### Inverse transformation\n",
    "\n",
    "For the inverse transformation to match the new forward transformation we need to subtract $Dt$ from the coordinate position $Q$ and add it back to the result which we do by multiplying the translation by the vector $Dt$ from the left:\n",
    "\n",
    "\\begin{equation}\n",
    " P=~^PA_Q \\cdot Q =~ R_t \\cdot R_p^T \\cdot  T_{io} \\cdot  R_s^T \\cdot Q \n",
    "\\end{equation}\n"
   ]
  },
  {
   "cell_type": "code",
   "execution_count": 51,
   "id": "d962b39e-1ff9-4749-90fd-221701e990c6",
   "metadata": {},
   "outputs": [
    {
     "data": {
      "text/latex": [
       "$\\displaystyle Q =~ \\left(\\begin{array}{r}\n",
       "\\mathit{Qx} \\\\\n",
       "\\mathit{Qy} \\\\\n",
       "-\\mathit{Dt} + \\mathit{Qz} \\\\\n",
       "1\n",
       "\\end{array}\\right)$"
      ],
      "text/plain": [
       "<IPython.core.display.Math object>"
      ]
     },
     "metadata": {},
     "output_type": "display_data"
    }
   ],
   "source": [
    "var('Qx','Qy','Qz')\n",
    "Q_in=matrix([[Qx],\n",
    "             [Qy],\n",
    "             [Qz-Dt],\n",
    "             [1]])\n",
    "display(Math(rf'Q =~'+latex(Q_in)))\n"
   ]
  },
  {
   "cell_type": "code",
   "execution_count": 52,
   "id": "2b33bfab-ffe1-4569-8c66-8f78b0e316e8",
   "metadata": {},
   "outputs": [
    {
     "data": {
      "text/latex": [
       "$\\displaystyle ^PA_Q =~~ \\left(\\begin{array}{rrrr}\n",
       "1 & 0 & 0 & 0 \\\\\n",
       "0 & 1 & 0 & 0 \\\\\n",
       "0 & 0 & 1 & \\mathit{Dt} \\\\\n",
       "0 & 0 & 0 & 1\n",
       "\\end{array}\\right) \\cdot \\left(\\begin{array}{rrrr}\n",
       "\\mathit{Cp} \\mathit{Cu} + \\mathit{CvSp} \\mathit{Su} & -\\mathit{Cu} \\mathit{CvSp} + \\mathit{Su} r & -\\mathit{Cu} \\mathit{SvSp} + \\mathit{Su} t & 0 \\\\\n",
       "\\mathit{Cu} \\mathit{CvSp} - \\mathit{Cp} \\mathit{Su} & \\mathit{CvSp} \\mathit{Su} + \\mathit{Cu} r & \\mathit{Su} \\mathit{SvSp} + \\mathit{Cu} t & 0 \\\\\n",
       "\\mathit{SvSp} & t & s & 0 \\\\\n",
       "0 & 0 & 0 & 1\n",
       "\\end{array}\\right) \\cdot \\left(\\begin{array}{rrrr}\n",
       "1 & 0 & 0 & -\\mathit{Dx} \\\\\n",
       "0 & 1 & 0 & 0 \\\\\n",
       "0 & 0 & 1 & -\\mathit{Dz} \\\\\n",
       "0 & 0 & 0 & 1\n",
       "\\end{array}\\right) \\cdot \\left(\\begin{array}{rrrr}\n",
       "\\mathit{Cs} & \\mathit{Ss} & 0 & 0 \\\\\n",
       "-\\mathit{Ss} & \\mathit{Cs} & 0 & 0 \\\\\n",
       "0 & 0 & 1 & 0 \\\\\n",
       "0 & 0 & 0 & 1\n",
       "\\end{array}\\right)$"
      ],
      "text/plain": [
       "<IPython.core.display.Math object>"
      ]
     },
     "metadata": {},
     "output_type": "display_data"
    },
    {
     "data": {
      "text/latex": [
       "$\\displaystyle ^PA_Q =~~ \\left(\\begin{array}{rrrr}\n",
       "{\\left(\\mathit{Cp} \\mathit{Cu} + \\mathit{CvSp} \\mathit{Su}\\right)} \\mathit{Cs} + {\\left(\\mathit{Cu} \\mathit{CvSp} - \\mathit{Su} r\\right)} \\mathit{Ss} & -{\\left(\\mathit{Cu} \\mathit{CvSp} - \\mathit{Su} r\\right)} \\mathit{Cs} + {\\left(\\mathit{Cp} \\mathit{Cu} + \\mathit{CvSp} \\mathit{Su}\\right)} \\mathit{Ss} & -\\mathit{Cu} \\mathit{SvSp} + \\mathit{Su} t & -{\\left(\\mathit{Cp} \\mathit{Cu} + \\mathit{CvSp} \\mathit{Su}\\right)} \\mathit{Dx} + {\\left(\\mathit{Cu} \\mathit{SvSp} - \\mathit{Su} t\\right)} \\mathit{Dz} \\\\\n",
       "{\\left(\\mathit{Cu} \\mathit{CvSp} - \\mathit{Cp} \\mathit{Su}\\right)} \\mathit{Cs} - {\\left(\\mathit{CvSp} \\mathit{Su} + \\mathit{Cu} r\\right)} \\mathit{Ss} & {\\left(\\mathit{CvSp} \\mathit{Su} + \\mathit{Cu} r\\right)} \\mathit{Cs} + {\\left(\\mathit{Cu} \\mathit{CvSp} - \\mathit{Cp} \\mathit{Su}\\right)} \\mathit{Ss} & \\mathit{Su} \\mathit{SvSp} + \\mathit{Cu} t & -{\\left(\\mathit{Cu} \\mathit{CvSp} - \\mathit{Cp} \\mathit{Su}\\right)} \\mathit{Dx} - {\\left(\\mathit{Su} \\mathit{SvSp} + \\mathit{Cu} t\\right)} \\mathit{Dz} \\\\\n",
       "\\mathit{Cs} \\mathit{SvSp} - \\mathit{Ss} t & \\mathit{Ss} \\mathit{SvSp} + \\mathit{Cs} t & s & -\\mathit{Dx} \\mathit{SvSp} - \\mathit{Dz} s + \\mathit{Dt} \\\\\n",
       "0 & 0 & 0 & 1\n",
       "\\end{array}\\right)$"
      ],
      "text/plain": [
       "<IPython.core.display.Math object>"
      ]
     },
     "metadata": {},
     "output_type": "display_data"
    }
   ],
   "source": [
    "# calculate the inverse transformation matrix\n",
    "pAq=Tt*Rp.transpose()*Tio*Rs.transpose()\n",
    "display(Math(rf'^PA_Q =~~'+latex(Tt)+rf'\\cdot'+latex(Rp.transpose())+rf'\\cdot'+latex(Tio)+rf'\\cdot'+latex(Rs.transpose())))\n",
    "display(Math(rf'^PA_Q =~~'+latex(pAq)))"
   ]
  },
  {
   "cell_type": "code",
   "execution_count": 53,
   "id": "f2616877-a3f4-47ec-8d0f-6966c361096a",
   "metadata": {},
   "outputs": [
    {
     "data": {
      "text/latex": [
       "$\\displaystyle P =~ \\left(\\begin{array}{r}\n",
       "\\mathit{Px} \\\\\n",
       "\\mathit{Py} \\\\\n",
       "\\mathit{Pz} \\\\\n",
       "1\n",
       "\\end{array}\\right) =~^PA_Q \\cdot Q=~ \\left(\\begin{array}{rrrr}\n",
       "{\\left(\\mathit{Cp} \\mathit{Cu} + \\mathit{CvSp} \\mathit{Su}\\right)} \\mathit{Cs} + {\\left(\\mathit{Cu} \\mathit{CvSp} - \\mathit{Su} r\\right)} \\mathit{Ss} & -{\\left(\\mathit{Cu} \\mathit{CvSp} - \\mathit{Su} r\\right)} \\mathit{Cs} + {\\left(\\mathit{Cp} \\mathit{Cu} + \\mathit{CvSp} \\mathit{Su}\\right)} \\mathit{Ss} & -\\mathit{Cu} \\mathit{SvSp} + \\mathit{Su} t & -{\\left(\\mathit{Cp} \\mathit{Cu} + \\mathit{CvSp} \\mathit{Su}\\right)} \\mathit{Dx} + {\\left(\\mathit{Cu} \\mathit{SvSp} - \\mathit{Su} t\\right)} \\mathit{Dz} \\\\\n",
       "{\\left(\\mathit{Cu} \\mathit{CvSp} - \\mathit{Cp} \\mathit{Su}\\right)} \\mathit{Cs} - {\\left(\\mathit{CvSp} \\mathit{Su} + \\mathit{Cu} r\\right)} \\mathit{Ss} & {\\left(\\mathit{CvSp} \\mathit{Su} + \\mathit{Cu} r\\right)} \\mathit{Cs} + {\\left(\\mathit{Cu} \\mathit{CvSp} - \\mathit{Cp} \\mathit{Su}\\right)} \\mathit{Ss} & \\mathit{Su} \\mathit{SvSp} + \\mathit{Cu} t & -{\\left(\\mathit{Cu} \\mathit{CvSp} - \\mathit{Cp} \\mathit{Su}\\right)} \\mathit{Dx} - {\\left(\\mathit{Su} \\mathit{SvSp} + \\mathit{Cu} t\\right)} \\mathit{Dz} \\\\\n",
       "\\mathit{Cs} \\mathit{SvSp} - \\mathit{Ss} t & \\mathit{Ss} \\mathit{SvSp} + \\mathit{Cs} t & s & -\\mathit{Dx} \\mathit{SvSp} - \\mathit{Dz} s + \\mathit{Dt} \\\\\n",
       "0 & 0 & 0 & 1\n",
       "\\end{array}\\right) \\cdot \\left(\\begin{array}{r}\n",
       "\\mathit{Qx} \\\\\n",
       "\\mathit{Qy} \\\\\n",
       "-\\mathit{Dt} + \\mathit{Qz} \\\\\n",
       "1\n",
       "\\end{array}\\right)$"
      ],
      "text/plain": [
       "<IPython.core.display.Math object>"
      ]
     },
     "metadata": {},
     "output_type": "display_data"
    },
    {
     "data": {
      "text/latex": [
       "$\\displaystyle P =~ \\left(\\begin{array}{r}\n",
       "{\\left(\\mathit{Cu} \\mathit{SvSp} - \\mathit{Su} t\\right)} {\\left(\\mathit{Dt} - \\mathit{Qz}\\right)} - {\\left(\\mathit{Cp} \\mathit{Cu} + \\mathit{CvSp} \\mathit{Su}\\right)} \\mathit{Dx} + {\\left(\\mathit{Cu} \\mathit{SvSp} - \\mathit{Su} t\\right)} \\mathit{Dz} + {\\left({\\left(\\mathit{Cp} \\mathit{Cu} + \\mathit{CvSp} \\mathit{Su}\\right)} \\mathit{Cs} + {\\left(\\mathit{Cu} \\mathit{CvSp} - \\mathit{Su} r\\right)} \\mathit{Ss}\\right)} \\mathit{Qx} - {\\left({\\left(\\mathit{Cu} \\mathit{CvSp} - \\mathit{Su} r\\right)} \\mathit{Cs} - {\\left(\\mathit{Cp} \\mathit{Cu} + \\mathit{CvSp} \\mathit{Su}\\right)} \\mathit{Ss}\\right)} \\mathit{Qy} \\\\\n",
       "-{\\left(\\mathit{Su} \\mathit{SvSp} + \\mathit{Cu} t\\right)} {\\left(\\mathit{Dt} - \\mathit{Qz}\\right)} - {\\left(\\mathit{Cu} \\mathit{CvSp} - \\mathit{Cp} \\mathit{Su}\\right)} \\mathit{Dx} - {\\left(\\mathit{Su} \\mathit{SvSp} + \\mathit{Cu} t\\right)} \\mathit{Dz} + {\\left({\\left(\\mathit{Cu} \\mathit{CvSp} - \\mathit{Cp} \\mathit{Su}\\right)} \\mathit{Cs} - {\\left(\\mathit{CvSp} \\mathit{Su} + \\mathit{Cu} r\\right)} \\mathit{Ss}\\right)} \\mathit{Qx} + {\\left({\\left(\\mathit{CvSp} \\mathit{Su} + \\mathit{Cu} r\\right)} \\mathit{Cs} + {\\left(\\mathit{Cu} \\mathit{CvSp} - \\mathit{Cp} \\mathit{Su}\\right)} \\mathit{Ss}\\right)} \\mathit{Qy} \\\\\n",
       "{\\left(\\mathit{Cs} \\mathit{SvSp} - \\mathit{Ss} t\\right)} \\mathit{Qx} + {\\left(\\mathit{Ss} \\mathit{SvSp} + \\mathit{Cs} t\\right)} \\mathit{Qy} - \\mathit{Dx} \\mathit{SvSp} - {\\left(\\mathit{Dt} - \\mathit{Qz}\\right)} s - \\mathit{Dz} s + \\mathit{Dt} \\\\\n",
       "1\n",
       "\\end{array}\\right)$"
      ],
      "text/plain": [
       "<IPython.core.display.Math object>"
      ]
     },
     "metadata": {},
     "output_type": "display_data"
    }
   ],
   "source": [
    "P_out=pAq*Q_in\n",
    "display(Math(rf'P =~'+latex(P_)+rf'=~^PA_Q \\cdot Q=~'+latex(pAq)+rf'\\cdot'+latex(Q_in)))\n",
    "display(Math(rf'P =~'+latex(P_out)))"
   ]
  },
  {
   "cell_type": "code",
   "execution_count": 54,
   "id": "29018bd3-72e4-4356-bf7e-5f5013cf5ecb",
   "metadata": {},
   "outputs": [
    {
     "data": {
      "text/latex": [
       "$\\displaystyle \\mathit{Px} ~=~ \\left({\\left(\\mathit{Cu} \\mathit{SvSp} - \\mathit{Su} t\\right)} {\\left(\\mathit{Dt} - \\mathit{Qz}\\right)} - {\\left(\\mathit{Cp} \\mathit{Cu} + \\mathit{CvSp} \\mathit{Su}\\right)} \\mathit{Dx} + {\\left(\\mathit{Cu} \\mathit{SvSp} - \\mathit{Su} t\\right)} \\mathit{Dz} + {\\left({\\left(\\mathit{Cp} \\mathit{Cu} + \\mathit{CvSp} \\mathit{Su}\\right)} \\mathit{Cs} + {\\left(\\mathit{Cu} \\mathit{CvSp} - \\mathit{Su} r\\right)} \\mathit{Ss}\\right)} \\mathit{Qx} - {\\left({\\left(\\mathit{Cu} \\mathit{CvSp} - \\mathit{Su} r\\right)} \\mathit{Cs} - {\\left(\\mathit{Cp} \\mathit{Cu} + \\mathit{CvSp} \\mathit{Su}\\right)} \\mathit{Ss}\\right)} \\mathit{Qy}\\right)$"
      ],
      "text/plain": [
       "<IPython.core.display.Math object>"
      ]
     },
     "metadata": {},
     "output_type": "display_data"
    },
    {
     "data": {
      "text/latex": [
       "$\\displaystyle \\mathit{Py} ~=~ \\left(-{\\left(\\mathit{Su} \\mathit{SvSp} + \\mathit{Cu} t\\right)} {\\left(\\mathit{Dt} - \\mathit{Qz}\\right)} - {\\left(\\mathit{Cu} \\mathit{CvSp} - \\mathit{Cp} \\mathit{Su}\\right)} \\mathit{Dx} - {\\left(\\mathit{Su} \\mathit{SvSp} + \\mathit{Cu} t\\right)} \\mathit{Dz} + {\\left({\\left(\\mathit{Cu} \\mathit{CvSp} - \\mathit{Cp} \\mathit{Su}\\right)} \\mathit{Cs} - {\\left(\\mathit{CvSp} \\mathit{Su} + \\mathit{Cu} r\\right)} \\mathit{Ss}\\right)} \\mathit{Qx} + {\\left({\\left(\\mathit{CvSp} \\mathit{Su} + \\mathit{Cu} r\\right)} \\mathit{Cs} + {\\left(\\mathit{Cu} \\mathit{CvSp} - \\mathit{Cp} \\mathit{Su}\\right)} \\mathit{Ss}\\right)} \\mathit{Qy}\\right)$"
      ],
      "text/plain": [
       "<IPython.core.display.Math object>"
      ]
     },
     "metadata": {},
     "output_type": "display_data"
    },
    {
     "data": {
      "text/latex": [
       "$\\displaystyle \\mathit{Pz} ~=~ \\left({\\left(\\mathit{Cs} \\mathit{SvSp} - \\mathit{Ss} t\\right)} \\mathit{Qx} + {\\left(\\mathit{Ss} \\mathit{SvSp} + \\mathit{Cs} t\\right)} \\mathit{Qy} - \\mathit{Dx} \\mathit{SvSp} - {\\left(\\mathit{Dt} - \\mathit{Qz}\\right)} s - \\mathit{Dz} s + \\mathit{Dt}\\right)$"
      ],
      "text/plain": [
       "<IPython.core.display.Math object>"
      ]
     },
     "metadata": {},
     "output_type": "display_data"
    }
   ],
   "source": [
    "# Extract the joint-position vector P (INVERSE KINEMATICS) from\n",
    "# the fourth column of the inverse transformation matrix\n",
    "display(Math(latex(P_[0][0]) + rf'~=~'  + latex(P_out[0])))\n",
    "display(Math(latex(P_[1][0]) + rf'~=~'  + latex(P_out[1])))\n",
    "display(Math(latex(P_[2][0]) + rf'~=~'  + latex(P_out[2])))"
   ]
  },
  {
   "cell_type": "code",
   "execution_count": 55,
   "id": "b200d5f4-9957-4c5f-a1d7-d40685d1db8d",
   "metadata": {},
   "outputs": [
    {
     "name": "stdout",
     "output_type": "stream",
     "text": [
      "//TCP kinematics INVERSE\n",
      "j[0] =  ((Cu*SvSp - Su*t)*(Dt - Qz) - (Cp*Cu + CvSp*Su)*Dx + (Cu*SvSp - Su*t)*Dz + ((Cp*Cu + CvSp*Su)*Cs + (Cu*CvSp - Su*r)*Ss)*Qx - ((Cu*CvSp - Su*r)*Cs - (Cp*Cu + CvSp*Su)*Ss)*Qy) ;\n",
      "j[1] =  (-(Su*SvSp + Cu*t)*(Dt - Qz) - (Cu*CvSp - Cp*Su)*Dx - (Su*SvSp + Cu*t)*Dz + ((Cu*CvSp - Cp*Su)*Cs - (CvSp*Su + Cu*r)*Ss)*Qx + ((CvSp*Su + Cu*r)*Cs + (Cu*CvSp - Cp*Su)*Ss)*Qy) ;\n",
      "j[2] =  ((Cs*SvSp - Ss*t)*Qx + (Ss*SvSp + Cs*t)*Qy - Dx*SvSp - (Dt - Qz)*s - Dz*s + Dt) ;\n"
     ]
    }
   ],
   "source": [
    "# expressions as used in kinematics component\n",
    "print('//TCP kinematics INVERSE')\n",
    "print('j[0] = ', P_out[0], ';')\n",
    "print('j[1] = ', P_out[1], ';')\n",
    "print('j[2] = ', P_out[2], ';')"
   ]
  },
  {
   "cell_type": "markdown",
   "id": "6396c3de-cb70-41f2-ab21-3be0a9f52c71",
   "metadata": {},
   "source": [
    "If our machine is setup so that the machine reference point coincides with the rotation point of our rotary-assembly then our forward kinematic is complete. Otherwise one more step is necessary to derive a correct kinematic model."
   ]
  },
  {
   "cell_type": "markdown",
   "id": "0fa6d55d-742c-4900-9a10-2fdb277982a9",
   "metadata": {},
   "source": [
    "## Position offset of the rotary assembly to the machine reference point\n",
    " \n",
    "Up to this point we have assumed that the machine reference point coincides with the rotation point of our rotary-assembly or in case of applied geometric offsets $(Dx, Dz)$ maybe the center of the face of our secondary rotary table. For such a case our forward kinematic is complete.\n",
    "However, if the machine at hand is setup in a way where there is an offset between the machine reference point and the rotary-assembly then this will need to be taken into account in the kinematic model.<br>\n",
    "What does such an offset mean for our forward kinematic? \n",
    "\n",
    "### Forward kinematic\n",
    "\n",
    "Let us assume that we have a setup with no TLO ($Dt=0$), no geometric offset ($Dz=Dx=0$) and no offset of the reference-point. A tool positioned at the rotation-point (or in our case the center of the rotary table C) would have a joint-position of $P(0,0,0)$ and that would give the expected resulting coordinate position of $Q(0,0,0)$. If we now assume that the rotation-point of our rotary-assembly is offset from the machine reference point by $(rp_x,rp_y,rp_z)$ then our joint-position would be equal to the offset $P(rp_x,rp_y,rp_z)$ which would clearly not give us the required result of Q(0,0,0).<br>\n",
    "So we need to subtract the offset $(rp_x,rp_y,rp_z)$ from the joint-position $P=(Px-rp_x, Py-rp_y, Pz-rp_z)$  or in other words we need to translate the joint-position vector in the opposite direction along the offset vector. "
   ]
  },
  {
   "cell_type": "code",
   "execution_count": 56,
   "id": "9ad4b2d2-08d2-48d3-be6d-b10d5fbb98a9",
   "metadata": {},
   "outputs": [
    {
     "data": {
      "text/latex": [
       "$\\displaystyle P =~ \\left(\\begin{array}{r}\n",
       "-\\mathit{Drpx} + \\mathit{Px} \\\\\n",
       "-\\mathit{Drpy} + \\mathit{Py} \\\\\n",
       "-\\mathit{Drpz} - \\mathit{Dt} + \\mathit{Pz} \\\\\n",
       "1\n",
       "\\end{array}\\right)$"
      ],
      "text/plain": [
       "<IPython.core.display.Math object>"
      ]
     },
     "metadata": {},
     "output_type": "display_data"
    }
   ],
   "source": [
    "var('Px','Py','Pz','Drpx','Drpy','Drpz')\n",
    "P_in=matrix([[Px-Drpx],\n",
    "             [Py-Drpy],\n",
    "             [Pz-Drpz-Dt],\n",
    "             [1]])\n",
    "\n",
    "display(Math(rf'P =~'+latex(P_in)))"
   ]
  },
  {
   "cell_type": "markdown",
   "id": "38773928-4e65-4867-ab4e-9072bd7b7d29",
   "metadata": {},
   "source": [
    "However some more consideration is needed for now a joint position of $P(rp_x,rp_y,rp_z)$ will result in a coordinate position of $Q(0,0,0)$ which is of course not the value we can hand back to LinuxCNC because if the rotation point is offset from machine zero then the coordinate position would be $Q(rp_x,rp_y,rp_z)$.<br> \n",
    "So to be consistent we need to add the offset values back to the results of our calculations which we do again by multiplying a vector translation to the left of our forward kinematic:"
   ]
  },
  {
   "cell_type": "markdown",
   "id": "677da919-9c33-4dc7-ba7a-0bb8aed7d824",
   "metadata": {},
   "source": [
    "\\begin{equation}\n",
    " ^QA_P=~ T_{rp} \\cdot T_t \\cdot R_s \\cdot T_o \\cdot R_p\n",
    "\\end{equation}"
   ]
  },
  {
   "cell_type": "code",
   "execution_count": 57,
   "id": "3a2f6261-a701-4f37-8d94-929c53ac6f6f",
   "metadata": {
    "scrolled": true
   },
   "outputs": [
    {
     "data": {
      "text/latex": [
       "$\\displaystyle Trp =~ \\left(\\begin{array}{rrrr}\n",
       "1 & 0 & 0 & \\mathit{Drpx} \\\\\n",
       "0 & 1 & 0 & \\mathit{Drpy} \\\\\n",
       "0 & 0 & 1 & \\mathit{Drpz} \\\\\n",
       "0 & 0 & 0 & 1\n",
       "\\end{array}\\right)$"
      ],
      "text/plain": [
       "<IPython.core.display.Math object>"
      ]
     },
     "metadata": {},
     "output_type": "display_data"
    }
   ],
   "source": [
    "Trp=matrix([[ 1, 0, 0, Drpx],\n",
    "            [ 0, 1, 0, Drpy],\n",
    "            [ 0, 0, 1, Drpz],\n",
    "            [ 0, 0, 0,  1  ]])\n",
    "display(Math(rf'Trp =~'+latex(Trp)))"
   ]
  },
  {
   "cell_type": "code",
   "execution_count": 58,
   "id": "00b97e75-f227-409d-91a0-62cf3b35d5e8",
   "metadata": {
    "scrolled": true
   },
   "outputs": [
    {
     "data": {
      "text/latex": [
       "$\\displaystyle ^QA_P =~~ \\left(\\begin{array}{rrrr}\n",
       "1 & 0 & 0 & \\mathit{Drpx} \\\\\n",
       "0 & 1 & 0 & \\mathit{Drpy} \\\\\n",
       "0 & 0 & 1 & \\mathit{Drpz} \\\\\n",
       "0 & 0 & 0 & 1\n",
       "\\end{array}\\right) \\cdot \\left(\\begin{array}{rrrr}\n",
       "1 & 0 & 0 & 0 \\\\\n",
       "0 & 1 & 0 & 0 \\\\\n",
       "0 & 0 & 1 & \\mathit{Dt} \\\\\n",
       "0 & 0 & 0 & 1\n",
       "\\end{array}\\right) \\cdot \\left(\\begin{array}{rrrr}\n",
       "\\mathit{Cs} & -\\mathit{Ss} & 0 & 0 \\\\\n",
       "\\mathit{Ss} & \\mathit{Cs} & 0 & 0 \\\\\n",
       "0 & 0 & 1 & 0 \\\\\n",
       "0 & 0 & 0 & 1\n",
       "\\end{array}\\right) \\cdot \\left(\\begin{array}{rrrr}\n",
       "1 & 0 & 0 & \\mathit{Dx} \\\\\n",
       "0 & 1 & 0 & 0 \\\\\n",
       "0 & 0 & 1 & \\mathit{Dz} \\\\\n",
       "0 & 0 & 0 & 1\n",
       "\\end{array}\\right) \\cdot \\left(\\begin{array}{rrrr}\n",
       "\\mathit{Cp} \\mathit{Cu} + \\mathit{CvSp} \\mathit{Su} & \\mathit{Cu} \\mathit{CvSp} - \\mathit{Cp} \\mathit{Su} & \\mathit{SvSp} & 0 \\\\\n",
       "-\\mathit{Cu} \\mathit{CvSp} + \\mathit{Su} r & \\mathit{CvSp} \\mathit{Su} + \\mathit{Cu} r & t & 0 \\\\\n",
       "-\\mathit{Cu} \\mathit{SvSp} + \\mathit{Su} t & \\mathit{Su} \\mathit{SvSp} + \\mathit{Cu} t & s & 0 \\\\\n",
       "0 & 0 & 0 & 1\n",
       "\\end{array}\\right)$"
      ],
      "text/plain": [
       "<IPython.core.display.Math object>"
      ]
     },
     "metadata": {},
     "output_type": "display_data"
    },
    {
     "data": {
      "text/latex": [
       "$\\displaystyle ^QA_P =~~ \\left(\\begin{array}{rrrr}\n",
       "{\\left(\\mathit{Cp} \\mathit{Cu} + \\mathit{CvSp} \\mathit{Su}\\right)} \\mathit{Cs} + {\\left(\\mathit{Cu} \\mathit{CvSp} - \\mathit{Su} r\\right)} \\mathit{Ss} & {\\left(\\mathit{Cu} \\mathit{CvSp} - \\mathit{Cp} \\mathit{Su}\\right)} \\mathit{Cs} - {\\left(\\mathit{CvSp} \\mathit{Su} + \\mathit{Cu} r\\right)} \\mathit{Ss} & \\mathit{Cs} \\mathit{SvSp} - \\mathit{Ss} t & \\mathit{Cs} \\mathit{Dx} + \\mathit{Drpx} \\\\\n",
       "-{\\left(\\mathit{Cu} \\mathit{CvSp} - \\mathit{Su} r\\right)} \\mathit{Cs} + {\\left(\\mathit{Cp} \\mathit{Cu} + \\mathit{CvSp} \\mathit{Su}\\right)} \\mathit{Ss} & {\\left(\\mathit{CvSp} \\mathit{Su} + \\mathit{Cu} r\\right)} \\mathit{Cs} + {\\left(\\mathit{Cu} \\mathit{CvSp} - \\mathit{Cp} \\mathit{Su}\\right)} \\mathit{Ss} & \\mathit{Ss} \\mathit{SvSp} + \\mathit{Cs} t & \\mathit{Dx} \\mathit{Ss} + \\mathit{Drpy} \\\\\n",
       "-\\mathit{Cu} \\mathit{SvSp} + \\mathit{Su} t & \\mathit{Su} \\mathit{SvSp} + \\mathit{Cu} t & s & \\mathit{Drpz} + \\mathit{Dt} + \\mathit{Dz} \\\\\n",
       "0 & 0 & 0 & 1\n",
       "\\end{array}\\right)$"
      ],
      "text/plain": [
       "<IPython.core.display.Math object>"
      ]
     },
     "metadata": {},
     "output_type": "display_data"
    }
   ],
   "source": [
    "# calculate the forward transformation matrix\n",
    "qAp=Trp*Tt*Rs*To*Rp\n",
    "display(Math(rf'^QA_P =~~'+latex(Trp)+rf'\\cdot'+latex(Tt)+rf'\\cdot'+latex(Rs)+rf'\\cdot'+latex(To)+rf'\\cdot'+latex(Rp)))\n",
    "display(Math(rf'^QA_P =~~'+latex(qAp)))"
   ]
  },
  {
   "cell_type": "code",
   "execution_count": 59,
   "id": "d4b4caf7-71f5-45b9-88d9-66decec151d1",
   "metadata": {
    "scrolled": true
   },
   "outputs": [
    {
     "data": {
      "text/latex": [
       "$\\displaystyle Q =~ \\left(\\begin{array}{r}\n",
       "\\mathit{Qx} \\\\\n",
       "\\mathit{Qy} \\\\\n",
       "\\mathit{Qz} \\\\\n",
       "1\n",
       "\\end{array}\\right) =~ ^QA_P \\cdot P$"
      ],
      "text/plain": [
       "<IPython.core.display.Math object>"
      ]
     },
     "metadata": {},
     "output_type": "display_data"
    },
    {
     "data": {
      "text/latex": [
       "$\\displaystyle Q =~ \\left(\\begin{array}{r}\n",
       "\\mathit{Qx} \\\\\n",
       "\\mathit{Qy} \\\\\n",
       "\\mathit{Qz} \\\\\n",
       "1\n",
       "\\end{array}\\right) =~ \\left(\\begin{array}{rrrr}\n",
       "{\\left(\\mathit{Cp} \\mathit{Cu} + \\mathit{CvSp} \\mathit{Su}\\right)} \\mathit{Cs} + {\\left(\\mathit{Cu} \\mathit{CvSp} - \\mathit{Su} r\\right)} \\mathit{Ss} & {\\left(\\mathit{Cu} \\mathit{CvSp} - \\mathit{Cp} \\mathit{Su}\\right)} \\mathit{Cs} - {\\left(\\mathit{CvSp} \\mathit{Su} + \\mathit{Cu} r\\right)} \\mathit{Ss} & \\mathit{Cs} \\mathit{SvSp} - \\mathit{Ss} t & \\mathit{Cs} \\mathit{Dx} + \\mathit{Drpx} \\\\\n",
       "-{\\left(\\mathit{Cu} \\mathit{CvSp} - \\mathit{Su} r\\right)} \\mathit{Cs} + {\\left(\\mathit{Cp} \\mathit{Cu} + \\mathit{CvSp} \\mathit{Su}\\right)} \\mathit{Ss} & {\\left(\\mathit{CvSp} \\mathit{Su} + \\mathit{Cu} r\\right)} \\mathit{Cs} + {\\left(\\mathit{Cu} \\mathit{CvSp} - \\mathit{Cp} \\mathit{Su}\\right)} \\mathit{Ss} & \\mathit{Ss} \\mathit{SvSp} + \\mathit{Cs} t & \\mathit{Dx} \\mathit{Ss} + \\mathit{Drpy} \\\\\n",
       "-\\mathit{Cu} \\mathit{SvSp} + \\mathit{Su} t & \\mathit{Su} \\mathit{SvSp} + \\mathit{Cu} t & s & \\mathit{Drpz} + \\mathit{Dt} + \\mathit{Dz} \\\\\n",
       "0 & 0 & 0 & 1\n",
       "\\end{array}\\right) \\cdot \\left(\\begin{array}{r}\n",
       "-\\mathit{Drpx} + \\mathit{Px} \\\\\n",
       "-\\mathit{Drpy} + \\mathit{Py} \\\\\n",
       "-\\mathit{Drpz} - \\mathit{Dt} + \\mathit{Pz} \\\\\n",
       "1\n",
       "\\end{array}\\right)$"
      ],
      "text/plain": [
       "<IPython.core.display.Math object>"
      ]
     },
     "metadata": {},
     "output_type": "display_data"
    },
    {
     "data": {
      "text/latex": [
       "$\\displaystyle Q =~ \\left(\\begin{array}{r}\n",
       "-{\\left({\\left(\\mathit{Cp} \\mathit{Cu} + \\mathit{CvSp} \\mathit{Su}\\right)} \\mathit{Cs} + {\\left(\\mathit{Cu} \\mathit{CvSp} - \\mathit{Su} r\\right)} \\mathit{Ss}\\right)} {\\left(\\mathit{Drpx} - \\mathit{Px}\\right)} - {\\left({\\left(\\mathit{Cu} \\mathit{CvSp} - \\mathit{Cp} \\mathit{Su}\\right)} \\mathit{Cs} - {\\left(\\mathit{CvSp} \\mathit{Su} + \\mathit{Cu} r\\right)} \\mathit{Ss}\\right)} {\\left(\\mathit{Drpy} - \\mathit{Py}\\right)} - {\\left(\\mathit{Cs} \\mathit{SvSp} - \\mathit{Ss} t\\right)} {\\left(\\mathit{Drpz} + \\mathit{Dt} - \\mathit{Pz}\\right)} + \\mathit{Cs} \\mathit{Dx} + \\mathit{Drpx} \\\\\n",
       "{\\left({\\left(\\mathit{Cu} \\mathit{CvSp} - \\mathit{Su} r\\right)} \\mathit{Cs} - {\\left(\\mathit{Cp} \\mathit{Cu} + \\mathit{CvSp} \\mathit{Su}\\right)} \\mathit{Ss}\\right)} {\\left(\\mathit{Drpx} - \\mathit{Px}\\right)} - {\\left({\\left(\\mathit{CvSp} \\mathit{Su} + \\mathit{Cu} r\\right)} \\mathit{Cs} + {\\left(\\mathit{Cu} \\mathit{CvSp} - \\mathit{Cp} \\mathit{Su}\\right)} \\mathit{Ss}\\right)} {\\left(\\mathit{Drpy} - \\mathit{Py}\\right)} - {\\left(\\mathit{Ss} \\mathit{SvSp} + \\mathit{Cs} t\\right)} {\\left(\\mathit{Drpz} + \\mathit{Dt} - \\mathit{Pz}\\right)} + \\mathit{Dx} \\mathit{Ss} + \\mathit{Drpy} \\\\\n",
       "{\\left(\\mathit{Cu} \\mathit{SvSp} - \\mathit{Su} t\\right)} {\\left(\\mathit{Drpx} - \\mathit{Px}\\right)} - {\\left(\\mathit{Su} \\mathit{SvSp} + \\mathit{Cu} t\\right)} {\\left(\\mathit{Drpy} - \\mathit{Py}\\right)} - {\\left(\\mathit{Drpz} + \\mathit{Dt} - \\mathit{Pz}\\right)} s + \\mathit{Drpz} + \\mathit{Dt} + \\mathit{Dz} \\\\\n",
       "1\n",
       "\\end{array}\\right)$"
      ],
      "text/plain": [
       "<IPython.core.display.Math object>"
      ]
     },
     "metadata": {},
     "output_type": "display_data"
    }
   ],
   "source": [
    "Q_out=qAp*P_in\n",
    "display(Math(rf'Q =~'+latex(Q_)+rf'=~ ^QA_P \\cdot P'))\n",
    "display(Math(rf'Q =~'+latex(Q_)+rf'=~'+latex(qAp)+rf'\\cdot'+latex(P_in)))\n",
    "display(Math(rf'Q =~'+latex(Q_out)))"
   ]
  },
  {
   "cell_type": "code",
   "execution_count": 60,
   "id": "3bcb5c15-fb96-42f5-9be7-6e1bdb98bed7",
   "metadata": {},
   "outputs": [
    {
     "data": {
      "text/latex": [
       "$\\displaystyle \\mathit{Qx} ~=~ \\left(-{\\left({\\left(\\mathit{Cp} \\mathit{Cu} + \\mathit{CvSp} \\mathit{Su}\\right)} \\mathit{Cs} + {\\left(\\mathit{Cu} \\mathit{CvSp} - \\mathit{Su} r\\right)} \\mathit{Ss}\\right)} {\\left(\\mathit{Drpx} - \\mathit{Px}\\right)} - {\\left({\\left(\\mathit{Cu} \\mathit{CvSp} - \\mathit{Cp} \\mathit{Su}\\right)} \\mathit{Cs} - {\\left(\\mathit{CvSp} \\mathit{Su} + \\mathit{Cu} r\\right)} \\mathit{Ss}\\right)} {\\left(\\mathit{Drpy} - \\mathit{Py}\\right)} - {\\left(\\mathit{Cs} \\mathit{SvSp} - \\mathit{Ss} t\\right)} {\\left(\\mathit{Drpz} + \\mathit{Dt} - \\mathit{Pz}\\right)} + \\mathit{Cs} \\mathit{Dx} + \\mathit{Drpx}\\right)$"
      ],
      "text/plain": [
       "<IPython.core.display.Math object>"
      ]
     },
     "metadata": {},
     "output_type": "display_data"
    },
    {
     "data": {
      "text/latex": [
       "$\\displaystyle \\mathit{Qy} ~=~ \\left({\\left({\\left(\\mathit{Cu} \\mathit{CvSp} - \\mathit{Su} r\\right)} \\mathit{Cs} - {\\left(\\mathit{Cp} \\mathit{Cu} + \\mathit{CvSp} \\mathit{Su}\\right)} \\mathit{Ss}\\right)} {\\left(\\mathit{Drpx} - \\mathit{Px}\\right)} - {\\left({\\left(\\mathit{CvSp} \\mathit{Su} + \\mathit{Cu} r\\right)} \\mathit{Cs} + {\\left(\\mathit{Cu} \\mathit{CvSp} - \\mathit{Cp} \\mathit{Su}\\right)} \\mathit{Ss}\\right)} {\\left(\\mathit{Drpy} - \\mathit{Py}\\right)} - {\\left(\\mathit{Ss} \\mathit{SvSp} + \\mathit{Cs} t\\right)} {\\left(\\mathit{Drpz} + \\mathit{Dt} - \\mathit{Pz}\\right)} + \\mathit{Dx} \\mathit{Ss} + \\mathit{Drpy}\\right)$"
      ],
      "text/plain": [
       "<IPython.core.display.Math object>"
      ]
     },
     "metadata": {},
     "output_type": "display_data"
    },
    {
     "data": {
      "text/latex": [
       "$\\displaystyle \\mathit{Qz} ~=~ \\left({\\left(\\mathit{Cu} \\mathit{SvSp} - \\mathit{Su} t\\right)} {\\left(\\mathit{Drpx} - \\mathit{Px}\\right)} - {\\left(\\mathit{Su} \\mathit{SvSp} + \\mathit{Cu} t\\right)} {\\left(\\mathit{Drpy} - \\mathit{Py}\\right)} - {\\left(\\mathit{Drpz} + \\mathit{Dt} - \\mathit{Pz}\\right)} s + \\mathit{Drpz} + \\mathit{Dt} + \\mathit{Dz}\\right)$"
      ],
      "text/plain": [
       "<IPython.core.display.Math object>"
      ]
     },
     "metadata": {},
     "output_type": "display_data"
    }
   ],
   "source": [
    "# Extract the tool-position vector Q (FORWARD KINEMATICS) from\n",
    "# the fourth column of the forward transformation matrix\n",
    "display(Math(latex(Q_[0][0]) + rf'~=~'  + latex(Q_out[0])))\n",
    "display(Math(latex(Q_[1][0]) + rf'~=~'  + latex(Q_out[1])))\n",
    "display(Math(latex(Q_[2][0]) + rf'~=~'  + latex(Q_out[2])))"
   ]
  },
  {
   "cell_type": "code",
   "execution_count": 61,
   "id": "26ba8bd6-2cc1-4bd0-bbc3-0a103549fd82",
   "metadata": {},
   "outputs": [
    {
     "name": "stdout",
     "output_type": "stream",
     "text": [
      "//TCP kinematics FORWARD\n",
      "pos->tran.x =  (-((Cp*Cu + CvSp*Su)*Cs + (Cu*CvSp - Su*r)*Ss)*(Drpx - Px) - ((Cu*CvSp - Cp*Su)*Cs - (CvSp*Su + Cu*r)*Ss)*(Drpy - Py) - (Cs*SvSp - Ss*t)*(Drpz + Dt - Pz) + Cs*Dx + Drpx) ;\n",
      "pos->tran.y =  (((Cu*CvSp - Su*r)*Cs - (Cp*Cu + CvSp*Su)*Ss)*(Drpx - Px) - ((CvSp*Su + Cu*r)*Cs + (Cu*CvSp - Cp*Su)*Ss)*(Drpy - Py) - (Ss*SvSp + Cs*t)*(Drpz + Dt - Pz) + Dx*Ss + Drpy) ;\n",
      "pos->tran.z =  ((Cu*SvSp - Su*t)*(Drpx - Px) - (Su*SvSp + Cu*t)*(Drpy - Py) - (Drpz + Dt - Pz)*s + Drpz + Dt + Dz) ;\n"
     ]
    }
   ],
   "source": [
    "# expressions as used in kinematics component\n",
    "print('//TCP kinematics FORWARD')\n",
    "print('pos->tran.x = ', Q_out[0], ';')\n",
    "print('pos->tran.y = ', Q_out[1], ';')\n",
    "print('pos->tran.z = ', Q_out[2], ';')"
   ]
  },
  {
   "cell_type": "markdown",
   "id": "76ae2080-e109-4852-88de-1a9ff216b988",
   "metadata": {},
   "source": [
    "### Inverse transformation\n",
    "\n",
    "For the inverse transformation to match the new forward transformation we need mirror the modifications in the forward kinematics. That means to subtract $Drp(x,y,z)$ from the coordinate position $Q$"
   ]
  },
  {
   "cell_type": "code",
   "execution_count": 62,
   "id": "f8e7910b-891c-4473-b6bd-9d7940eb8208",
   "metadata": {},
   "outputs": [
    {
     "data": {
      "text/latex": [
       "$\\displaystyle Q =~ \\left(\\begin{array}{r}\n",
       "-\\mathit{Drpx} + \\mathit{Qx} \\\\\n",
       "-\\mathit{Drpy} + \\mathit{Qy} \\\\\n",
       "-\\mathit{Drpz} - \\mathit{Dt} + \\mathit{Qz} \\\\\n",
       "1\n",
       "\\end{array}\\right)$"
      ],
      "text/plain": [
       "<IPython.core.display.Math object>"
      ]
     },
     "metadata": {},
     "output_type": "display_data"
    }
   ],
   "source": [
    "var('Qx','Qy','Qz')\n",
    "Q_in=matrix([[Qx-Drpx],\n",
    "             [Qy-Drpy],\n",
    "             [Qz-Drpz-Dt],\n",
    "             [1]])\n",
    "display(Math(rf'Q =~'+latex(Q_in)))"
   ]
  },
  {
   "cell_type": "markdown",
   "id": "5af9fdc7-0c79-480a-bac3-8cef1080d538",
   "metadata": {},
   "source": [
    " and add it back to the result which we do by multiplying the translation vector $Drp(x,y,z)$ to the inverse transformation from the left:\n"
   ]
  },
  {
   "cell_type": "markdown",
   "id": "efb71ca5-555b-4d6e-bb89-101c1800c37c",
   "metadata": {},
   "source": [
    "\\begin{equation}\n",
    "^PA_Q =~T_{rp} \\cdot~ T_t \\cdot R_p^T \\cdot  T_{io} \\cdot  R_s^T \n",
    "\\end{equation}"
   ]
  },
  {
   "cell_type": "code",
   "execution_count": 63,
   "id": "218d946a-8c44-4800-80a3-2e23a1060365",
   "metadata": {},
   "outputs": [
    {
     "data": {
      "text/latex": [
       "$\\displaystyle ^PA_Q =~~ \\left(\\begin{array}{rrrr}\n",
       "1 & 0 & 0 & \\mathit{Drpx} \\\\\n",
       "0 & 1 & 0 & \\mathit{Drpy} \\\\\n",
       "0 & 0 & 1 & \\mathit{Drpz} \\\\\n",
       "0 & 0 & 0 & 1\n",
       "\\end{array}\\right) \\cdot \\left(\\begin{array}{rrrr}\n",
       "1 & 0 & 0 & 0 \\\\\n",
       "0 & 1 & 0 & 0 \\\\\n",
       "0 & 0 & 1 & \\mathit{Dt} \\\\\n",
       "0 & 0 & 0 & 1\n",
       "\\end{array}\\right) \\cdot \\left(\\begin{array}{rrrr}\n",
       "\\mathit{Cp} \\mathit{Cu} + \\mathit{CvSp} \\mathit{Su} & -\\mathit{Cu} \\mathit{CvSp} + \\mathit{Su} r & -\\mathit{Cu} \\mathit{SvSp} + \\mathit{Su} t & 0 \\\\\n",
       "\\mathit{Cu} \\mathit{CvSp} - \\mathit{Cp} \\mathit{Su} & \\mathit{CvSp} \\mathit{Su} + \\mathit{Cu} r & \\mathit{Su} \\mathit{SvSp} + \\mathit{Cu} t & 0 \\\\\n",
       "\\mathit{SvSp} & t & s & 0 \\\\\n",
       "0 & 0 & 0 & 1\n",
       "\\end{array}\\right) \\cdot \\left(\\begin{array}{rrrr}\n",
       "1 & 0 & 0 & -\\mathit{Dx} \\\\\n",
       "0 & 1 & 0 & 0 \\\\\n",
       "0 & 0 & 1 & -\\mathit{Dz} \\\\\n",
       "0 & 0 & 0 & 1\n",
       "\\end{array}\\right) \\cdot \\left(\\begin{array}{rrrr}\n",
       "\\mathit{Cs} & \\mathit{Ss} & 0 & 0 \\\\\n",
       "-\\mathit{Ss} & \\mathit{Cs} & 0 & 0 \\\\\n",
       "0 & 0 & 1 & 0 \\\\\n",
       "0 & 0 & 0 & 1\n",
       "\\end{array}\\right)$"
      ],
      "text/plain": [
       "<IPython.core.display.Math object>"
      ]
     },
     "metadata": {},
     "output_type": "display_data"
    },
    {
     "data": {
      "text/latex": [
       "$\\displaystyle ^PA_Q =~~ \\left(\\begin{array}{rrrr}\n",
       "{\\left(\\mathit{Cp} \\mathit{Cu} + \\mathit{CvSp} \\mathit{Su}\\right)} \\mathit{Cs} + {\\left(\\mathit{Cu} \\mathit{CvSp} - \\mathit{Su} r\\right)} \\mathit{Ss} & -{\\left(\\mathit{Cu} \\mathit{CvSp} - \\mathit{Su} r\\right)} \\mathit{Cs} + {\\left(\\mathit{Cp} \\mathit{Cu} + \\mathit{CvSp} \\mathit{Su}\\right)} \\mathit{Ss} & -\\mathit{Cu} \\mathit{SvSp} + \\mathit{Su} t & -{\\left(\\mathit{Cp} \\mathit{Cu} + \\mathit{CvSp} \\mathit{Su}\\right)} \\mathit{Dx} + {\\left(\\mathit{Cu} \\mathit{SvSp} - \\mathit{Su} t\\right)} \\mathit{Dz} + \\mathit{Drpx} \\\\\n",
       "{\\left(\\mathit{Cu} \\mathit{CvSp} - \\mathit{Cp} \\mathit{Su}\\right)} \\mathit{Cs} - {\\left(\\mathit{CvSp} \\mathit{Su} + \\mathit{Cu} r\\right)} \\mathit{Ss} & {\\left(\\mathit{CvSp} \\mathit{Su} + \\mathit{Cu} r\\right)} \\mathit{Cs} + {\\left(\\mathit{Cu} \\mathit{CvSp} - \\mathit{Cp} \\mathit{Su}\\right)} \\mathit{Ss} & \\mathit{Su} \\mathit{SvSp} + \\mathit{Cu} t & -{\\left(\\mathit{Cu} \\mathit{CvSp} - \\mathit{Cp} \\mathit{Su}\\right)} \\mathit{Dx} - {\\left(\\mathit{Su} \\mathit{SvSp} + \\mathit{Cu} t\\right)} \\mathit{Dz} + \\mathit{Drpy} \\\\\n",
       "\\mathit{Cs} \\mathit{SvSp} - \\mathit{Ss} t & \\mathit{Ss} \\mathit{SvSp} + \\mathit{Cs} t & s & -\\mathit{Dx} \\mathit{SvSp} - \\mathit{Dz} s + \\mathit{Drpz} + \\mathit{Dt} \\\\\n",
       "0 & 0 & 0 & 1\n",
       "\\end{array}\\right)$"
      ],
      "text/plain": [
       "<IPython.core.display.Math object>"
      ]
     },
     "metadata": {},
     "output_type": "display_data"
    }
   ],
   "source": [
    "# calculate the inverse transformation matrix\n",
    "pAq=Trp*Tt*Rp.transpose()*Tio*Rs.transpose()\n",
    "display(Math(rf'^PA_Q =~~'+latex(Trp)+rf'\\cdot'+latex(Tt)+rf'\\cdot'+latex(Rp.transpose())+rf'\\cdot'+latex(Tio)+rf'\\cdot'+latex(Rs.transpose())))\n",
    "display(Math(rf'^PA_Q =~~'+latex(pAq)))"
   ]
  },
  {
   "cell_type": "code",
   "execution_count": 64,
   "id": "3d4ef7b3-5786-4861-b6df-7fc0a44afcb3",
   "metadata": {},
   "outputs": [
    {
     "data": {
      "text/latex": [
       "$\\displaystyle P =~ \\left(\\begin{array}{r}\n",
       "\\mathit{Px} \\\\\n",
       "\\mathit{Py} \\\\\n",
       "\\mathit{Pz} \\\\\n",
       "1\n",
       "\\end{array}\\right) =~^PA_Q \\cdot Q$"
      ],
      "text/plain": [
       "<IPython.core.display.Math object>"
      ]
     },
     "metadata": {},
     "output_type": "display_data"
    },
    {
     "data": {
      "text/latex": [
       "$\\displaystyle P =~ \\left(\\begin{array}{r}\n",
       "\\mathit{Px} \\\\\n",
       "\\mathit{Py} \\\\\n",
       "\\mathit{Pz} \\\\\n",
       "1\n",
       "\\end{array}\\right) =~ \\left(\\begin{array}{rrrr}\n",
       "{\\left(\\mathit{Cp} \\mathit{Cu} + \\mathit{CvSp} \\mathit{Su}\\right)} \\mathit{Cs} + {\\left(\\mathit{Cu} \\mathit{CvSp} - \\mathit{Su} r\\right)} \\mathit{Ss} & -{\\left(\\mathit{Cu} \\mathit{CvSp} - \\mathit{Su} r\\right)} \\mathit{Cs} + {\\left(\\mathit{Cp} \\mathit{Cu} + \\mathit{CvSp} \\mathit{Su}\\right)} \\mathit{Ss} & -\\mathit{Cu} \\mathit{SvSp} + \\mathit{Su} t & -{\\left(\\mathit{Cp} \\mathit{Cu} + \\mathit{CvSp} \\mathit{Su}\\right)} \\mathit{Dx} + {\\left(\\mathit{Cu} \\mathit{SvSp} - \\mathit{Su} t\\right)} \\mathit{Dz} + \\mathit{Drpx} \\\\\n",
       "{\\left(\\mathit{Cu} \\mathit{CvSp} - \\mathit{Cp} \\mathit{Su}\\right)} \\mathit{Cs} - {\\left(\\mathit{CvSp} \\mathit{Su} + \\mathit{Cu} r\\right)} \\mathit{Ss} & {\\left(\\mathit{CvSp} \\mathit{Su} + \\mathit{Cu} r\\right)} \\mathit{Cs} + {\\left(\\mathit{Cu} \\mathit{CvSp} - \\mathit{Cp} \\mathit{Su}\\right)} \\mathit{Ss} & \\mathit{Su} \\mathit{SvSp} + \\mathit{Cu} t & -{\\left(\\mathit{Cu} \\mathit{CvSp} - \\mathit{Cp} \\mathit{Su}\\right)} \\mathit{Dx} - {\\left(\\mathit{Su} \\mathit{SvSp} + \\mathit{Cu} t\\right)} \\mathit{Dz} + \\mathit{Drpy} \\\\\n",
       "\\mathit{Cs} \\mathit{SvSp} - \\mathit{Ss} t & \\mathit{Ss} \\mathit{SvSp} + \\mathit{Cs} t & s & -\\mathit{Dx} \\mathit{SvSp} - \\mathit{Dz} s + \\mathit{Drpz} + \\mathit{Dt} \\\\\n",
       "0 & 0 & 0 & 1\n",
       "\\end{array}\\right) \\cdot \\left(\\begin{array}{r}\n",
       "-\\mathit{Drpx} + \\mathit{Qx} \\\\\n",
       "-\\mathit{Drpy} + \\mathit{Qy} \\\\\n",
       "-\\mathit{Drpz} - \\mathit{Dt} + \\mathit{Qz} \\\\\n",
       "1\n",
       "\\end{array}\\right)$"
      ],
      "text/plain": [
       "<IPython.core.display.Math object>"
      ]
     },
     "metadata": {},
     "output_type": "display_data"
    },
    {
     "data": {
      "text/latex": [
       "$\\displaystyle P =~ \\left(\\begin{array}{r}\n",
       "-{\\left({\\left(\\mathit{Cp} \\mathit{Cu} + \\mathit{CvSp} \\mathit{Su}\\right)} \\mathit{Cs} + {\\left(\\mathit{Cu} \\mathit{CvSp} - \\mathit{Su} r\\right)} \\mathit{Ss}\\right)} {\\left(\\mathit{Drpx} - \\mathit{Qx}\\right)} + {\\left({\\left(\\mathit{Cu} \\mathit{CvSp} - \\mathit{Su} r\\right)} \\mathit{Cs} - {\\left(\\mathit{Cp} \\mathit{Cu} + \\mathit{CvSp} \\mathit{Su}\\right)} \\mathit{Ss}\\right)} {\\left(\\mathit{Drpy} - \\mathit{Qy}\\right)} + {\\left(\\mathit{Cu} \\mathit{SvSp} - \\mathit{Su} t\\right)} {\\left(\\mathit{Drpz} + \\mathit{Dt} - \\mathit{Qz}\\right)} - {\\left(\\mathit{Cp} \\mathit{Cu} + \\mathit{CvSp} \\mathit{Su}\\right)} \\mathit{Dx} + {\\left(\\mathit{Cu} \\mathit{SvSp} - \\mathit{Su} t\\right)} \\mathit{Dz} + \\mathit{Drpx} \\\\\n",
       "-{\\left({\\left(\\mathit{Cu} \\mathit{CvSp} - \\mathit{Cp} \\mathit{Su}\\right)} \\mathit{Cs} - {\\left(\\mathit{CvSp} \\mathit{Su} + \\mathit{Cu} r\\right)} \\mathit{Ss}\\right)} {\\left(\\mathit{Drpx} - \\mathit{Qx}\\right)} - {\\left({\\left(\\mathit{CvSp} \\mathit{Su} + \\mathit{Cu} r\\right)} \\mathit{Cs} + {\\left(\\mathit{Cu} \\mathit{CvSp} - \\mathit{Cp} \\mathit{Su}\\right)} \\mathit{Ss}\\right)} {\\left(\\mathit{Drpy} - \\mathit{Qy}\\right)} - {\\left(\\mathit{Su} \\mathit{SvSp} + \\mathit{Cu} t\\right)} {\\left(\\mathit{Drpz} + \\mathit{Dt} - \\mathit{Qz}\\right)} - {\\left(\\mathit{Cu} \\mathit{CvSp} - \\mathit{Cp} \\mathit{Su}\\right)} \\mathit{Dx} - {\\left(\\mathit{Su} \\mathit{SvSp} + \\mathit{Cu} t\\right)} \\mathit{Dz} + \\mathit{Drpy} \\\\\n",
       "-{\\left(\\mathit{Cs} \\mathit{SvSp} - \\mathit{Ss} t\\right)} {\\left(\\mathit{Drpx} - \\mathit{Qx}\\right)} - {\\left(\\mathit{Ss} \\mathit{SvSp} + \\mathit{Cs} t\\right)} {\\left(\\mathit{Drpy} - \\mathit{Qy}\\right)} - \\mathit{Dx} \\mathit{SvSp} - {\\left(\\mathit{Drpz} + \\mathit{Dt} - \\mathit{Qz}\\right)} s - \\mathit{Dz} s + \\mathit{Drpz} + \\mathit{Dt} \\\\\n",
       "1\n",
       "\\end{array}\\right)$"
      ],
      "text/plain": [
       "<IPython.core.display.Math object>"
      ]
     },
     "metadata": {},
     "output_type": "display_data"
    }
   ],
   "source": [
    "P_out=pAq*Q_in\n",
    "display(Math(rf'P =~'+latex(P_)+rf'=~^PA_Q \\cdot Q'))\n",
    "display(Math(rf'P =~'+latex(P_)+rf'=~'+latex(pAq)+rf'\\cdot'+latex(Q_in)))\n",
    "display(Math(rf'P =~'+latex(P_out)))"
   ]
  },
  {
   "cell_type": "code",
   "execution_count": 65,
   "id": "e44f5841-7d04-401e-b6f7-75ed7745db79",
   "metadata": {},
   "outputs": [
    {
     "data": {
      "text/latex": [
       "$\\displaystyle \\mathit{Px} ~=~ \\left(-{\\left({\\left(\\mathit{Cp} \\mathit{Cu} + \\mathit{CvSp} \\mathit{Su}\\right)} \\mathit{Cs} + {\\left(\\mathit{Cu} \\mathit{CvSp} - \\mathit{Su} r\\right)} \\mathit{Ss}\\right)} {\\left(\\mathit{Drpx} - \\mathit{Qx}\\right)} + {\\left({\\left(\\mathit{Cu} \\mathit{CvSp} - \\mathit{Su} r\\right)} \\mathit{Cs} - {\\left(\\mathit{Cp} \\mathit{Cu} + \\mathit{CvSp} \\mathit{Su}\\right)} \\mathit{Ss}\\right)} {\\left(\\mathit{Drpy} - \\mathit{Qy}\\right)} + {\\left(\\mathit{Cu} \\mathit{SvSp} - \\mathit{Su} t\\right)} {\\left(\\mathit{Drpz} + \\mathit{Dt} - \\mathit{Qz}\\right)} - {\\left(\\mathit{Cp} \\mathit{Cu} + \\mathit{CvSp} \\mathit{Su}\\right)} \\mathit{Dx} + {\\left(\\mathit{Cu} \\mathit{SvSp} - \\mathit{Su} t\\right)} \\mathit{Dz} + \\mathit{Drpx}\\right)$"
      ],
      "text/plain": [
       "<IPython.core.display.Math object>"
      ]
     },
     "metadata": {},
     "output_type": "display_data"
    },
    {
     "data": {
      "text/latex": [
       "$\\displaystyle \\mathit{Py} ~=~ \\left(-{\\left({\\left(\\mathit{Cu} \\mathit{CvSp} - \\mathit{Cp} \\mathit{Su}\\right)} \\mathit{Cs} - {\\left(\\mathit{CvSp} \\mathit{Su} + \\mathit{Cu} r\\right)} \\mathit{Ss}\\right)} {\\left(\\mathit{Drpx} - \\mathit{Qx}\\right)} - {\\left({\\left(\\mathit{CvSp} \\mathit{Su} + \\mathit{Cu} r\\right)} \\mathit{Cs} + {\\left(\\mathit{Cu} \\mathit{CvSp} - \\mathit{Cp} \\mathit{Su}\\right)} \\mathit{Ss}\\right)} {\\left(\\mathit{Drpy} - \\mathit{Qy}\\right)} - {\\left(\\mathit{Su} \\mathit{SvSp} + \\mathit{Cu} t\\right)} {\\left(\\mathit{Drpz} + \\mathit{Dt} - \\mathit{Qz}\\right)} - {\\left(\\mathit{Cu} \\mathit{CvSp} - \\mathit{Cp} \\mathit{Su}\\right)} \\mathit{Dx} - {\\left(\\mathit{Su} \\mathit{SvSp} + \\mathit{Cu} t\\right)} \\mathit{Dz} + \\mathit{Drpy}\\right)$"
      ],
      "text/plain": [
       "<IPython.core.display.Math object>"
      ]
     },
     "metadata": {},
     "output_type": "display_data"
    },
    {
     "data": {
      "text/latex": [
       "$\\displaystyle \\mathit{Pz} ~=~ \\left(-{\\left(\\mathit{Cs} \\mathit{SvSp} - \\mathit{Ss} t\\right)} {\\left(\\mathit{Drpx} - \\mathit{Qx}\\right)} - {\\left(\\mathit{Ss} \\mathit{SvSp} + \\mathit{Cs} t\\right)} {\\left(\\mathit{Drpy} - \\mathit{Qy}\\right)} - \\mathit{Dx} \\mathit{SvSp} - {\\left(\\mathit{Drpz} + \\mathit{Dt} - \\mathit{Qz}\\right)} s - \\mathit{Dz} s + \\mathit{Drpz} + \\mathit{Dt}\\right)$"
      ],
      "text/plain": [
       "<IPython.core.display.Math object>"
      ]
     },
     "metadata": {},
     "output_type": "display_data"
    }
   ],
   "source": [
    "# Extract the joint-position vector P (INVERSE KINEMATICS) from\n",
    "# the fourth column of the inverse transformation matrix\n",
    "display(Math(latex(P_[0][0]) + rf'~=~'  + latex(P_out[0])))\n",
    "display(Math(latex(P_[1][0]) + rf'~=~'  + latex(P_out[1])))\n",
    "display(Math(latex(P_[2][0]) + rf'~=~'  + latex(P_out[2])))"
   ]
  },
  {
   "cell_type": "code",
   "execution_count": 66,
   "id": "fb568ecb-987d-4b58-bf4a-fd28c1b1457e",
   "metadata": {},
   "outputs": [
    {
     "name": "stdout",
     "output_type": "stream",
     "text": [
      "//TCP kinematics INVERSE\n",
      "j[0] =  (-((Cp*Cu + CvSp*Su)*Cs + (Cu*CvSp - Su*r)*Ss)*(Drpx - Qx) + ((Cu*CvSp - Su*r)*Cs - (Cp*Cu + CvSp*Su)*Ss)*(Drpy - Qy) + (Cu*SvSp - Su*t)*(Drpz + Dt - Qz) - (Cp*Cu + CvSp*Su)*Dx + (Cu*SvSp - Su*t)*Dz + Drpx) ;\n",
      "j[1] =  (-((Cu*CvSp - Cp*Su)*Cs - (CvSp*Su + Cu*r)*Ss)*(Drpx - Qx) - ((CvSp*Su + Cu*r)*Cs + (Cu*CvSp - Cp*Su)*Ss)*(Drpy - Qy) - (Su*SvSp + Cu*t)*(Drpz + Dt - Qz) - (Cu*CvSp - Cp*Su)*Dx - (Su*SvSp + Cu*t)*Dz + Drpy) ;\n",
      "j[2] =  (-(Cs*SvSp - Ss*t)*(Drpx - Qx) - (Ss*SvSp + Cs*t)*(Drpy - Qy) - Dx*SvSp - (Drpz + Dt - Qz)*s - Dz*s + Drpz + Dt) ;\n"
     ]
    }
   ],
   "source": [
    "# expressions as used in kinematics component\n",
    "print('//TCP kinematics INVERSE')\n",
    "print('j[0] = ', P_out[0], ';')\n",
    "print('j[1] = ', P_out[1], ';')\n",
    "print('j[2] = ', P_out[2], ';')"
   ]
  },
  {
   "cell_type": "code",
   "execution_count": 67,
   "id": "8b976329-4ccd-432c-b874-080217caa9d6",
   "metadata": {},
   "outputs": [
    {
     "data": {
      "text/latex": [
       "$\\displaystyle Q =~ \\left(\\begin{array}{r}\n",
       "-\\mathit{Drpx} + \\mathit{Qx} \\\\\n",
       "-\\mathit{Drpy} + \\mathit{Qy} \\\\\n",
       "-\\mathit{Drpz} - \\mathit{Dt} + \\mathit{Qz} \\\\\n",
       "1\n",
       "\\end{array}\\right)$"
      ],
      "text/plain": [
       "<IPython.core.display.Math object>"
      ]
     },
     "metadata": {},
     "output_type": "display_data"
    }
   ],
   "source": [
    "var('Qx','Qy','Qz')\n",
    "Q_in=matrix([[Qx-Drpx],\n",
    "             [Qy-Drpy],\n",
    "             [Qz-Drpz-Dt],\n",
    "             [1]])\n",
    "display(Math(rf'Q =~'+latex(Q_in)))"
   ]
  },
  {
   "cell_type": "markdown",
   "id": "d9ebc3a5-2414-48b3-adf3-4808c471c1ca",
   "metadata": {},
   "source": [
    " and add it back to the result which we do by multiplying the translation vector $Drp(x,y,z)$ to the inverse transformation from the left:\n"
   ]
  },
  {
   "cell_type": "markdown",
   "id": "7d62bcd3-bd43-4881-95ff-89c09068862b",
   "metadata": {},
   "source": [
    "\\begin{equation}\n",
    "^PA_Q =~T_{rp} \\cdot~ T_t \\cdot R_p^T \\cdot  T_{io} \\cdot  R_s^T \n",
    "\\end{equation}"
   ]
  },
  {
   "cell_type": "code",
   "execution_count": 68,
   "id": "cf9e674d-542a-429b-91c6-4f7350e64272",
   "metadata": {},
   "outputs": [
    {
     "data": {
      "text/latex": [
       "$\\displaystyle ^PA_Q =~~ \\left(\\begin{array}{rrrr}\n",
       "1 & 0 & 0 & \\mathit{Drpx} \\\\\n",
       "0 & 1 & 0 & \\mathit{Drpy} \\\\\n",
       "0 & 0 & 1 & \\mathit{Drpz} \\\\\n",
       "0 & 0 & 0 & 1\n",
       "\\end{array}\\right) \\cdot \\left(\\begin{array}{rrrr}\n",
       "1 & 0 & 0 & 0 \\\\\n",
       "0 & 1 & 0 & 0 \\\\\n",
       "0 & 0 & 1 & \\mathit{Dt} \\\\\n",
       "0 & 0 & 0 & 1\n",
       "\\end{array}\\right) \\cdot \\left(\\begin{array}{rrrr}\n",
       "\\mathit{Cp} \\mathit{Cu} + \\mathit{CvSp} \\mathit{Su} & -\\mathit{Cu} \\mathit{CvSp} + \\mathit{Su} r & -\\mathit{Cu} \\mathit{SvSp} + \\mathit{Su} t & 0 \\\\\n",
       "\\mathit{Cu} \\mathit{CvSp} - \\mathit{Cp} \\mathit{Su} & \\mathit{CvSp} \\mathit{Su} + \\mathit{Cu} r & \\mathit{Su} \\mathit{SvSp} + \\mathit{Cu} t & 0 \\\\\n",
       "\\mathit{SvSp} & t & s & 0 \\\\\n",
       "0 & 0 & 0 & 1\n",
       "\\end{array}\\right) \\cdot \\left(\\begin{array}{rrrr}\n",
       "1 & 0 & 0 & -\\mathit{Dx} \\\\\n",
       "0 & 1 & 0 & 0 \\\\\n",
       "0 & 0 & 1 & -\\mathit{Dz} \\\\\n",
       "0 & 0 & 0 & 1\n",
       "\\end{array}\\right) \\cdot \\left(\\begin{array}{rrrr}\n",
       "\\mathit{Cs} & \\mathit{Ss} & 0 & 0 \\\\\n",
       "-\\mathit{Ss} & \\mathit{Cs} & 0 & 0 \\\\\n",
       "0 & 0 & 1 & 0 \\\\\n",
       "0 & 0 & 0 & 1\n",
       "\\end{array}\\right)$"
      ],
      "text/plain": [
       "<IPython.core.display.Math object>"
      ]
     },
     "metadata": {},
     "output_type": "display_data"
    },
    {
     "data": {
      "text/latex": [
       "$\\displaystyle ^PA_Q =~~ \\left(\\begin{array}{rrrr}\n",
       "{\\left(\\mathit{Cp} \\mathit{Cu} + \\mathit{CvSp} \\mathit{Su}\\right)} \\mathit{Cs} + {\\left(\\mathit{Cu} \\mathit{CvSp} - \\mathit{Su} r\\right)} \\mathit{Ss} & -{\\left(\\mathit{Cu} \\mathit{CvSp} - \\mathit{Su} r\\right)} \\mathit{Cs} + {\\left(\\mathit{Cp} \\mathit{Cu} + \\mathit{CvSp} \\mathit{Su}\\right)} \\mathit{Ss} & -\\mathit{Cu} \\mathit{SvSp} + \\mathit{Su} t & -{\\left(\\mathit{Cp} \\mathit{Cu} + \\mathit{CvSp} \\mathit{Su}\\right)} \\mathit{Dx} + {\\left(\\mathit{Cu} \\mathit{SvSp} - \\mathit{Su} t\\right)} \\mathit{Dz} + \\mathit{Drpx} \\\\\n",
       "{\\left(\\mathit{Cu} \\mathit{CvSp} - \\mathit{Cp} \\mathit{Su}\\right)} \\mathit{Cs} - {\\left(\\mathit{CvSp} \\mathit{Su} + \\mathit{Cu} r\\right)} \\mathit{Ss} & {\\left(\\mathit{CvSp} \\mathit{Su} + \\mathit{Cu} r\\right)} \\mathit{Cs} + {\\left(\\mathit{Cu} \\mathit{CvSp} - \\mathit{Cp} \\mathit{Su}\\right)} \\mathit{Ss} & \\mathit{Su} \\mathit{SvSp} + \\mathit{Cu} t & -{\\left(\\mathit{Cu} \\mathit{CvSp} - \\mathit{Cp} \\mathit{Su}\\right)} \\mathit{Dx} - {\\left(\\mathit{Su} \\mathit{SvSp} + \\mathit{Cu} t\\right)} \\mathit{Dz} + \\mathit{Drpy} \\\\\n",
       "\\mathit{Cs} \\mathit{SvSp} - \\mathit{Ss} t & \\mathit{Ss} \\mathit{SvSp} + \\mathit{Cs} t & s & -\\mathit{Dx} \\mathit{SvSp} - \\mathit{Dz} s + \\mathit{Drpz} + \\mathit{Dt} \\\\\n",
       "0 & 0 & 0 & 1\n",
       "\\end{array}\\right)$"
      ],
      "text/plain": [
       "<IPython.core.display.Math object>"
      ]
     },
     "metadata": {},
     "output_type": "display_data"
    }
   ],
   "source": [
    "# calculate the inverse transformation matrix\n",
    "pAq=Trp*Tt*Rp.transpose()*Tio*Rs.transpose()\n",
    "display(Math(rf'^PA_Q =~~'+latex(Trp)+rf'\\cdot'+latex(Tt)+rf'\\cdot'+latex(Rp.transpose())+rf'\\cdot'+latex(Tio)+rf'\\cdot'+latex(Rs.transpose())))\n",
    "display(Math(rf'^PA_Q =~~'+latex(pAq)))"
   ]
  },
  {
   "cell_type": "code",
   "execution_count": 69,
   "id": "d40ffa34-103c-4702-97ff-261c8323c59f",
   "metadata": {},
   "outputs": [
    {
     "data": {
      "text/latex": [
       "$\\displaystyle P =~ \\left(\\begin{array}{r}\n",
       "\\mathit{Px} \\\\\n",
       "\\mathit{Py} \\\\\n",
       "\\mathit{Pz} \\\\\n",
       "1\n",
       "\\end{array}\\right) =~^PA_Q \\cdot Q$"
      ],
      "text/plain": [
       "<IPython.core.display.Math object>"
      ]
     },
     "metadata": {},
     "output_type": "display_data"
    },
    {
     "data": {
      "text/latex": [
       "$\\displaystyle P =~ \\left(\\begin{array}{r}\n",
       "\\mathit{Px} \\\\\n",
       "\\mathit{Py} \\\\\n",
       "\\mathit{Pz} \\\\\n",
       "1\n",
       "\\end{array}\\right) =~ \\left(\\begin{array}{rrrr}\n",
       "{\\left(\\mathit{Cp} \\mathit{Cu} + \\mathit{CvSp} \\mathit{Su}\\right)} \\mathit{Cs} + {\\left(\\mathit{Cu} \\mathit{CvSp} - \\mathit{Su} r\\right)} \\mathit{Ss} & -{\\left(\\mathit{Cu} \\mathit{CvSp} - \\mathit{Su} r\\right)} \\mathit{Cs} + {\\left(\\mathit{Cp} \\mathit{Cu} + \\mathit{CvSp} \\mathit{Su}\\right)} \\mathit{Ss} & -\\mathit{Cu} \\mathit{SvSp} + \\mathit{Su} t & -{\\left(\\mathit{Cp} \\mathit{Cu} + \\mathit{CvSp} \\mathit{Su}\\right)} \\mathit{Dx} + {\\left(\\mathit{Cu} \\mathit{SvSp} - \\mathit{Su} t\\right)} \\mathit{Dz} + \\mathit{Drpx} \\\\\n",
       "{\\left(\\mathit{Cu} \\mathit{CvSp} - \\mathit{Cp} \\mathit{Su}\\right)} \\mathit{Cs} - {\\left(\\mathit{CvSp} \\mathit{Su} + \\mathit{Cu} r\\right)} \\mathit{Ss} & {\\left(\\mathit{CvSp} \\mathit{Su} + \\mathit{Cu} r\\right)} \\mathit{Cs} + {\\left(\\mathit{Cu} \\mathit{CvSp} - \\mathit{Cp} \\mathit{Su}\\right)} \\mathit{Ss} & \\mathit{Su} \\mathit{SvSp} + \\mathit{Cu} t & -{\\left(\\mathit{Cu} \\mathit{CvSp} - \\mathit{Cp} \\mathit{Su}\\right)} \\mathit{Dx} - {\\left(\\mathit{Su} \\mathit{SvSp} + \\mathit{Cu} t\\right)} \\mathit{Dz} + \\mathit{Drpy} \\\\\n",
       "\\mathit{Cs} \\mathit{SvSp} - \\mathit{Ss} t & \\mathit{Ss} \\mathit{SvSp} + \\mathit{Cs} t & s & -\\mathit{Dx} \\mathit{SvSp} - \\mathit{Dz} s + \\mathit{Drpz} + \\mathit{Dt} \\\\\n",
       "0 & 0 & 0 & 1\n",
       "\\end{array}\\right) \\cdot \\left(\\begin{array}{r}\n",
       "-\\mathit{Drpx} + \\mathit{Qx} \\\\\n",
       "-\\mathit{Drpy} + \\mathit{Qy} \\\\\n",
       "-\\mathit{Drpz} - \\mathit{Dt} + \\mathit{Qz} \\\\\n",
       "1\n",
       "\\end{array}\\right)$"
      ],
      "text/plain": [
       "<IPython.core.display.Math object>"
      ]
     },
     "metadata": {},
     "output_type": "display_data"
    },
    {
     "data": {
      "text/latex": [
       "$\\displaystyle P =~ \\left(\\begin{array}{r}\n",
       "-{\\left({\\left(\\mathit{Cp} \\mathit{Cu} + \\mathit{CvSp} \\mathit{Su}\\right)} \\mathit{Cs} + {\\left(\\mathit{Cu} \\mathit{CvSp} - \\mathit{Su} r\\right)} \\mathit{Ss}\\right)} {\\left(\\mathit{Drpx} - \\mathit{Qx}\\right)} + {\\left({\\left(\\mathit{Cu} \\mathit{CvSp} - \\mathit{Su} r\\right)} \\mathit{Cs} - {\\left(\\mathit{Cp} \\mathit{Cu} + \\mathit{CvSp} \\mathit{Su}\\right)} \\mathit{Ss}\\right)} {\\left(\\mathit{Drpy} - \\mathit{Qy}\\right)} + {\\left(\\mathit{Cu} \\mathit{SvSp} - \\mathit{Su} t\\right)} {\\left(\\mathit{Drpz} + \\mathit{Dt} - \\mathit{Qz}\\right)} - {\\left(\\mathit{Cp} \\mathit{Cu} + \\mathit{CvSp} \\mathit{Su}\\right)} \\mathit{Dx} + {\\left(\\mathit{Cu} \\mathit{SvSp} - \\mathit{Su} t\\right)} \\mathit{Dz} + \\mathit{Drpx} \\\\\n",
       "-{\\left({\\left(\\mathit{Cu} \\mathit{CvSp} - \\mathit{Cp} \\mathit{Su}\\right)} \\mathit{Cs} - {\\left(\\mathit{CvSp} \\mathit{Su} + \\mathit{Cu} r\\right)} \\mathit{Ss}\\right)} {\\left(\\mathit{Drpx} - \\mathit{Qx}\\right)} - {\\left({\\left(\\mathit{CvSp} \\mathit{Su} + \\mathit{Cu} r\\right)} \\mathit{Cs} + {\\left(\\mathit{Cu} \\mathit{CvSp} - \\mathit{Cp} \\mathit{Su}\\right)} \\mathit{Ss}\\right)} {\\left(\\mathit{Drpy} - \\mathit{Qy}\\right)} - {\\left(\\mathit{Su} \\mathit{SvSp} + \\mathit{Cu} t\\right)} {\\left(\\mathit{Drpz} + \\mathit{Dt} - \\mathit{Qz}\\right)} - {\\left(\\mathit{Cu} \\mathit{CvSp} - \\mathit{Cp} \\mathit{Su}\\right)} \\mathit{Dx} - {\\left(\\mathit{Su} \\mathit{SvSp} + \\mathit{Cu} t\\right)} \\mathit{Dz} + \\mathit{Drpy} \\\\\n",
       "-{\\left(\\mathit{Cs} \\mathit{SvSp} - \\mathit{Ss} t\\right)} {\\left(\\mathit{Drpx} - \\mathit{Qx}\\right)} - {\\left(\\mathit{Ss} \\mathit{SvSp} + \\mathit{Cs} t\\right)} {\\left(\\mathit{Drpy} - \\mathit{Qy}\\right)} - \\mathit{Dx} \\mathit{SvSp} - {\\left(\\mathit{Drpz} + \\mathit{Dt} - \\mathit{Qz}\\right)} s - \\mathit{Dz} s + \\mathit{Drpz} + \\mathit{Dt} \\\\\n",
       "1\n",
       "\\end{array}\\right)$"
      ],
      "text/plain": [
       "<IPython.core.display.Math object>"
      ]
     },
     "metadata": {},
     "output_type": "display_data"
    }
   ],
   "source": [
    "P_out=pAq*Q_in\n",
    "display(Math(rf'P =~'+latex(P_)+rf'=~^PA_Q \\cdot Q'))\n",
    "display(Math(rf'P =~'+latex(P_)+rf'=~'+latex(pAq)+rf'\\cdot'+latex(Q_in)))\n",
    "display(Math(rf'P =~'+latex(P_out)))"
   ]
  },
  {
   "cell_type": "code",
   "execution_count": 70,
   "id": "40f0f93a-8b5f-4465-9170-ea3024957d80",
   "metadata": {},
   "outputs": [
    {
     "data": {
      "text/latex": [
       "$\\displaystyle \\mathit{Px} ~=~ \\left(-{\\left({\\left(\\mathit{Cp} \\mathit{Cu} + \\mathit{CvSp} \\mathit{Su}\\right)} \\mathit{Cs} + {\\left(\\mathit{Cu} \\mathit{CvSp} - \\mathit{Su} r\\right)} \\mathit{Ss}\\right)} {\\left(\\mathit{Drpx} - \\mathit{Qx}\\right)} + {\\left({\\left(\\mathit{Cu} \\mathit{CvSp} - \\mathit{Su} r\\right)} \\mathit{Cs} - {\\left(\\mathit{Cp} \\mathit{Cu} + \\mathit{CvSp} \\mathit{Su}\\right)} \\mathit{Ss}\\right)} {\\left(\\mathit{Drpy} - \\mathit{Qy}\\right)} + {\\left(\\mathit{Cu} \\mathit{SvSp} - \\mathit{Su} t\\right)} {\\left(\\mathit{Drpz} + \\mathit{Dt} - \\mathit{Qz}\\right)} - {\\left(\\mathit{Cp} \\mathit{Cu} + \\mathit{CvSp} \\mathit{Su}\\right)} \\mathit{Dx} + {\\left(\\mathit{Cu} \\mathit{SvSp} - \\mathit{Su} t\\right)} \\mathit{Dz} + \\mathit{Drpx}\\right)$"
      ],
      "text/plain": [
       "<IPython.core.display.Math object>"
      ]
     },
     "metadata": {},
     "output_type": "display_data"
    },
    {
     "data": {
      "text/latex": [
       "$\\displaystyle \\mathit{Py} ~=~ \\left(-{\\left({\\left(\\mathit{Cu} \\mathit{CvSp} - \\mathit{Cp} \\mathit{Su}\\right)} \\mathit{Cs} - {\\left(\\mathit{CvSp} \\mathit{Su} + \\mathit{Cu} r\\right)} \\mathit{Ss}\\right)} {\\left(\\mathit{Drpx} - \\mathit{Qx}\\right)} - {\\left({\\left(\\mathit{CvSp} \\mathit{Su} + \\mathit{Cu} r\\right)} \\mathit{Cs} + {\\left(\\mathit{Cu} \\mathit{CvSp} - \\mathit{Cp} \\mathit{Su}\\right)} \\mathit{Ss}\\right)} {\\left(\\mathit{Drpy} - \\mathit{Qy}\\right)} - {\\left(\\mathit{Su} \\mathit{SvSp} + \\mathit{Cu} t\\right)} {\\left(\\mathit{Drpz} + \\mathit{Dt} - \\mathit{Qz}\\right)} - {\\left(\\mathit{Cu} \\mathit{CvSp} - \\mathit{Cp} \\mathit{Su}\\right)} \\mathit{Dx} - {\\left(\\mathit{Su} \\mathit{SvSp} + \\mathit{Cu} t\\right)} \\mathit{Dz} + \\mathit{Drpy}\\right)$"
      ],
      "text/plain": [
       "<IPython.core.display.Math object>"
      ]
     },
     "metadata": {},
     "output_type": "display_data"
    },
    {
     "data": {
      "text/latex": [
       "$\\displaystyle \\mathit{Pz} ~=~ \\left(-{\\left(\\mathit{Cs} \\mathit{SvSp} - \\mathit{Ss} t\\right)} {\\left(\\mathit{Drpx} - \\mathit{Qx}\\right)} - {\\left(\\mathit{Ss} \\mathit{SvSp} + \\mathit{Cs} t\\right)} {\\left(\\mathit{Drpy} - \\mathit{Qy}\\right)} - \\mathit{Dx} \\mathit{SvSp} - {\\left(\\mathit{Drpz} + \\mathit{Dt} - \\mathit{Qz}\\right)} s - \\mathit{Dz} s + \\mathit{Drpz} + \\mathit{Dt}\\right)$"
      ],
      "text/plain": [
       "<IPython.core.display.Math object>"
      ]
     },
     "metadata": {},
     "output_type": "display_data"
    }
   ],
   "source": [
    "# Extract the joint-position vector P (INVERSE KINEMATICS) from\n",
    "# the fourth column of the inverse transformation matrix\n",
    "display(Math(latex(P_[0][0]) + rf'~=~'  + latex(P_out[0])))\n",
    "display(Math(latex(P_[1][0]) + rf'~=~'  + latex(P_out[1])))\n",
    "display(Math(latex(P_[2][0]) + rf'~=~'  + latex(P_out[2])))"
   ]
  },
  {
   "cell_type": "code",
   "execution_count": 71,
   "id": "fdcbb963-2212-473e-99ee-6fe6908b4db2",
   "metadata": {},
   "outputs": [
    {
     "name": "stdout",
     "output_type": "stream",
     "text": [
      "//TCP kinematics INVERSE\n",
      "j[0] =  (-((Cp*Cu + CvSp*Su)*Cs + (Cu*CvSp - Su*r)*Ss)*(Drpx - Qx) + ((Cu*CvSp - Su*r)*Cs - (Cp*Cu + CvSp*Su)*Ss)*(Drpy - Qy) + (Cu*SvSp - Su*t)*(Drpz + Dt - Qz) - (Cp*Cu + CvSp*Su)*Dx + (Cu*SvSp - Su*t)*Dz + Drpx) ;\n",
      "j[1] =  (-((Cu*CvSp - Cp*Su)*Cs - (CvSp*Su + Cu*r)*Ss)*(Drpx - Qx) - ((CvSp*Su + Cu*r)*Cs + (Cu*CvSp - Cp*Su)*Ss)*(Drpy - Qy) - (Su*SvSp + Cu*t)*(Drpz + Dt - Qz) - (Cu*CvSp - Cp*Su)*Dx - (Su*SvSp + Cu*t)*Dz + Drpy) ;\n",
      "j[2] =  (-(Cs*SvSp - Ss*t)*(Drpx - Qx) - (Ss*SvSp + Cs*t)*(Drpy - Qy) - Dx*SvSp - (Drpz + Dt - Qz)*s - Dz*s + Drpz + Dt) ;\n"
     ]
    }
   ],
   "source": [
    "# expressions as used in kinematics component\n",
    "print('//TCP kinematics INVERSE')\n",
    "print('j[0] = ', P_out[0], ';')\n",
    "print('j[1] = ', P_out[1], ';')\n",
    "print('j[2] = ', P_out[2], ';')"
   ]
  },
  {
   "cell_type": "markdown",
   "id": "0b35304f-ec13-4e05-82a0-3f93bd2228c6",
   "metadata": {},
   "source": [
    "This completes the kinematic model.<br>"
   ]
  },
  {
   "cell_type": "markdown",
   "id": "af792984-82e9-4e5e-89dd-50445c94dd39",
   "metadata": {},
   "source": [
    "# 'Tilted Work Plane' (TWP)\n",
    "\n",
    "Commercial 5-axis machine controllers offer built in functionality that allow the operator to define work plane orientation using Gcode commands like G68.2 or similar. With the new custom TOOL kinematic we can now explore a possible implementation of TWP in LinuxCNC.<br>\n",
    "For the purpose of this example we choose the already mentioned 'G68.2' and the associated Gcodes as used by Fanuc:<br>\n",
    "\n",
    "* G68.2 - Set custom coordinate system using five different modes\n",
    "* G68.3 - Set custom coordinate system using current tool orientation\n",
    "* G68.4 - Same as 68.2 but as an incremental reorientation of an existing TWP\n",
    "\n",
    "* G53.1 - Orient the tool to the TWP using non-TCP joint rotation \n",
    "* G53.6 - Orient the tool to the TWP using TCP joint rotation\n",
    "\n",
    "* G69 - Cancel the TWP setting\n",
    "\n",
    "The TWP feature always requires a TWP-definition (G68.x) before an orientation command (G53.x) can be issued.<br> \n",
    "G68.x commands do not cause any machine movement while G53 command will cause immediate machine movement.\n",
    "At the end of a TWP operation a G69 command is used to return to machine coordinates.<br>\n",
    "\n",
    "In this presentation we use a 'Pure Python Remap' to make the above Gcode commands available to the machine operator. As a consequence our depth of integration is quite limited in the sense that the LinuxCNC Gcode interpreter will be totally ignorant of our 'TWP'-mode."
   ]
  },
  {
   "cell_type": "markdown",
   "id": "3a4789b3-887b-4530-9e03-9f2f9db6a0e7",
   "metadata": {},
   "source": [
    "## Calculating the spindle rotary joint positions for a given tool-orientation vector\n",
    "\n",
    "\n",
    "The transformation matrix we derived for the inverse tool kinematic contains a rotation matrix that describes the rotation of the unit vectors of the machine coordinate system (MCS)\n",
    "\n",
    "\n",
    "\\begin{equation}\n",
    "U ~=~\n",
    "\\left(\\begin{array}{rrrr}\n",
    "  1, 0, 0 \\\\\n",
    "  0, 1, 0 \\\\\n",
    "  0, 0, 1 \\\\\n",
    "\\end{array}\\right)\n",
    "~\n",
    "Unitvectors~of~the~MCS\n",
    "\\end{equation}\n",
    "\n",
    "to the tool coordinate system (TCS).\n",
    "\n",
    "\n",
    "\\begin{equation}\n",
    "K ~=~\n",
    "\\left(\\begin{array}{rrrr}\n",
    "  Kx_x, Ky_x, Kz_x \\\\\n",
    "  Kx_y, Ky_y, Kz_y \\\\\n",
    "  Kx_z, Ky_z, Kz_z \\\\\n",
    "\\end{array}\\right)\n",
    "~\n",
    "Toolvector\n",
    "\\end{equation}\n",
    "\n",
    "To orient the tool perpendicular to the TWP requested by the user we need to find the angles of the spindle rotary joints so that the resulting tool-z vector matches the twp-z vector.\n",
    "\n",
    "First we extract the tool-z vector from the third column of the transformation matrix in the inverse tool kinematic"
   ]
  },
  {
   "cell_type": "code",
   "execution_count": 72,
   "id": "41ef1eee-c41d-43a6-a0ba-ebc2ccd5af95",
   "metadata": {},
   "outputs": [],
   "source": [
    "# Tool-z orientation vector K \n",
    "var('Kz_x','Kz_y','Kz_z')\n",
    "Kz_=matrix([[Kz_x],\n",
    "          [Kz_y],\n",
    "          [Kz_z],\n",
    "          [1]])\n",
    "# Tool-x orientation vector J \n",
    "var('Kx_x','Kx_y','Kx_z')\n",
    "Kx_=matrix([[Kx_x],\n",
    "          [Kx_y],\n",
    "          [Kx_z],\n",
    "          [1]])"
   ]
  },
  {
   "cell_type": "code",
   "execution_count": 73,
   "id": "adfeff3e-d028-4eab-947a-7f6f4173251b",
   "metadata": {},
   "outputs": [
    {
     "data": {
      "text/latex": [
       "$\\displaystyle \\mathit{Kz}_{x} ~=~ \\mathit{Cs} \\mathit{SvSp} - \\mathit{Ss} t$"
      ],
      "text/plain": [
       "<IPython.core.display.Math object>"
      ]
     },
     "metadata": {},
     "output_type": "display_data"
    },
    {
     "data": {
      "text/latex": [
       "$\\displaystyle \\mathit{Kz}_{y} ~=~ \\mathit{Ss} \\mathit{SvSp} + \\mathit{Cs} t$"
      ],
      "text/plain": [
       "<IPython.core.display.Math object>"
      ]
     },
     "metadata": {},
     "output_type": "display_data"
    },
    {
     "data": {
      "text/latex": [
       "$\\displaystyle \\mathit{Kz}_{z} ~=~ s$"
      ],
      "text/plain": [
       "<IPython.core.display.Math object>"
      ]
     },
     "metadata": {},
     "output_type": "display_data"
    }
   ],
   "source": [
    "# Extract the tool-z orientation vector from\n",
    "# the third column of the forward transformation matrix\n",
    "display(Math(latex(Kz_[0][0]) + rf'~=~'  + latex(qAp[0][2])))\n",
    "display(Math(latex(Kz_[1][0]) + rf'~=~'  + latex(qAp[1][2])))\n",
    "display(Math(latex(Kz_[2][0]) + rf'~=~'  + latex(qAp[2][2])))"
   ]
  },
  {
   "cell_type": "markdown",
   "id": "de0631f3-2285-4b30-b2ae-de0ef9a86ff8",
   "metadata": {},
   "source": [
    "With our substitutions:\n",
    "$$ C_p + S²_{\\nu}(1-C_p)~=~ r   ~~~~~~~~  C_p + C²_{\\nu}(1-C_p) ~=~ s ~~~~~~~~ -S_{\\nu}C_{\\nu}(1-C_p) ~=~ t  $$ \n",
    "\n",
    "### Calculating the primary angle $\\theta_p$\n",
    "$$ Kz_z =  C_p + C²_{\\nu}(1-C_p)  $$\n",
    "$$ Kz_z =  C²_{\\nu} + C_p - C²_{\\nu}C_p  $$\n",
    "$$ Kz_z =  C²_{\\nu} + C_p(1 - C²_{\\nu})  $$\n",
    "\n",
    "$$ C_p = {{Kz_z - C²_{\\nu}} \\over {1-C²_{\\nu}}} ~~ ;{\\theta_{\\nu}} \\neq 0$$\n",
    "Note that for  $\\theta_{\\nu} = 0$ the primary rotary axis is parallel to the secondary rotary axis which is of no interest in our case.  \n",
    "\n",
    "$$ \\theta_p = \\pm acos({{Kz_z - C²_{\\nu}} \\over {1-C²_{\\nu}}}) $$\n",
    "\n",
    "Note that the formula above is undefined for $$ |{{Kz_z - C²_{\\nu}} \\over {1-C²_{\\nu}}}| > 1 $$ \n",
    "\n",
    "First we check the positive case first\n",
    "$$ {{Kz_z - C²_{\\nu}} \\over {1-C²_{\\nu}}} > 1 $$ \n",
    "$$ {Kz_z - C²_{\\nu}} > {1-C²_{\\nu}} $$\n",
    "We get for the upper bound \n",
    "$$ Kz_z > 1 $$ \n",
    "This case will never occur since we use a normalized vector.\n",
    "\n",
    "\n",
    "Then we check the negative case\n",
    "$$ {{Kz_z - C²_{\\nu}} \\over {1-C²_{\\nu}}} < -1 $$\n",
    "$$ {Kz_z - C²_{\\nu}} < {C²_{\\nu}-1} $$\n",
    "We get for the lower bound\n",
    "$$ Kz_z  < {2C²_{\\nu}-1} $$\n",
    "Which tells us that the lower bound for our $Kz_z$ value depends on the nutation angle $\\theta_\\nu$.\n",
    "<br>\n",
    "For $\\theta_\\nu = 90°$ the above collapses to \n",
    "$$ Kz_z  < -1 $$\n",
    "Which will also never occur for a normalized vector. \n",
    "\n",
    "For $\\theta_\\nu = 0°$ the above collapses to \n",
    "$$ Kz_z  < 1 $$\n",
    "Which is always true. \n",
    "Note that this is the case when the primary rotary axis is parallel to the secondary and it is intuitive that we cannot rotate the $Kz$ vector out of the vertical at all.<br>\n",
    "In other words we can rotate our table to a maximum of $2\\theta\\nu$ out of the vertical position.  \n",
    "\n",
    "\n",
    "### Calculating the secondary angle $\\theta_s$\n",
    "\n",
    "$$ Kz_y =  S_sS_{\\nu}S_p + tC_s  $$\n",
    "\n",
    "Note that this expression is of the form \n",
    "$$aCos\\theta_s ~+~ bSin\\theta_s = c$$\n",
    "\n",
    "with \n",
    "\n",
    "$$a = t$$\n",
    "$$b = S_{\\nu}S_p$$\n",
    "$$c = Kz_y$$\n",
    "\n",
    "However we first substitute:\n",
    "\n",
    "$$a = RCos\\phi, ~~~b = RSin\\phi$$\n",
    "\n",
    "and note that\n",
    "\n",
    "$$ a²+b² = R²Cos²\\phi ~+~ R²Sin²\\phi$$\n",
    "$$ a²+b² = R²~~(Cos²\\phi ~+~ Sin²\\phi)$$\n",
    "$$ a²+b² = R²$$\n",
    "and hence \n",
    "$$R=\\sqrt{a²+b²}$$\n",
    "\n",
    "we also note that\n",
    "$${a \\over b} = { {RCos\\phi} \\over {RSin\\phi}}$$\n",
    "and thus\n",
    "$$ tan\\phi = {a \\over b} ~~ ;b = S_{\\nu}S_p\\neq 0 \\rightarrow {\\theta_{\\nu}} \\neq 0,  {\\theta_{p}} \\neq 0$$\n",
    "Note that the case of $\\theta_{\\nu} = 0$ was already disussed above but the case of ${\\theta_{p}} = 0$ will need to be examined later.  \n",
    "\n",
    "Further we note that \n",
    "$$  RCos\\phi~ Cos\\theta_s ~+~ RSin\\phi~ Sin\\theta_s = c $$\n",
    "$$  R~(Cos\\phi Cos\\theta_s ~+~ Sin\\phi Sin\\theta_s) = c $$\n",
    "and using the cosine summation formula\n",
    "$$  R~(Cos\\phi Cos\\theta_s ~+~ Sin\\phi Sin\\theta_s) = RCos(\\phi - \\theta_s) $$\n",
    "we see that \n",
    "$$ c = RCos(\\phi - \\theta_s) $$\n",
    "\n",
    "Hence we can calculate \n",
    "\n",
    "$$\\phi - \\theta_s = {\\pm acos({c \\over{R}})}   ~~,R = \\sqrt{a²+b²} \\neq 0, ~|{c \\over{R}}|<1$$  \n",
    "$$ \\theta_s = {\\pm acos({c \\over {R}})} -\\phi $$  \n",
    "\n",
    "And finally\n",
    "\n",
    "$$ \\theta_s = {\\pm acos({c \\over {\\sqrt{a²+b²}}}) - atan({a \\over b})}~~~~~~~ with~  a = t,~b = S_{\\nu}S_p,~c = Kz_y$$\n",
    "\n",
    "\n",
    "Handling the case of  ${\\theta_{p}} = 0$:\n",
    "\n",
    "If the primary angle is zero the machine table is horizontal and thus $Kz = (0,0,1)^T$ in this case we can calculate  ${\\theta_{s}}$ from $Kx$:"
   ]
  },
  {
   "cell_type": "code",
   "execution_count": 74,
   "id": "a67aa5c2-a02a-4020-a2e9-f4fa7a09af6c",
   "metadata": {
    "scrolled": true
   },
   "outputs": [
    {
     "data": {
      "text/latex": [
       "$\\displaystyle \\mathit{Kx}_{x} ~=~ {\\left(\\mathit{Cp} \\mathit{Cu} + \\mathit{CvSp} \\mathit{Su}\\right)} \\mathit{Cs} + {\\left(\\mathit{Cu} \\mathit{CvSp} - \\mathit{Su} r\\right)} \\mathit{Ss}$"
      ],
      "text/plain": [
       "<IPython.core.display.Math object>"
      ]
     },
     "metadata": {},
     "output_type": "display_data"
    },
    {
     "data": {
      "text/latex": [
       "$\\displaystyle \\mathit{Kx}_{y} ~=~ {\\left(\\mathit{Cu} \\mathit{CvSp} - \\mathit{Cp} \\mathit{Su}\\right)} \\mathit{Cs} - {\\left(\\mathit{CvSp} \\mathit{Su} + \\mathit{Cu} r\\right)} \\mathit{Ss}$"
      ],
      "text/plain": [
       "<IPython.core.display.Math object>"
      ]
     },
     "metadata": {},
     "output_type": "display_data"
    },
    {
     "data": {
      "text/latex": [
       "$\\displaystyle \\mathit{Kx}_{z} ~=~ \\mathit{Cs} \\mathit{SvSp} - \\mathit{Ss} t$"
      ],
      "text/plain": [
       "<IPython.core.display.Math object>"
      ]
     },
     "metadata": {},
     "output_type": "display_data"
    }
   ],
   "source": [
    "# Extract the tool-x orientation vector from\n",
    "# the first column of the inverse transformation matrix\n",
    "display(Math(latex(Kx_[0][0]) + rf'~=~'  + latex(pAq[0][0])))\n",
    "display(Math(latex(Kx_[1][0]) + rf'~=~'  + latex(pAq[1][0])))\n",
    "display(Math(latex(Kx_[2][0]) + rf'~=~'  + latex(pAq[2][0])))"
   ]
  },
  {
   "cell_type": "markdown",
   "id": "37ceb63c-4979-47f8-b12e-d3222a8ceefc",
   "metadata": {},
   "source": [
    "\n"
   ]
  },
  {
   "cell_type": "markdown",
   "id": "ba1bd904-bd51-477d-9cd3-ac42d4ec0f61",
   "metadata": {},
   "source": [
    "$${\\theta_{s}} = atan({Kx_y \\over Kx_x})   ~~ Kx_x \\neq 0$$\n"
   ]
  },
  {
   "cell_type": "markdown",
   "id": "5d596d81-91c9-4c7a-a6b2-8ff9f95ac976",
   "metadata": {},
   "source": [
    "## TWP kinematics\n",
    "\n",
    "For kinematics with only work side rotations the oriented work plane will always be horizontal thus the only difference to a trivial kinematic will be a possible offset in the origin of the work coordinate system (WCS) and a possible vertical rotation of the WCS around the Z axis. Both of these could be handled by changing the current work offset XYZ and R values.<br>\n",
    "For our example we opt to handle the rotation around the Z axis in a separate kinematic instead.\n",
    "\n",
    "\n",
    "### Forward kinematics\n",
    "We need to compensate for cases where the machine reference point is not identical to the center face of the rotary table. This is done in the same manner as already discussed in the TCP kinematic above.\n"
   ]
  },
  {
   "cell_type": "code",
   "execution_count": 75,
   "id": "096669bf-3b7a-461e-8560-f72d0519bd1a",
   "metadata": {},
   "outputs": [
    {
     "data": {
      "text/latex": [
       "$\\displaystyle P =~ \\left(\\begin{array}{r}\n",
       "-\\mathit{Drpx} + \\mathit{Px} \\\\\n",
       "-\\mathit{Drpy} + \\mathit{Py} \\\\\n",
       "-\\mathit{Drpz} + \\mathit{Pz} \\\\\n",
       "1\n",
       "\\end{array}\\right)$"
      ],
      "text/plain": [
       "<IPython.core.display.Math object>"
      ]
     },
     "metadata": {},
     "output_type": "display_data"
    }
   ],
   "source": [
    "var('Px','Py','Pz','Drpx','Drpy','Drpz')\n",
    "P_in=matrix([[Px-Drpx],\n",
    "             [Py-Drpy],\n",
    "             [Pz-Drpz],\n",
    "             [1]])\n",
    "\n",
    "display(Math(rf'P =~'+latex(P_in)))"
   ]
  },
  {
   "cell_type": "markdown",
   "id": "456e524e-dccf-499d-8932-9b3a6a83a504",
   "metadata": {},
   "source": [
    "The only other part in our kinematic chaine is the rotation around the Z-axis $R_wc$"
   ]
  },
  {
   "cell_type": "markdown",
   "id": "071f5943-8a18-4f1d-9c78-c78f3aa83297",
   "metadata": {},
   "source": [
    "\\begin{equation}\n",
    " ^QA_P=~ T_{rp} \\cdot R_wc\n",
    "\\end{equation}"
   ]
  },
  {
   "cell_type": "code",
   "execution_count": 76,
   "id": "36b1cf57-a530-4c07-91f5-96af0ca30bb1",
   "metadata": {},
   "outputs": [
    {
     "data": {
      "text/latex": [
       "$\\displaystyle R_wc=~ \\left(\\begin{array}{rrrr}\n",
       "\\mathit{Cwc} & -\\mathit{Swc} & 0 & 0 \\\\\n",
       "\\mathit{Swc} & \\mathit{Cwc} & 0 & 0 \\\\\n",
       "0 & 0 & 1 & 0 \\\\\n",
       "0 & 0 & 0 & 1\n",
       "\\end{array}\\right)$"
      ],
      "text/plain": [
       "<IPython.core.display.Math object>"
      ]
     },
     "metadata": {},
     "output_type": "display_data"
    }
   ],
   "source": [
    "var('Swc','Cwc')\n",
    "Rwc=matrix([[ Cwc, -Swc, 0, 0],\n",
    "            [ Swc,  Cwc, 0, 0],\n",
    "            [ 0 ,  0 ,   1, 0],\n",
    "            [ 0,   0 ,   0, 1]])\n",
    "\n",
    "display(Math(rf'R_wc=~'+latex(Rwc)))"
   ]
  },
  {
   "cell_type": "code",
   "execution_count": 77,
   "id": "1cc1999c-4f44-4665-b88f-1ceeb5fd92c1",
   "metadata": {
    "scrolled": true
   },
   "outputs": [
    {
     "data": {
      "text/latex": [
       "$\\displaystyle ^QA_P =~~ \\left(\\begin{array}{rrrr}\n",
       "1 & 0 & 0 & \\mathit{Drpx} \\\\\n",
       "0 & 1 & 0 & \\mathit{Drpy} \\\\\n",
       "0 & 0 & 1 & \\mathit{Drpz} \\\\\n",
       "0 & 0 & 0 & 1\n",
       "\\end{array}\\right) \\cdot \\left(\\begin{array}{rrrr}\n",
       "\\mathit{Cwc} & -\\mathit{Swc} & 0 & 0 \\\\\n",
       "\\mathit{Swc} & \\mathit{Cwc} & 0 & 0 \\\\\n",
       "0 & 0 & 1 & 0 \\\\\n",
       "0 & 0 & 0 & 1\n",
       "\\end{array}\\right)$"
      ],
      "text/plain": [
       "<IPython.core.display.Math object>"
      ]
     },
     "metadata": {},
     "output_type": "display_data"
    },
    {
     "data": {
      "text/latex": [
       "$\\displaystyle ^QA_P =~~ \\left(\\begin{array}{rrrr}\n",
       "\\mathit{Cwc} & -\\mathit{Swc} & 0 & \\mathit{Drpx} \\\\\n",
       "\\mathit{Swc} & \\mathit{Cwc} & 0 & \\mathit{Drpy} \\\\\n",
       "0 & 0 & 1 & \\mathit{Drpz} \\\\\n",
       "0 & 0 & 0 & 1\n",
       "\\end{array}\\right)$"
      ],
      "text/plain": [
       "<IPython.core.display.Math object>"
      ]
     },
     "metadata": {},
     "output_type": "display_data"
    }
   ],
   "source": [
    "# calculate the forward transformation matrix\n",
    "qAp=Trp*Rwc\n",
    "display(Math(rf'^QA_P =~~'+latex(Trp)+rf'\\cdot'+latex(Rwc)))\n",
    "display(Math(rf'^QA_P =~~'+latex(qAp)))"
   ]
  },
  {
   "cell_type": "code",
   "execution_count": 78,
   "id": "8bd76de1-e970-4a5d-a7c5-2f87caa0b903",
   "metadata": {
    "scrolled": true
   },
   "outputs": [
    {
     "data": {
      "text/latex": [
       "$\\displaystyle Q =~ \\left(\\begin{array}{r}\n",
       "\\mathit{Qx} \\\\\n",
       "\\mathit{Qy} \\\\\n",
       "\\mathit{Qz} \\\\\n",
       "1\n",
       "\\end{array}\\right) =~ ^QA_P \\cdot P$"
      ],
      "text/plain": [
       "<IPython.core.display.Math object>"
      ]
     },
     "metadata": {},
     "output_type": "display_data"
    },
    {
     "data": {
      "text/latex": [
       "$\\displaystyle Q =~ \\left(\\begin{array}{r}\n",
       "\\mathit{Qx} \\\\\n",
       "\\mathit{Qy} \\\\\n",
       "\\mathit{Qz} \\\\\n",
       "1\n",
       "\\end{array}\\right) =~ \\left(\\begin{array}{rrrr}\n",
       "\\mathit{Cwc} & -\\mathit{Swc} & 0 & \\mathit{Drpx} \\\\\n",
       "\\mathit{Swc} & \\mathit{Cwc} & 0 & \\mathit{Drpy} \\\\\n",
       "0 & 0 & 1 & \\mathit{Drpz} \\\\\n",
       "0 & 0 & 0 & 1\n",
       "\\end{array}\\right) \\cdot \\left(\\begin{array}{r}\n",
       "-\\mathit{Drpx} + \\mathit{Px} \\\\\n",
       "-\\mathit{Drpy} + \\mathit{Py} \\\\\n",
       "-\\mathit{Drpz} + \\mathit{Pz} \\\\\n",
       "1\n",
       "\\end{array}\\right)$"
      ],
      "text/plain": [
       "<IPython.core.display.Math object>"
      ]
     },
     "metadata": {},
     "output_type": "display_data"
    },
    {
     "data": {
      "text/latex": [
       "$\\displaystyle Q =~ \\left(\\begin{array}{r}\n",
       "-\\mathit{Cwc} {\\left(\\mathit{Drpx} - \\mathit{Px}\\right)} + {\\left(\\mathit{Drpy} - \\mathit{Py}\\right)} \\mathit{Swc} + \\mathit{Drpx} \\\\\n",
       "-\\mathit{Cwc} {\\left(\\mathit{Drpy} - \\mathit{Py}\\right)} - {\\left(\\mathit{Drpx} - \\mathit{Px}\\right)} \\mathit{Swc} + \\mathit{Drpy} \\\\\n",
       "\\mathit{Pz} \\\\\n",
       "1\n",
       "\\end{array}\\right)$"
      ],
      "text/plain": [
       "<IPython.core.display.Math object>"
      ]
     },
     "metadata": {},
     "output_type": "display_data"
    }
   ],
   "source": [
    "Q_out=qAp*P_in\n",
    "display(Math(rf'Q =~'+latex(Q_)+rf'=~ ^QA_P \\cdot P'))\n",
    "display(Math(rf'Q =~'+latex(Q_)+rf'=~'+latex(qAp)+rf'\\cdot'+latex(P_in)))\n",
    "display(Math(rf'Q =~'+latex(Q_out)))"
   ]
  },
  {
   "cell_type": "code",
   "execution_count": 79,
   "id": "3fcbb13d-42b5-40a0-9fc3-42f88684efd1",
   "metadata": {},
   "outputs": [
    {
     "data": {
      "text/latex": [
       "$\\displaystyle \\mathit{Qx} ~=~ \\left(-\\mathit{Cwc} {\\left(\\mathit{Drpx} - \\mathit{Px}\\right)} + {\\left(\\mathit{Drpy} - \\mathit{Py}\\right)} \\mathit{Swc} + \\mathit{Drpx}\\right)$"
      ],
      "text/plain": [
       "<IPython.core.display.Math object>"
      ]
     },
     "metadata": {},
     "output_type": "display_data"
    },
    {
     "data": {
      "text/latex": [
       "$\\displaystyle \\mathit{Qy} ~=~ \\left(-\\mathit{Cwc} {\\left(\\mathit{Drpy} - \\mathit{Py}\\right)} - {\\left(\\mathit{Drpx} - \\mathit{Px}\\right)} \\mathit{Swc} + \\mathit{Drpy}\\right)$"
      ],
      "text/plain": [
       "<IPython.core.display.Math object>"
      ]
     },
     "metadata": {},
     "output_type": "display_data"
    },
    {
     "data": {
      "text/latex": [
       "$\\displaystyle \\mathit{Qz} ~=~ \\left(\\mathit{Pz}\\right)$"
      ],
      "text/plain": [
       "<IPython.core.display.Math object>"
      ]
     },
     "metadata": {},
     "output_type": "display_data"
    }
   ],
   "source": [
    "# Extract the tool-position vector Q (FORWARD KINEMATICS) from\n",
    "# the fourth column of the forward transformation matrix\n",
    "display(Math(latex(Q_[0][0]) + rf'~=~'  + latex(Q_out[0])))\n",
    "display(Math(latex(Q_[1][0]) + rf'~=~'  + latex(Q_out[1])))\n",
    "display(Math(latex(Q_[2][0]) + rf'~=~'  + latex(Q_out[2])))"
   ]
  },
  {
   "cell_type": "code",
   "execution_count": 80,
   "id": "f2754334-a1d7-4379-86e3-df123c52f4ab",
   "metadata": {},
   "outputs": [
    {
     "name": "stdout",
     "output_type": "stream",
     "text": [
      "//TCP kinematics FORWARD\n",
      "pos->tran.x =  (-Cwc*(Drpx - Px) + (Drpy - Py)*Swc + Drpx) ;\n",
      "pos->tran.y =  (-Cwc*(Drpy - Py) - (Drpx - Px)*Swc + Drpy) ;\n",
      "pos->tran.z =  (Pz) ;\n"
     ]
    }
   ],
   "source": [
    "# expressions as used in kinematics component\n",
    "print('//TCP kinematics FORWARD')\n",
    "print('pos->tran.x = ', Q_out[0], ';')\n",
    "print('pos->tran.y = ', Q_out[1], ';')\n",
    "print('pos->tran.z = ', Q_out[2], ';')"
   ]
  },
  {
   "cell_type": "markdown",
   "id": "6bd47661-b19c-471c-bda5-3328e22d399a",
   "metadata": {},
   "source": [
    "### Inverse transformation\n",
    "\n",
    "For the inverse transformation to match the new forward transformation we need mirror the modifications in the forward kinematics. That means to subtract $Drp(x,y,z)$ from the coordinate position $Q$"
   ]
  },
  {
   "cell_type": "code",
   "execution_count": 81,
   "id": "14858c01-eecf-4a12-8410-4b44d887adc5",
   "metadata": {},
   "outputs": [
    {
     "data": {
      "text/latex": [
       "$\\displaystyle Q =~ \\left(\\begin{array}{r}\n",
       "-\\mathit{Drpx} + \\mathit{Qx} \\\\\n",
       "-\\mathit{Drpy} + \\mathit{Qy} \\\\\n",
       "-\\mathit{Drpz} + \\mathit{Qz} \\\\\n",
       "1\n",
       "\\end{array}\\right)$"
      ],
      "text/plain": [
       "<IPython.core.display.Math object>"
      ]
     },
     "metadata": {},
     "output_type": "display_data"
    }
   ],
   "source": [
    "var('Qx','Qy','Qz')\n",
    "Q_in=matrix([[Qx-Drpx],\n",
    "             [Qy-Drpy],\n",
    "             [Qz-Drpz],\n",
    "             [1]])\n",
    "display(Math(rf'Q =~'+latex(Q_in)))"
   ]
  },
  {
   "cell_type": "markdown",
   "id": "c094de56-5a4a-48bd-9554-7f539467a9e7",
   "metadata": {},
   "source": [
    " and add it back to the result which we do by multiplying the translation vector $Drp(x,y,z)$ to the inverse transformation from the left:\n"
   ]
  },
  {
   "cell_type": "markdown",
   "id": "ec65a543-e0b1-4b7a-8892-ebfc48534822",
   "metadata": {},
   "source": [
    "\\begin{equation}\n",
    "^PA_Q =~T_{rp} \\cdot R_wc^T\n",
    "\\end{equation}"
   ]
  },
  {
   "cell_type": "code",
   "execution_count": 82,
   "id": "5c10b6a3-e7d5-4bb8-9391-86bdfa673a6c",
   "metadata": {},
   "outputs": [
    {
     "data": {
      "text/latex": [
       "$\\displaystyle ^PA_Q =~~ \\left(\\begin{array}{rrrr}\n",
       "1 & 0 & 0 & \\mathit{Drpx} \\\\\n",
       "0 & 1 & 0 & \\mathit{Drpy} \\\\\n",
       "0 & 0 & 1 & \\mathit{Drpz} \\\\\n",
       "0 & 0 & 0 & 1\n",
       "\\end{array}\\right) \\cdot \\left(\\begin{array}{rrrr}\n",
       "\\mathit{Cwc} & \\mathit{Swc} & 0 & 0 \\\\\n",
       "-\\mathit{Swc} & \\mathit{Cwc} & 0 & 0 \\\\\n",
       "0 & 0 & 1 & 0 \\\\\n",
       "0 & 0 & 0 & 1\n",
       "\\end{array}\\right)$"
      ],
      "text/plain": [
       "<IPython.core.display.Math object>"
      ]
     },
     "metadata": {},
     "output_type": "display_data"
    },
    {
     "data": {
      "text/latex": [
       "$\\displaystyle ^PA_Q =~~ \\left(\\begin{array}{rrrr}\n",
       "\\mathit{Cwc} & \\mathit{Swc} & 0 & \\mathit{Drpx} \\\\\n",
       "-\\mathit{Swc} & \\mathit{Cwc} & 0 & \\mathit{Drpy} \\\\\n",
       "0 & 0 & 1 & \\mathit{Drpz} \\\\\n",
       "0 & 0 & 0 & 1\n",
       "\\end{array}\\right)$"
      ],
      "text/plain": [
       "<IPython.core.display.Math object>"
      ]
     },
     "metadata": {},
     "output_type": "display_data"
    }
   ],
   "source": [
    "# calculate the inverse transformation matrix\n",
    "pAq=Trp*Rwc.transpose()\n",
    "display(Math(rf'^PA_Q =~~'+latex(Trp)+rf'\\cdot'+latex(Rwc.transpose())))\n",
    "display(Math(rf'^PA_Q =~~'+latex(pAq)))"
   ]
  },
  {
   "cell_type": "code",
   "execution_count": 83,
   "id": "7e924081-cc8e-412b-a5c0-66ffe6dc7714",
   "metadata": {},
   "outputs": [
    {
     "data": {
      "text/latex": [
       "$\\displaystyle P =~ \\left(\\begin{array}{r}\n",
       "\\mathit{Px} \\\\\n",
       "\\mathit{Py} \\\\\n",
       "\\mathit{Pz} \\\\\n",
       "1\n",
       "\\end{array}\\right) =~^PA_Q \\cdot Q$"
      ],
      "text/plain": [
       "<IPython.core.display.Math object>"
      ]
     },
     "metadata": {},
     "output_type": "display_data"
    },
    {
     "data": {
      "text/latex": [
       "$\\displaystyle P =~ \\left(\\begin{array}{r}\n",
       "\\mathit{Px} \\\\\n",
       "\\mathit{Py} \\\\\n",
       "\\mathit{Pz} \\\\\n",
       "1\n",
       "\\end{array}\\right) =~ \\left(\\begin{array}{rrrr}\n",
       "\\mathit{Cwc} & \\mathit{Swc} & 0 & \\mathit{Drpx} \\\\\n",
       "-\\mathit{Swc} & \\mathit{Cwc} & 0 & \\mathit{Drpy} \\\\\n",
       "0 & 0 & 1 & \\mathit{Drpz} \\\\\n",
       "0 & 0 & 0 & 1\n",
       "\\end{array}\\right) \\cdot \\left(\\begin{array}{r}\n",
       "-\\mathit{Drpx} + \\mathit{Qx} \\\\\n",
       "-\\mathit{Drpy} + \\mathit{Qy} \\\\\n",
       "-\\mathit{Drpz} + \\mathit{Qz} \\\\\n",
       "1\n",
       "\\end{array}\\right)$"
      ],
      "text/plain": [
       "<IPython.core.display.Math object>"
      ]
     },
     "metadata": {},
     "output_type": "display_data"
    },
    {
     "data": {
      "text/latex": [
       "$\\displaystyle P =~ \\left(\\begin{array}{r}\n",
       "-\\mathit{Cwc} {\\left(\\mathit{Drpx} - \\mathit{Qx}\\right)} - {\\left(\\mathit{Drpy} - \\mathit{Qy}\\right)} \\mathit{Swc} + \\mathit{Drpx} \\\\\n",
       "-\\mathit{Cwc} {\\left(\\mathit{Drpy} - \\mathit{Qy}\\right)} + {\\left(\\mathit{Drpx} - \\mathit{Qx}\\right)} \\mathit{Swc} + \\mathit{Drpy} \\\\\n",
       "\\mathit{Qz} \\\\\n",
       "1\n",
       "\\end{array}\\right)$"
      ],
      "text/plain": [
       "<IPython.core.display.Math object>"
      ]
     },
     "metadata": {},
     "output_type": "display_data"
    }
   ],
   "source": [
    "P_out=pAq*Q_in\n",
    "display(Math(rf'P =~'+latex(P_)+rf'=~^PA_Q \\cdot Q'))\n",
    "display(Math(rf'P =~'+latex(P_)+rf'=~'+latex(pAq)+rf'\\cdot'+latex(Q_in)))\n",
    "display(Math(rf'P =~'+latex(P_out)))"
   ]
  },
  {
   "cell_type": "code",
   "execution_count": 84,
   "id": "29446800-5140-4b32-8e9e-e9a7a9308852",
   "metadata": {},
   "outputs": [
    {
     "data": {
      "text/latex": [
       "$\\displaystyle \\mathit{Px} ~=~ \\left(-\\mathit{Cwc} {\\left(\\mathit{Drpx} - \\mathit{Qx}\\right)} - {\\left(\\mathit{Drpy} - \\mathit{Qy}\\right)} \\mathit{Swc} + \\mathit{Drpx}\\right)$"
      ],
      "text/plain": [
       "<IPython.core.display.Math object>"
      ]
     },
     "metadata": {},
     "output_type": "display_data"
    },
    {
     "data": {
      "text/latex": [
       "$\\displaystyle \\mathit{Py} ~=~ \\left(-\\mathit{Cwc} {\\left(\\mathit{Drpy} - \\mathit{Qy}\\right)} + {\\left(\\mathit{Drpx} - \\mathit{Qx}\\right)} \\mathit{Swc} + \\mathit{Drpy}\\right)$"
      ],
      "text/plain": [
       "<IPython.core.display.Math object>"
      ]
     },
     "metadata": {},
     "output_type": "display_data"
    },
    {
     "data": {
      "text/latex": [
       "$\\displaystyle \\mathit{Pz} ~=~ \\left(\\mathit{Qz}\\right)$"
      ],
      "text/plain": [
       "<IPython.core.display.Math object>"
      ]
     },
     "metadata": {},
     "output_type": "display_data"
    }
   ],
   "source": [
    "# Extract the joint-position vector P (INVERSE KINEMATICS) from\n",
    "# the fourth column of the inverse transformation matrix\n",
    "display(Math(latex(P_[0][0]) + rf'~=~'  + latex(P_out[0])))\n",
    "display(Math(latex(P_[1][0]) + rf'~=~'  + latex(P_out[1])))\n",
    "display(Math(latex(P_[2][0]) + rf'~=~'  + latex(P_out[2])))"
   ]
  },
  {
   "cell_type": "code",
   "execution_count": 85,
   "id": "042ab6c9-8e34-4478-829f-cc98c42723ad",
   "metadata": {},
   "outputs": [
    {
     "name": "stdout",
     "output_type": "stream",
     "text": [
      "//TCP kinematics INVERSE\n",
      "j[0] =  (-Cwc*(Drpx - Qx) - (Drpy - Qy)*Swc + Drpx) ;\n",
      "j[1] =  (-Cwc*(Drpy - Qy) + (Drpx - Qx)*Swc + Drpy) ;\n",
      "j[2] =  (Qz) ;\n"
     ]
    }
   ],
   "source": [
    "# expressions as used in kinematics component\n",
    "print('//TCP kinematics INVERSE')\n",
    "print('j[0] = ', P_out[0], ';')\n",
    "print('j[1] = ', P_out[1], ';')\n",
    "print('j[2] = ', P_out[2], ';')"
   ]
  },
  {
   "cell_type": "code",
   "execution_count": null,
   "id": "189c8f8b-6387-4617-be90-0cfea8203a44",
   "metadata": {},
   "outputs": [],
   "source": []
  },
  {
   "cell_type": "code",
   "execution_count": null,
   "id": "b3cc257b-989f-4872-90ca-f6f292eb983b",
   "metadata": {},
   "outputs": [],
   "source": []
  }
 ],
 "metadata": {
  "kernelspec": {
   "display_name": "SageMath 10.5",
   "language": "sage",
   "name": "sagemath"
  },
  "language_info": {
   "codemirror_mode": {
    "name": "ipython",
    "version": 3
   },
   "file_extension": ".py",
   "mimetype": "text/x-python",
   "name": "python",
   "nbconvert_exporter": "python",
   "pygments_lexer": "ipython3",
   "version": "3.12.3"
  }
 },
 "nbformat": 4,
 "nbformat_minor": 5
}
