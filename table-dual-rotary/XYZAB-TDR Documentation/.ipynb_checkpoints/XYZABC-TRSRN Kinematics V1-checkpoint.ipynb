{
 "cells": [
  {
   "cell_type": "markdown",
   "metadata": {},
   "source": [
    "![Titlepic](Images/xyzabc_trsrn_machine.png)"
   ]
  },
  {
   "cell_type": "markdown",
   "metadata": {},
   "source": [
    "# Introduction\n",
    "\n",
    "\n",
    "This paper describes how to derive the kinematic model for a 6-axis machine tool in an XYZABC configuration with Tool side A,B rotation of the spindle and work side C (table) rotation . In this example the B axis is a primary (rotating around the Y) and the A axis is the secondary (45° nutating) rotary axis. The primary being independent of the secondary axis. The model presented here will be named 'XYZABC-TRSRN'.\n",
    "\n",
    "The method used here will be a step by step approach. Starting with a working kinematic model for a single rotary axis all the required elements will be added to build a complete kinematic model for the machine.\n",
    "\n",
    "The final model includes tool-length compensation, compensation for mechanical offsets between the two rotational axis A and B and compensation for setups where the machine reference point is not located in the rotation-point of the C rotary table.  \n",
    "\n",
    "In this document only basic mathematical functions are used so the kinematic models derived can be used directly in the 'userkins.comp' template file provided with the LinuxCNC installation. All calculations can be done whithout the use of any computer algebra systems, however the use of computer assistance like 'sage' will make the process of matrix multiplication much less error prone.\n",
    "\n",
    "Note that there are other and potentially more computationally efficient ways to build custom kinematics using built in libraries like 'posemath'. Posemath provides many functions for efficient matrix manipulation and also offers functions for the use of quaternions. However the use of such a library would require a more indepth understanding of the mathematical theory that is beyond the scope of this presentation. Furthermore importing a library like 'posemath' into the 'userkins.comp' template would require substantially more programming skills than using the method applied in this paper. "
   ]
  },
  {
   "cell_type": "code",
   "execution_count": 1,
   "metadata": {},
   "outputs": [],
   "source": [
    "from IPython.display import display, Image\n",
    "\n",
    "# only used to display equations out of code blocks\n",
    "from IPython.display import Math, display\n",
    "\n",
    "# joint position vector P \n",
    "var('Px','Py','Pz')\n",
    "P_=matrix([[Px],\n",
    "           [Py],\n",
    "           [Pz],\n",
    "           [1]])\n",
    "\n",
    "# cartesian position vector Q\n",
    "var('Qx','Qy','Qz')\n",
    "Q_=matrix([[Qx],\n",
    "           [Qy],\n",
    "           [Qz],\n",
    "           [1]])"
   ]
  },
  {
   "cell_type": "markdown",
   "metadata": {},
   "source": [
    "A custom kinematic model in LinuxCNC is used to calculate cartesian coordinates from given machine joint positions (forward kinematics) and also to calculate the required machine joint positions to reach a given coordinate position (inverse kinematics). In the following description we will use vectors as mathematical representations of the two positions: \n",
    "\n",
    "\n",
    "\\begin{equation}\n",
    "Q ~=~\n",
    "\\left(\\begin{array}{rrrr}\n",
    "  Qx \\\\\n",
    "  Qy \\\\\n",
    "  Qz \\\\\n",
    "  1\n",
    "\\end{array}\\right)\n",
    "~\n",
    "Cartesian~position\n",
    "~~~~~~~~~~~~\n",
    "P ~=~\n",
    "\\left(\\begin{array}{rrrr}\n",
    "  Px \\\\\n",
    "  Py \\\\\n",
    "  Pz \\\\\n",
    "  1\n",
    "\\end{array}\\right)\n",
    "~\n",
    "Joint~position\n",
    "\\end{equation}\n",
    "\n",
    "Note that the fourth row is added to be able to multiply the vectors with a 4x4 transformation matrix. "
   ]
  },
  {
   "cell_type": "markdown",
   "metadata": {},
   "source": [
    "# TCP Kinematic model\n",
    "For the tool to follow a point on the work piece we need a model that calculates where a given position on the work piece moves to when the rotary joints are rotated. In our example configuration the work piece will be mounted on the C rotary table and it is therefore here where we start to build our forward kinematic model.<br>\n",
    "Note that in matrix multiplication the order is important that is $A\\cdot B$ is generally not equal to $B \\cdot A$. \n",
    "\n"
   ]
  },
  {
   "cell_type": "markdown",
   "metadata": {},
   "source": [
    "\n",
    "\n",
    "## Table Rotary C\n",
    "### Forward transformation\n",
    "\n",
    "We start with the basic rotation around the C axis. In this case our forward transformation matrix $^QA_P$ is equal to a rotation around the z-axis:\n",
    "\n",
    "\\begin{equation}\n",
    " ^QA_P=~ R_c \n",
    "\\end{equation}\n",
    "\n"
   ]
  },
  {
   "cell_type": "code",
   "execution_count": 2,
   "metadata": {
    "scrolled": true
   },
   "outputs": [
    {
     "data": {
      "text/latex": [
       "$\\displaystyle R_a =~ \\left(\\begin{array}{rrrr}\n",
       "\\mathit{Cc} & -\\mathit{Sc} & 0 & 0 \\\\\n",
       "\\mathit{Sc} & \\mathit{Cc} & 0 & 0 \\\\\n",
       "0 & 0 & 1 & 0 \\\\\n",
       "0 & 0 & 0 & 1\n",
       "\\end{array}\\right)$"
      ],
      "text/plain": [
       "<IPython.core.display.Math object>"
      ]
     },
     "metadata": {},
     "output_type": "display_data"
    }
   ],
   "source": [
    "# define rotation matrix for axis C (ie rotation around z-axis)\n",
    "var('Cc','Sc')\n",
    "Rc=matrix([[ Cc, -Sc,   0, 0],\n",
    "           [ Sc,  Cc,   0, 0],\n",
    "           [ 0 ,  0 ,   1, 0],\n",
    "           [ 0,   0 ,   0, 1]])\n",
    "display(Math(rf'R_a =~'+latex(Rc)))"
   ]
  },
  {
   "cell_type": "markdown",
   "metadata": {},
   "source": [
    "with $~~Sc = sin(\\theta_c),~~~ Cc = cos(\\theta_c)$\n",
    "and $\\theta_c$ being the angle of rotation of joint C"
   ]
  },
  {
   "cell_type": "markdown",
   "metadata": {},
   "source": [
    "To derive the coordinate position $Q(Qx,Qy,Qz)$ we now need to multiply the joint position vector $P(Px,Py,Pz)$ with our forward transformation matrix $^QA_P$. <br>\n",
    "Note that the input values $P$ to our model need to be on the right hand side of the matrix multiplication.\n",
    "\n",
    "$$ Q=~^QA_P \\cdot P $$"
   ]
  },
  {
   "cell_type": "code",
   "execution_count": 3,
   "metadata": {},
   "outputs": [
    {
     "data": {
      "text/latex": [
       "$\\displaystyle Q =~ \\left(\\begin{array}{r}\n",
       "\\mathit{Qx} \\\\\n",
       "\\mathit{Qy} \\\\\n",
       "\\mathit{Qz} \\\\\n",
       "1\n",
       "\\end{array}\\right) =~ \\left(\\begin{array}{rrrr}\n",
       "\\mathit{Cc} & -\\mathit{Sc} & 0 & 0 \\\\\n",
       "\\mathit{Sc} & \\mathit{Cc} & 0 & 0 \\\\\n",
       "0 & 0 & 1 & 0 \\\\\n",
       "0 & 0 & 0 & 1\n",
       "\\end{array}\\right) \\cdot \\left(\\begin{array}{r}\n",
       "\\mathit{Px} \\\\\n",
       "\\mathit{Py} \\\\\n",
       "\\mathit{Pz} \\\\\n",
       "1\n",
       "\\end{array}\\right) =~ \\left(\\begin{array}{r}\n",
       "\\mathit{Cc} \\mathit{Px} - \\mathit{Py} \\mathit{Sc} \\\\\n",
       "\\mathit{Cc} \\mathit{Py} + \\mathit{Px} \\mathit{Sc} \\\\\n",
       "\\mathit{Pz} \\\\\n",
       "1\n",
       "\\end{array}\\right)$"
      ],
      "text/plain": [
       "<IPython.core.display.Math object>"
      ]
     },
     "metadata": {},
     "output_type": "display_data"
    }
   ],
   "source": [
    "# calculate forward kinematic\n",
    "Q_out=Rc*P_\n",
    "display(Math(rf'Q =~'+latex(Q_)+rf'=~'+latex(Rc)+rf'\\cdot'+latex(P_)+rf'=~'+latex(Q_out)))"
   ]
  },
  {
   "cell_type": "markdown",
   "metadata": {},
   "source": [
    "-------\n",
    "This shows the section of the TCP forward kinematics calculation in the file 'xyzab_tdr_kins.comp'. \n",
    "Note that P(px,py,pz) is equal to the joint position (j[0],j[1],j[2],) while $Q(Qx,Qy,Qz)$ is output to the coordinate position (pos->tran.x, pos->tran.y, pos->tran.z).\n",
    "The values 'cc', 'sc' are calculated and stored in the respective variables earlier in the component file."
   ]
  },
  {
   "cell_type": "markdown",
   "metadata": {},
   "source": [
    "\n",
    "      case 1: // ========================= TCP kinematics FORWARD\n",
    "            px          = j[0];\n",
    "            py          = j[1];\n",
    "            pz          = j[2];\n",
    "\n",
    "            pos->tran.x = cc*px - sc*py;\n",
    "            pos->tran.y = cc*py + sc*px;\n",
    "            pos->tran.z = pz;\n",
    "\n",
    "            pos->a      = j[3];\n",
    "            pos->b      = j[4];\n",
    "            pos->c      = j[5];\n",
    "            \n",
    "            break;\n"
   ]
  },
  {
   "cell_type": "markdown",
   "metadata": {},
   "source": [
    "### Inverse transformation\n",
    "\n",
    "To calculate the joint position $P$ from given coordinate positions $Q$ we need to 'unrotate' joint C. Mathematically this means we need to transpose the rotation part in our transformation matrix.\n",
    "\n",
    "\\begin{equation}\n",
    " ^PA_Q=~ R_c^T \n",
    "\\end{equation}\n",
    "\n",
    "To derive the joint position $P$ we then multiply the coordinate position vector $Q$ from the right:\n",
    "\n",
    "\\begin{equation}\n",
    " P=~^PA_Q \\cdot Q\n",
    "\\end{equation}"
   ]
  },
  {
   "cell_type": "code",
   "execution_count": 4,
   "metadata": {},
   "outputs": [
    {
     "data": {
      "text/latex": [
       "$\\displaystyle P =~ \\left(\\begin{array}{r}\n",
       "\\mathit{Px} \\\\\n",
       "\\mathit{Py} \\\\\n",
       "\\mathit{Pz} \\\\\n",
       "1\n",
       "\\end{array}\\right) =~ \\left(\\begin{array}{rrrr}\n",
       "\\mathit{Cc} & \\mathit{Sc} & 0 & 0 \\\\\n",
       "-\\mathit{Sc} & \\mathit{Cc} & 0 & 0 \\\\\n",
       "0 & 0 & 1 & 0 \\\\\n",
       "0 & 0 & 0 & 1\n",
       "\\end{array}\\right) \\cdot \\left(\\begin{array}{r}\n",
       "\\mathit{Qx} \\\\\n",
       "\\mathit{Qy} \\\\\n",
       "\\mathit{Qz} \\\\\n",
       "1\n",
       "\\end{array}\\right) =~ \\left(\\begin{array}{r}\n",
       "\\mathit{Cc} \\mathit{Qx} + \\mathit{Qy} \\mathit{Sc} \\\\\n",
       "\\mathit{Cc} \\mathit{Qy} - \\mathit{Qx} \\mathit{Sc} \\\\\n",
       "\\mathit{Qz} \\\\\n",
       "1\n",
       "\\end{array}\\right)$"
      ],
      "text/plain": [
       "<IPython.core.display.Math object>"
      ]
     },
     "metadata": {},
     "output_type": "display_data"
    }
   ],
   "source": [
    "# calculate inverse kinematic\n",
    "P_out=Rc.transpose()*Q_\n",
    "display(Math(rf'P =~'+latex(P_)+rf'=~'+latex(Rc.transpose())+rf'\\cdot'+latex(Q_)+rf'=~'+latex(P_out)))"
   ]
  },
  {
   "cell_type": "markdown",
   "metadata": {},
   "source": [
    "-------\n",
    "This shows the section of the TCP inverse kinematics calculation in the file 'xyzab_tdr_kins.comp'. \n",
    "Note that $Q(qx,qy,qz)$ is equal to the coordinate position (pos->tran.x, pos->tran.y, pos->tran.z) while $P(Px,Py,Pz)$ is output to the joint position (j[0],j[1],j[2]).\n",
    "The values 'cc', 'sc' are calculated and stored in the respective variables earlier in the component file."
   ]
  },
  {
   "cell_type": "markdown",
   "metadata": {},
   "source": [
    "        case 1: // ========================= TCP kinematics INVERSE \n",
    "            qx   = pos->tran.x;\n",
    "            qy   = pos->tran.y;\n",
    "            qz   = pos->tran.z;\n",
    "\n",
    "            j[0] =   cc*qx + sc*qy;\n",
    "\n",
    "            j[1] =   cc*qy - sc*qx;\n",
    "\n",
    "            j[2] =   qz;\n",
    "\n",
    "            j[3] = pos->a;\n",
    "            j[4] = pos->b;\n",
    "            j[5] = pos->c;\n",
    "            \n",
    "            break;"
   ]
  },
  {
   "cell_type": "markdown",
   "metadata": {},
   "source": [
    "Testing in LinuxCNC shows a working TCP kinematic for rotations around C"
   ]
  },
  {
   "cell_type": "code",
   "execution_count": 5,
   "metadata": {},
   "outputs": [],
   "source": [
    "\n",
    "#display(Image(filename=\"Pictures/Ra_gui.png\",\n",
    "#              height=300, width=300))"
   ]
  },
  {
   "cell_type": "markdown",
   "metadata": {},
   "source": [
    "\n",
    "## Rotary B and C\n",
    "### Forward transformation\n",
    "\n",
    "Because the linear (x,y,z)-axis motion or tool-translation $P(Px, Py, Pz)$ happens between the table rotation C and the spindle rotation B we need to insert that tool-translation as a tranformation matrix in between the rotation C and the rotation B."
   ]
  },
  {
   "cell_type": "code",
   "execution_count": null,
   "metadata": {},
   "outputs": [],
   "source": []
  },
  {
   "cell_type": "markdown",
   "metadata": {},
   "source": [
    "To add the B rotation we expand $~^QA_P$ by multiplying first the tool-translation $T_p$ from the right and then the rotation matrix $R_b$ also from the right: \n",
    "\n",
    "\\begin{equation}\n",
    " ^QA_P=~ R_c \\cdot T_p \\cdot R_b\n",
    "\\end{equation}\n",
    "\n",
    "Note how the transformation matrix $~^QA_P$ is constructed from left to right. The first operation is on the left and the last operation is on the right as we work our way from the work side to the spindle side of the kinematic chain."
   ]
  },
  {
   "cell_type": "code",
   "execution_count": 6,
   "metadata": {
    "scrolled": true
   },
   "outputs": [
    {
     "data": {
      "text/latex": [
       "$\\displaystyle T_p =~ \\left(\\begin{array}{rrrr}\n",
       "1 & 0 & 0 & \\mathit{Px} \\\\\n",
       "0 & 1 & 0 & \\mathit{Py} \\\\\n",
       "0 & 0 & 1 & \\mathit{Pz} \\\\\n",
       "0 & 0 & 0 & 1\n",
       "\\end{array}\\right) ~~ R_b =~ \\left(\\begin{array}{rrrr}\n",
       "\\mathit{Cb} & 0 & \\mathit{Sb} & 0 \\\\\n",
       "0 & 1 & 0 & 0 \\\\\n",
       "-\\mathit{Sb} & 0 & \\mathit{Cb} & 0 \\\\\n",
       "0 & 0 & 0 & 1\n",
       "\\end{array}\\right)$"
      ],
      "text/plain": [
       "<IPython.core.display.Math object>"
      ]
     },
     "metadata": {},
     "output_type": "display_data"
    }
   ],
   "source": [
    "# define joint position matrix\n",
    "var('Px','Py','Pz')\n",
    "Tp=matrix([[ 1, 0, 0, Px ],\n",
    "           [ 0, 1, 0, Py],\n",
    "           [ 0, 0, 1, Pz],\n",
    "           [ 0, 0, 0, 1 ]])\n",
    "\n",
    "#define rotation matrix for joint B\n",
    "var('Cb','Sb')\n",
    "Rb=matrix([[Cb,  0,  Sb,  0],\n",
    "           [ 0,  1,   0,  0],\n",
    "           [-Sb,  0,  Cb, 0],\n",
    "           [ 0,  0,   0, 1]])\n",
    "\n",
    "display(Math(rf'T_p =~'+latex(Tp)+'~~'+rf'R_b =~'+latex(Rb)))"
   ]
  },
  {
   "cell_type": "markdown",
   "metadata": {},
   "source": [
    "with $~~Sb = sin(\\theta_b),~~~ Cb = cos(\\theta_b)$\n",
    "and $\\theta_b$ being the angle of rotation of joint B "
   ]
  },
  {
   "cell_type": "code",
   "execution_count": 7,
   "metadata": {
    "scrolled": true
   },
   "outputs": [
    {
     "data": {
      "text/latex": [
       "$\\displaystyle ^QA_P =~~ \\left(\\begin{array}{rrrr}\n",
       "\\mathit{Cc} & -\\mathit{Sc} & 0 & 0 \\\\\n",
       "\\mathit{Sc} & \\mathit{Cc} & 0 & 0 \\\\\n",
       "0 & 0 & 1 & 0 \\\\\n",
       "0 & 0 & 0 & 1\n",
       "\\end{array}\\right) \\cdot \\left(\\begin{array}{rrrr}\n",
       "1 & 0 & 0 & \\mathit{Px} \\\\\n",
       "0 & 1 & 0 & \\mathit{Py} \\\\\n",
       "0 & 0 & 1 & \\mathit{Pz} \\\\\n",
       "0 & 0 & 0 & 1\n",
       "\\end{array}\\right) \\cdot \\left(\\begin{array}{rrrr}\n",
       "\\mathit{Cb} & 0 & \\mathit{Sb} & 0 \\\\\n",
       "0 & 1 & 0 & 0 \\\\\n",
       "-\\mathit{Sb} & 0 & \\mathit{Cb} & 0 \\\\\n",
       "0 & 0 & 0 & 1\n",
       "\\end{array}\\right)$"
      ],
      "text/plain": [
       "<IPython.core.display.Math object>"
      ]
     },
     "metadata": {},
     "output_type": "display_data"
    },
    {
     "data": {
      "text/latex": [
       "$\\displaystyle ^QA_P =~~ \\left(\\begin{array}{rrrr}\n",
       "\\mathit{Cb} \\mathit{Cc} & -\\mathit{Sc} & \\mathit{Cc} \\mathit{Sb} & \\mathit{Cc} \\mathit{Px} - \\mathit{Py} \\mathit{Sc} \\\\\n",
       "\\mathit{Cb} \\mathit{Sc} & \\mathit{Cc} & \\mathit{Sb} \\mathit{Sc} & \\mathit{Cc} \\mathit{Py} + \\mathit{Px} \\mathit{Sc} \\\\\n",
       "-\\mathit{Sb} & 0 & \\mathit{Cb} & \\mathit{Pz} \\\\\n",
       "0 & 0 & 0 & 1\n",
       "\\end{array}\\right)$"
      ],
      "text/plain": [
       "<IPython.core.display.Math object>"
      ]
     },
     "metadata": {},
     "output_type": "display_data"
    }
   ],
   "source": [
    "# calculate the forward transformation matrix\n",
    "qAp=Rc*Tp*Rb\n",
    "display(Math(rf'^QA_P =~~'+latex(Rc)+rf'\\cdot'+latex(Tp)+rf'\\cdot'+latex(Rb)))\n",
    "display(Math(rf'^QA_P =~~'+latex(qAp)))"
   ]
  },
  {
   "cell_type": "markdown",
   "metadata": {},
   "source": [
    "Note that the tool-position (ie the vector in the 4th column of our transformation matrix $^QA_P$) does not contain the B-rotation in any form. Only the tool-orientation (ie columns 1,2 and 3) is influenced by the addition of the rotation B. This may seem wrong but we have to remember that after the B-rotation ($Rb$) we have not yet built any offset (tool-length or pivot-length) into our model (ie there is no translation matrix on the right side of $Rb$). Hence for now a rotation around B simply means that a tool of lenght zero (ie a point) rotates with joint B and does not change it's position. So in the current form it is really not very interesting to test the effect of the added rotation around B so we will move on along the kinematic chain and add the geometric offsets ($D_x,D_z$) , the rotation A ($R_a$) and the pivot-lengths ($Ly,Lz$) to arrive at the spindle nose."
   ]
  },
  {
   "cell_type": "markdown",
   "metadata": {},
   "source": [
    "## A closer look at the spindle rotary assembly\n",
    "\n",
    "To get a better understanding of these offsets in the spindle rotary assembly of our example machine we need to have a look at how the rotary axes A and B are arranged in the spindle body.\n",
    "This shows our spindle assembly in its home position ($\\theta_a =0$, $\\theta_b=0$). To get a clearer idea of the situation a tool (purple cylinder) is shown protruding from the spindle nose.\n"
   ]
  },
  {
   "cell_type": "code",
   "execution_count": 10,
   "metadata": {},
   "outputs": [
    {
     "data": {
      "image/png": "[encoded data removed]",
      "text/plain": [
       "<IPython.core.display.Image object>"
      ]
     },
     "metadata": {
      "image/png": {
       "height": 300,
       "width": 300
      }
     },
     "output_type": "display_data"
    }
   ],
   "source": [
    "display(Image(filename=\"Images/spindle_head_outside.png\",\n",
    "              height=300, width=300))"
   ]
  },
  {
   "cell_type": "markdown",
   "metadata": {},
   "source": [
    "## Pivot-point and pivot-length of the spindle head\n",
    "Because the rotation axes A,B and offsets in question are all hidden inside the spindle body we simplify the model to the relevant kinematic components. The while cross with the arrow pointing up shows the intersection of the rotary axes A and B (yellow sphere).\n",
    "This point will be refered to as the 'pivot-point' of the spindle rotary assembly.\n",
    "The rotary axis B (yellow) extends horizontally from the pivot-point in the machine-y direction.\n",
    "The slanted rotary axis A (yellow) extends from the pivot-point to the spindle nose where the tool (purple) attaches.\n",
    "The 'y-pivot-length' is the distance in the y-direction between the pivot-point and the spindle nose and shown in green.\n",
    "The 'z-pivot-length' is the distance in the z-direction between the pivot-point and the spindle nose and shown in blue.\n",
    "Note that in this image there is no geometric offset between the two rotary axes and they intersect at the pivot-point. \n",
    "<br>\n",
    "We define the values for the offsets in the example image as *y-pivot = 200* and *z-pivot = 200*. In our kinematic model this represents the situation where, starting from the spindle nose, we need to travel 200 in the positive z-direction and 200 in the positive y-direction to reach the pivot-point.\n",
    "<br>\n",
    "Note that the direction of travel when defining these offsets is arbitrary so in our case the offset situation in the image could also be defined as -200 in y and -200 in z. However once the definition is made we must keep it throughout the entire process of building the kinematic model."
   ]
  },
  {
   "cell_type": "code",
   "execution_count": 11,
   "metadata": {},
   "outputs": [
    {
     "data": {
      "image/png": "[encoded data removed]",
      "text/plain": [
       "<IPython.core.display.Image object>"
      ]
     },
     "metadata": {
      "image/png": {
       "height": 300,
       "width": 300
      }
     },
     "output_type": "display_data"
    }
   ],
   "source": [
    "display(Image(filename=\"Images/spindle_head_inside.png\",\n",
    "              height=300, width=300))"
   ]
  },
  {
   "cell_type": "markdown",
   "metadata": {},
   "source": [
    "To be able to add these (y,z)-pivot values to our kinematic model we need to create a transformation matrix that has the effect of a translation. \n",
    "Note that the direction chosen for these offsets is important here as our translation is basically a vector and we have chosen that this 'pivot-length' vector points from the spindle nose to the pivot-point. Since we are building the forward kinematic model we are travelling against this vector and thus its components ($L_y,L_z$) need to be entered in the negative."
   ]
  },
  {
   "cell_type": "code",
   "execution_count": null,
   "metadata": {},
   "outputs": [],
   "source": [
    "# define translation matrix for the pivot lengths\n",
    "var('Ly','Lz')\n",
    "Tl=matrix([[ 1, 0, 0, 0 ],\n",
    "           [ 0, 1, 0, -Ly],\n",
    "           [ 0, 0, 1, -Lz],\n",
    "           [ 0, 0, 0, 1 ]])\n",
    "display(Math(rf'T_l =~'+latex(Tl)))"
   ]
  },
  {
   "cell_type": "markdown",
   "metadata": {},
   "source": [
    "## Offsets in the spindle rotary assembly\n",
    "The rotational axes of a rotary assembly like the A/B spindle type discussed here will always have an intended or unintented offset from one rotational axis to the other. In our case this is an offset in the x direction (red indicator) and in the z direction (light blue indicator).<br>\n",
    "We define the values for the offsets in the example image as *x-offset = -20* and *z-offset = 40*. In our kinematic model this represents the situation where, starting from the rotary A axis, we need to travel 40 in the positive z-direction and 20 in the negative x-direction to reach the pivot-point.\n",
    "\n",
    "Note that the direction of travel when defining these offsets is arbitrary so in our case the offset situation in the image could also be defined as +20 in x and -40 in z. However once the definition is made we must keep it throughout the entire process of building the kinematic model."
   ]
  },
  {
   "cell_type": "code",
   "execution_count": 12,
   "metadata": {},
   "outputs": [
    {
     "data": {
      "image/png": "[encoded data removed]",
      "text/plain": [
       "<IPython.core.display.Image object>"
      ]
     },
     "metadata": {
      "image/png": {
       "height": 300,
       "width": 300
      }
     },
     "output_type": "display_data"
    }
   ],
   "source": [
    "display(Image(filename=\"Images/spindle_head_dxdz.png\",\n",
    "              height=300, width=300))"
   ]
  },
  {
   "cell_type": "markdown",
   "metadata": {},
   "source": [
    "Also note that it might be tempting to simplify things by just adding the *z-offset* (light blue) to the *z-pivot* (dark blue). However if we consider the situation with a rotation in A then it's clear that the two values need to be handled sparately in our kinematic model. "
   ]
  },
  {
   "cell_type": "code",
   "execution_count": 13,
   "metadata": {},
   "outputs": [
    {
     "data": {
      "image/png": "[encoded data removed]",
      "text/plain": [
       "<IPython.core.display.Image object>"
      ]
     },
     "metadata": {
      "image/png": {
       "height": 300,
       "width": 300
      }
     },
     "output_type": "display_data"
    }
   ],
   "source": [
    "\n",
    "display(Image(filename=\"Images/spindle_head_dxdz_rot.png\",\n",
    "              height=300, width=300))"
   ]
  },
  {
   "cell_type": "markdown",
   "metadata": {},
   "source": [
    "To be able to add these (x,z)-offset values to our kinematic model we need to create a transformation matrix that has the effect of a translation. \n",
    "Note that the direction chosen for these offsets is important here as our translation is basically a vector and we have chosen that this 'offset' vector points from the A rotation axis to the pivot-point. Since we are building the forward kinematic model we are travelling against this vector and thus its components ($D_x,D_z$) need to be entered in the negative."
   ]
  },
  {
   "cell_type": "code",
   "execution_count": null,
   "metadata": {},
   "outputs": [],
   "source": [
    "# define translation matrix for the pivot lengths\n",
    "var('Dx','Dz')\n",
    "# offsets in A,B axis\n",
    "Td=matrix([[ 1, 0, 0, -Dx],\n",
    "           [ 0, 1, 0,  0 ],\n",
    "           [ 0, 0, 1, -Dz],\n",
    "           [ 0, 0, 0, 1 ]])\n",
    "display(Math(rf'T_d =~'+latex(Td)))"
   ]
  },
  {
   "cell_type": "markdown",
   "metadata": {},
   "source": [
    "\n",
    "## Rotary A\n",
    "### How to derive a rotation matrix for a nutating joint\n",
    "\n",
    "The machine in our example has a 'nutating' rotary joint A. Nutating meaning here that the rotational axis of A is not parallel to one of the axes (x, y or z) of our machine coordinate system and hence we cannot use any of the basic rotation matrices to model it in our kinematic. The basic rotation matrices are, as we will see, only three particular solutions of a general formula to describe rotations around any given vector $V(v_x, v_y, v_z$) in space. \n",
    "So to construct the rotation matrix $R_a$ for the slanted joint A of our machine we can use the ‘Rodrigues' rotation formula. (Note that there is also an 'Euler-Rodrigues' formula that can be used for the same purpose but uses different parameters.)"
   ]
  },
  {
   "cell_type": "markdown",
   "metadata": {},
   "source": [
    "\\begin{equation}\n",
    "R_a ~=~ I ~+~ sin\\theta \\cdot V + (2sin²{\\theta \\over2}) \\cdot V²\n",
    "\\label{eq:rod_rot}\n",
    "\\end{equation}\n",
    "With:\n",
    "\\begin{equation}\n",
    "I ~=~ \n",
    "\\left(\\begin{array}{rrrr}\n",
    "1 & 0 & 0 \\\\\n",
    "0 & 1 & 0 \\\\\n",
    "0 & 0 & 1 \n",
    "\\end{array}\\right)\n",
    "~~\n",
    "V ~=~\n",
    "\\left(\\begin{array}{rrrr}\n",
    "  0  & -v_z &  v_y \\\\\n",
    " v_z &   0  & -v_x  \\\\\n",
    "-v_y &  v_x  &   0 \n",
    "\\end{array}\\right)\n",
    "\\label{eq:mat_I_V}\n",
    "\\end{equation}\n",
    "\n",
    "For the matrix $V$ we need a unit vector that represents the rotational axis of the 45° joint:\n",
    "\n",
    "$$\\vec{v}=(v_x,v_y,v_z)$$\n",
    "\n",
    "with the components:\n",
    "\n",
    "\\begin{equation}\n",
    "v_x=0 ~~~~ v_y = {1\\over{\\sqrt2}} ~~~~ v_z = {1\\over{\\sqrt2}}\n",
    "\\label{eq:vector_v}\n",
    "\\end{equation}\n",
    "\n",
    "Using $\\eqref{eq:rod_rot}$ and $\\eqref{eq:mat_I_V}$,  $R_A $ can thus be written as:\n",
    "\n",
    "\\begin{equation}\n",
    "R_a ~=~\n",
    "\\left(\\begin{array}{rrrr}\n",
    "  cos\\theta+v²_x(1-cos\\theta)   &   v_x v_y(1-cos\\theta)-v_z sin\\theta  &  v_x v_z(1-cos\\theta)+v_y sin\\theta \\\\\n",
    "  v_x v_y(1-cos\\theta)+v_z sin\\theta  &   cos\\theta+v²_y(1-cos\\theta)   &  v_y v_z(1-cos\\theta)-v_x sin\\theta \\\\\n",
    "  v_x v_z(1-cos\\theta)-v_y sin\\theta  &   v_y v_z(1-cos\\theta)+v_x sin\\theta   &   cos\\theta+v²_z(1-cos\\theta) \n",
    "\\end{array}\\right)\n",
    "\\end{equation}\n",
    "\n",
    "\n",
    "using $\\eqref{eq:vector_v}$ and the substitution \n",
    "$$ sin\\theta = Sa ~~~ cos\\theta = Ca$$\n",
    "\n",
    "$R_a $ becomes\n",
    "\n",
    "\\begin{equation}\n",
    "R_a ~=~\n",
    "\\left(\\begin{array}{rrrr}\n",
    "           Ca         &   -{1\\over{\\sqrt2}}Sa      &  {1\\over{\\sqrt2}}Sa \\\\\n",
    "  {1\\over{\\sqrt2}}Sa  &       {1\\over2}(1+Ca)      &   {1\\over2}(1-Ca)     \\\\\n",
    " -{1\\over{\\sqrt2}}Sa  &       {1\\over2}(1-Ca)      &   {1\\over2}(1+Ca)\n",
    "\\end{array}\\right)\n",
    "\\end{equation}\n",
    "\n",
    "and by expanding it to a 4x4 matrix we have now the required transformation matrix\n",
    "\n",
    "\\begin{equation}\n",
    "R_a ~=~\n",
    "\\left(\\begin{array}{rrrr}\n",
    "           Ca         &   -{1\\over{\\sqrt2}}Sa      &  {1\\over{\\sqrt2}}Sa   &      0     \\\\\n",
    "  {1\\over{\\sqrt2}}Sa  &       {1\\over2}(1+Ca)      &   {1\\over2}(1-Ca)     &      0     \\\\\n",
    " -{1\\over{\\sqrt2}}Sa  &       {1\\over2}(1-Ca)      &   {1\\over2}(1+Ca)     &      0     \\\\\n",
    "            0         &              0             &          0            &      1\n",
    "\\end{array}\\right)\n",
    "\\end{equation}\n",
    "\n",
    "\n",
    "To make the matrix multiplications more manageable we substitute \n",
    "\n",
    "\\begin{equation}\n",
    "{1\\over{\\sqrt2}}Sa ~=~ t ~~~~~~~~  {1\\over2}(1+Ca)~=~ u   ~~~~~~~~  {1\\over2}(1-Ca)~=~ v \n",
    "\\end{equation}\n",
    "\n",
    "and get the transformation matrix in it's final form\n",
    "\n",
    "\\begin{equation}\n",
    "R_a ~=~\n",
    "\\left(\\begin{array}{rrrr}\n",
    "Ca  & -t  &  t  &  0     \\\\\n",
    " t  &  u  &  v  &  0     \\\\\n",
    "-t  &  v  &  u  &  0     \\\\\n",
    " 0  &  0  &  0  &  1\n",
    "\\end{array}\\right)\n",
    "\\end{equation}"
   ]
  },
  {
   "cell_type": "code",
   "execution_count": null,
   "metadata": {},
   "outputs": [],
   "source": [
    "# define rotation matrix for joint A\n",
    "var('Ca','t','u','v')\n",
    "Ra=matrix([[Ca, -t,  t, 0],\n",
    "           [ t,  u,  v, 0],\n",
    "           [-t,  v,  u, 0],\n",
    "           [ 0,  0,  0, 1]])"
   ]
  },
  {
   "cell_type": "markdown",
   "metadata": {},
   "source": [
    "## Tool length offset (TLO)\n",
    "\n",
    "As we could see above in our inspection of the spindle rotary assembly the tool length offset ($Dt$) has the same direction as the z-component of the pivot-offset ($Lz$) that is, a positive $Dt$ value points in the negative machine-z direction.\n",
    "So as a building block in our forward kinematic transformation the value of $Dt$ needs to be in the negative:"
   ]
  },
  {
   "cell_type": "code",
   "execution_count": null,
   "metadata": {},
   "outputs": [],
   "source": [
    "# define translation matrix for the tool length\n",
    "var('Dt')\n",
    "Tt=matrix([[ 1, 0, 0,  0],\n",
    "           [ 0, 1, 0,  0 ],\n",
    "           [ 0, 0, 1, -Dt],\n",
    "           [ 0, 0, 0, 1 ]])\n",
    "display(Math(rf'T_t =~'+latex(Tt)))"
   ]
  },
  {
   "cell_type": "code",
   "execution_count": null,
   "metadata": {},
   "outputs": [],
   "source": [
    "Tz=Tl*Tt\n",
    "display(Math(rf'T_lt =~'+latex(Tl)+rf'\\cdot'+latex(Tt)+rf'=~'+latex(Tz)))"
   ]
  },
  {
   "cell_type": "markdown",
   "metadata": {},
   "source": [
    "\n",
    "## Rotary C, B and A with offsets\n",
    "Now that we have all the building blocks we can put everything together:\n",
    "\n",
    "$$ ^QA_P = R_c \\cdot T_p \\cdot R_b \\cdot T_d \\cdot R_a \\cdot T_l \\cdot T_t$$"
   ]
  },
  {
   "cell_type": "code",
   "execution_count": null,
   "metadata": {},
   "outputs": [],
   "source": [
    "# calculate the forward transformation matrix\n",
    "# note: the brackets *(Tl*Tt) are only used to get a cosmetically\n",
    "# prettier result since it seems to keep \"(Dt+Lz)\"\n",
    "qAp=Rc*Tp*Rb*Td*Ra*(Tl*Tt)\n",
    "display(Math(rf'^Q A_P =~'+latex(qAp)))"
   ]
  },
  {
   "cell_type": "code",
   "execution_count": null,
   "metadata": {
    "scrolled": true
   },
   "outputs": [],
   "source": [
    "# calculate the forward kinematic\n",
    "display(Math(rf'Q =~'+latex(Q_)+rf'=~^QA_P \\cdot P'))\n",
    "display(Math(rf'Q =~'+latex(Q_)+rf'=~'+latex(qAp)+rf'\\cdot'+latex(P_)))\n",
    "display(Math(rf'Q =~'+latex(Q_)+rf'=~'+latex(Q_out)))"
   ]
  },
  {
   "cell_type": "code",
   "execution_count": null,
   "metadata": {},
   "outputs": [],
   "source": [
    "# Extract the tool-position vector Q (FORWARD KINEMATICS) from\n",
    "# the fourth column of the forward transformation matrix\n",
    "Qx=qAp[0][3]\n",
    "Qy=qAp[1][3]\n",
    "Qz=qAp[2][3]\n",
    "\n",
    "display(Math(latex(Q_[0][0]) + rf'~=~'  + latex(Qx)))\n",
    "display(Math(latex(Q_[1][0]) + rf'~=~'  + latex(Qy)))\n",
    "display(Math(latex(Q_[2][0]) + rf'~=~'  + latex(Qz)))"
   ]
  },
  {
   "cell_type": "markdown",
   "metadata": {},
   "source": [
    "So with this as our core forward transformation matrix we can now check the output of this model for the home position $$P(Px,Py,Pz)=(0,0,0)$$ and $$\\theta_a = \\theta_b = \\theta_c =0$$  $$(Ca=Cb=Cc=1, ~~Sa=Sb=Sc=0)$$\n",
    "\n",
    "and taking our substitution in $R_a$ into account:\n",
    "\n",
    "\\begin{equation}\n",
    "{1\\over{\\sqrt2}}Sa ~=~ t ~~~~~~~~  {1\\over2}(1+Ca)~=~ u   ~~~~~~~~  {1\\over2}(1-Ca)~=~ v \n",
    "\\end{equation}\n",
    "\n",
    "which for $\\theta_a = 0$ reduces to:\n",
    "\n",
    "\\begin{equation}\n",
    "t~=~ 0 ~~~~~~~~  u=~ 1   ~~~~~~~~  v~=~ 0 \n",
    "\\end{equation}\n",
    "\n",
    "\n",
    "we get the coordinates:\n",
    "$$Qx= -Dx $$\n",
    "$$Qy= -Ly $$\n",
    "$$Qz= -(Dt + Lz) -Dz$$\n",
    "\n",
    "\\begin{equation}\n",
    "Q ~=~\n",
    "\\left(\\begin{array}{r}\n",
    "  Qx \\\\\n",
    "  Qy \\\\\n",
    "  Qz \\\\\n",
    "  1\n",
    "\\end{array}\\right)\n",
    "~=~\n",
    "\\left(\\begin{array}{r}\n",
    "  -Dx \\\\\n",
    "  -Ly \\\\\n",
    "  -Dt-Lz-Dz \\\\\n",
    "  1\n",
    "\\end{array}\\right)\n",
    "\\end{equation}"
   ]
  },
  {
   "cell_type": "markdown",
   "metadata": {},
   "source": [
    "To get the expected coordinate position $Q(Qx,Qy,Qz)=(0,0,0)$ we need to compensate for these offsets by subtracting them from the result of our core transformation matrix. \n",
    "Note subtracting a vector is the same as adding its inverse vector \n",
    "We define the transformation:\n"
   ]
  },
  {
   "cell_type": "code",
   "execution_count": null,
   "metadata": {},
   "outputs": [],
   "source": [
    "Tc=matrix([[ 1, 0, 0,  Dx],\n",
    "           [ 0, 1, 0,  Ly ],\n",
    "           [ 0, 0, 1, (Dt+Lz+Dz)],\n",
    "           [ 0, 0, 0, 1 ]])\n",
    "display(Math(rf'T_c =~'+latex(Tc)))"
   ]
  },
  {
   "cell_type": "markdown",
   "metadata": {},
   "source": [
    "Note that this is a translation of the result of our forward transformation matrix $^QA_P$ it needs to be multiplied from the left:\n",
    "\n",
    "$$^QA_P = T_c \\cdot R_c \\cdot T_p \\cdot R_b \\cdot T_d \\cdot R_a \\cdot T_l \\cdot T_t$$"
   ]
  },
  {
   "cell_type": "code",
   "execution_count": null,
   "metadata": {},
   "outputs": [],
   "source": [
    "# calculate the forward transformation matrix\n",
    "# note: the brackets *(Tl*Tt) are only used to get a cosmetically\n",
    "# prettier result since it seems to keep \"(Dt+Lz)\"\n",
    "qAp=Tc*Rc*Tp*Rb*Td*Ra*(Tl*Tt)\n",
    "display(Math(rf'^Q A_P =~'+latex(qAp)))"
   ]
  },
  {
   "cell_type": "code",
   "execution_count": null,
   "metadata": {},
   "outputs": [],
   "source": [
    "# Extract the tool-position vector Q (FORWARD KINEMATICS) from\n",
    "# the fourth column of the forward transformation matrix\n",
    "Qx=qAp[0][3]\n",
    "Qy=qAp[1][3]\n",
    "Qz=qAp[2][3]\n",
    "\n",
    "display(Math(latex(Q_[0][0]) + rf'~=~'  + latex(Qx)))\n",
    "display(Math(latex(Q_[1][0]) + rf'~=~'  + latex(Qy)))\n",
    "display(Math(latex(Q_[2][0]) + rf'~=~'  + latex(Qz)))"
   ]
  },
  {
   "cell_type": "markdown",
   "metadata": {},
   "source": [
    "---\n",
    "Note that in the kinematic component $Dt$ is added to the z-pivot value *Lz* in the line <br> *            Lz = Lz + Dt;*"
   ]
  },
  {
   "cell_type": "markdown",
   "metadata": {},
   "source": [
    "        case 1: // ========================= TCP kinematics FORWARD \n",
    "            Lz          = Lz + Dt;\n",
    "            // onLy used to be consistent with math documentation\n",
    "            Px          = j[0];\n",
    "            Py          = j[1];\n",
    "            Pz          = j[2];\n",
    "\n",
    "            pos->tran.x = - Cb*Cc*Dx - Cc*Dz*Sb \n",
    "                          + (Cb*Cc*t - Cc*Sb*v + Sc*u)*Ly \n",
    "                          - (Cb*Cc*t + Cc*Sb*u - Sc*v)*Lz \n",
    "                          + Cc*Px - Py*Sc\n",
    "                          + Dx;\n",
    "\n",
    "            pos->tran.y = - Cb*Dx*Sc - Dz*Sb*Sc \n",
    "                          + (Cb*Sc*t - Sb*Sc*v - Cc*u)*Ly \n",
    "                          - (Cb*Sc*t + Sb*Sc*u + Cc*v)*Lz \n",
    "                          + Cc*Py + Px*Sc\n",
    "                          + Ly;\n",
    "\n",
    "            pos->tran.z = - Cb*Dz \n",
    "                          - (Sb*t + Cb*v)*Ly \n",
    "                          + (Sb*t - Cb*u)*Lz \n",
    "                          + Dx*Sb \n",
    "                          + Pz\n",
    "                          + Lz\n",
    "                          + Dz \n",
    "                          ; \n",
    "\n",
    "            pos->a      = j[3];\n",
    "            pos->b      = j[4];\n",
    "            pos->c      = j[5];\n",
    "\n",
    "            break;"
   ]
  },
  {
   "cell_type": "markdown",
   "metadata": {},
   "source": [
    "## Position offset of the rotary table to the machine reference point\n",
    " \n",
    "Up to this point we have assumed that the machine reference point coincides with the rotational axis of our rotary C table.\n",
    "However, it is somewhat unlikely that a machines home position is exactly in the rotational axis of the rotary table and this will need to be taken into account in the kinematic model.<br>\n",
    "If we assume that we have a setup with no TLO ($Dt=0$), no geometric offset ($Dx=Dz=0$), no pivot-length ($Ly=Dz=0$) and no offset of the rotation-axis of the rotary C to the machine reference point.<br>\n",
    "A tool positioned in rotational axis of C would have a joint-position of $P(0,0,P_z)$ and that would give the expected resulting coordinate position of $Q(0,0,P_z)$.<br>\n",
    "If we now assume that the rotation-axis of our rotary C table is offset from the machine reference point by $(ra_x,ra_y)$ then our joint-position would be equal to $P(ra_x,ra_y,P_z)$ which would give us a result of $Q(ra_x, ra_y, P_z)$.<br>\n",
    "So we need to subtract the offset $(ra_x,ra_y)$ from the joint-position $P=(P_x-ra_x, P_y-ra_y, P_z)$ before we input it into our transformation matrix.  In other words we need to translate the joint-position vector in the opposite direction along the offset vector with the components $(ra_x,ra_y,0)$. "
   ]
  },
  {
   "cell_type": "code",
   "execution_count": null,
   "metadata": {},
   "outputs": [],
   "source": [
    "var('Drax','Dray')\n",
    "# define offset translation matrix for the rotary c taböe\n",
    "Tr=matrix([[ 1, 0, 0, -Drax],\n",
    "           [ 0, 1, 0, -Dray],\n",
    "           [ 0, 0, 1,     0],\n",
    "           [ 0, 0, 0,    1 ]])\n",
    "display(Math(rf'Tr =~'+latex(Tr)))\n",
    "\n"
   ]
  },
  {
   "cell_type": "markdown",
   "metadata": {},
   "source": [
    "Note that this is a translation $T_r$ of the input $T_p$ of our forward transformation matrix $^QA_P$ so it needs to be multiplied to $T_p$ from the right :"
   ]
  },
  {
   "cell_type": "code",
   "execution_count": null,
   "metadata": {},
   "outputs": [],
   "source": [
    "Tpr=Tp*Tr\n",
    "display(Math(rf'T_p \\cdot T_r =~'+latex(Tp)+rf'\\cdot'+latex(Tr)+rf'=~'+latex(Tpr)))"
   ]
  },
  {
   "cell_type": "markdown",
   "metadata": {},
   "source": [
    "Thus we get:\n",
    "\n",
    "$$^QA_P = T_c \\cdot R_c \\cdot T_p \\cdot T_r \\cdot R_b \\cdot T_d \\cdot R_a \\cdot T_l \\cdot T_t$$\n",
    "\n"
   ]
  },
  {
   "cell_type": "markdown",
   "metadata": {},
   "source": [
    "However some more consideration is needed for now a joint position of $P(ra_x,ra_y,P_z)$ will result in a coordinate position of $Q(0,0,P_z)$ which is of course not the value we can hand back to LinuxCNC because if the rotation axis is offset from machine home position then the coordinate position would need to be $Q(rp_x,rp_y,P_z)$.<br> \n",
    "So to be consistent we need to add the offset values back to the results of our calculations which we do again by multiplying a vector translation to the left of our forward kinematic:"
   ]
  },
  {
   "cell_type": "code",
   "execution_count": null,
   "metadata": {},
   "outputs": [],
   "source": [
    "Tnr=matrix([[ 1, 0, 0, Drax],\n",
    "            [ 0, 1, 0, Dray],\n",
    "            [ 0, 0, 1,  0  ],\n",
    "            [ 0, 0, 0,  1  ]])\n",
    "display(Math(rf'T._r =~'+latex(Tnr)))"
   ]
  },
  {
   "cell_type": "markdown",
   "metadata": {},
   "source": [
    "Thus we get our final forward transformation matrix:\n",
    "\n",
    "$$^QA_P = T_{-r} \\cdot T_c \\cdot R_c \\cdot T_p \\cdot T_r \\cdot R_b \\cdot T_d \\cdot R_a \\cdot T_l \\cdot T_t$$\n",
    "\n"
   ]
  },
  {
   "cell_type": "code",
   "execution_count": 9,
   "metadata": {},
   "outputs": [
    {
     "ename": "NameError",
     "evalue": "name 'Tnr' is not defined",
     "output_type": "error",
     "traceback": [
      "\u001b[0;31m---------------------------------------------------------------------------\u001b[0m",
      "\u001b[0;31mNameError\u001b[0m                                 Traceback (most recent call last)",
      "\u001b[0;32m<ipython-input-9-d1d65c3e4815>\u001b[0m in \u001b[0;36m<module>\u001b[0;34m\u001b[0m\n\u001b[1;32m      3\u001b[0m \u001b[0;31m# prettier result since it seems to keep \"(Dt+Lz)\"\u001b[0m\u001b[0;34m\u001b[0m\u001b[0;34m\u001b[0m\u001b[0;34m\u001b[0m\u001b[0m\n\u001b[1;32m      4\u001b[0m \u001b[0;31m# similar for (Tp*Tr)\u001b[0m\u001b[0;34m\u001b[0m\u001b[0;34m\u001b[0m\u001b[0;34m\u001b[0m\u001b[0m\n\u001b[0;32m----> 5\u001b[0;31m \u001b[0mqAp\u001b[0m\u001b[0;34m=\u001b[0m\u001b[0mTnr\u001b[0m\u001b[0;34m*\u001b[0m\u001b[0mTc\u001b[0m\u001b[0;34m*\u001b[0m\u001b[0mRc\u001b[0m\u001b[0;34m*\u001b[0m\u001b[0;34m(\u001b[0m\u001b[0mTp\u001b[0m\u001b[0;34m*\u001b[0m\u001b[0mTr\u001b[0m\u001b[0;34m)\u001b[0m\u001b[0;34m*\u001b[0m\u001b[0mRb\u001b[0m\u001b[0;34m*\u001b[0m\u001b[0mTd\u001b[0m\u001b[0;34m*\u001b[0m\u001b[0mRa\u001b[0m\u001b[0;34m*\u001b[0m\u001b[0;34m(\u001b[0m\u001b[0mTl\u001b[0m\u001b[0;34m*\u001b[0m\u001b[0mTt\u001b[0m\u001b[0;34m)\u001b[0m\u001b[0;34m\u001b[0m\u001b[0;34m\u001b[0m\u001b[0m\n\u001b[0m\u001b[1;32m      6\u001b[0m \u001b[0mdisplay\u001b[0m\u001b[0;34m(\u001b[0m\u001b[0mMath\u001b[0m\u001b[0;34m(\u001b[0m\u001b[0;34mrf'^Q A_P =~'\u001b[0m\u001b[0;34m+\u001b[0m\u001b[0mlatex\u001b[0m\u001b[0;34m(\u001b[0m\u001b[0mqAp\u001b[0m\u001b[0;34m)\u001b[0m\u001b[0;34m)\u001b[0m\u001b[0;34m)\u001b[0m\u001b[0;34m\u001b[0m\u001b[0;34m\u001b[0m\u001b[0m\n",
      "\u001b[0;31mNameError\u001b[0m: name 'Tnr' is not defined"
     ]
    }
   ],
   "source": [
    "# calculate the forward transformation matrix\n",
    "# note: the brackets *(Tl*Tt) are only used to get a cosmetically\n",
    "# prettier result since it seems to keep \"(Dt+Lz)\"\n",
    "# similar for (Tp*Tr)\n",
    "qAp=Tnr*Tc*Rc*(Tp*Tr)*Rb*Td*Ra*(Tl*Tt)\n",
    "display(Math(rf'^Q A_P =~'+latex(qAp)))"
   ]
  },
  {
   "cell_type": "code",
   "execution_count": null,
   "metadata": {},
   "outputs": [],
   "source": [
    "# Extract the tool-position vector Q (FORWARD KINEMATICS) from\n",
    "# the fourth column of the forward transformation matrix\n",
    "Qx=qAp[0][3]\n",
    "Qy=qAp[1][3]\n",
    "Qz=qAp[2][3]\n",
    "\n",
    "display(Math(latex(Q_[0][0]) + rf'~=~'  + latex(Qx)))\n",
    "display(Math(latex(Q_[1][0]) + rf'~=~'  + latex(Qy)))\n",
    "display(Math(latex(Q_[2][0]) + rf'~=~'  + latex(Qz)))"
   ]
  },
  {
   "cell_type": "code",
   "execution_count": null,
   "metadata": {},
   "outputs": [],
   "source": [
    "# expressions as used in xyzabc_trsrn.comp\n",
    "print('TCP kinematics FORWARD')\n",
    "print('Qx = ', Qx)\n",
    "print('Qy = ', Qy)\n",
    "print('Qz = ', Qz)"
   ]
  },
  {
   "cell_type": "markdown",
   "metadata": {},
   "source": [
    "        case 1: // ========================= TCP kinematics FORWARD \n",
    "            // onLy used to be consistent with math in documentation\n",
    "            Px          = j[0];\n",
    "            Py          = j[1];\n",
    "            Pz          = j[2];\n",
    "\n",
    "            pos->tran.x = - Cb*Cc*Dx \n",
    "                          - Cc*Dz*Sb \n",
    "                          - Cc*(Drax - Px) \n",
    "                          - (Cb*Cc*t + Cc*Sb*u - Sc*v)*(Dt + Lz) \n",
    "                          + (Cb*Cc*t - Cc*Sb*v + Sc*u)*Ly \n",
    "                          + (Dray - Py)*Sc \n",
    "                          + Drax \n",
    "                          + Dx;\n",
    "\n",
    "            pos->tran.y = - Cb*Dx*Sc \n",
    "                          - Dz*Sb*Sc \n",
    "                          - Cc*(Dray - Py) \n",
    "                          - (Cb*Sc*t + Sb*Sc*u + Cc*v)*(Dt + Lz) \n",
    "                          + (Cb*Sc*t - Sb*Sc*v - Cc*u)*Ly \n",
    "                          - (Drax - Px)*Sc \n",
    "                          + Dray \n",
    "                          + Ly\n",
    "                          ;\n",
    "\n",
    "            pos->tran.z =  (Sb*t - Cb*u)*(Dt + Lz)\n",
    "                          - Cb*Dz \n",
    "                          - (Sb*t + Cb*v)*Ly \n",
    "                          + Dx*Sb \n",
    "                          + Dt \n",
    "                          + Dz \n",
    "                          + Lz \n",
    "                          + Pz; \n",
    "\n",
    "            pos->a      = j[3];\n",
    "            pos->b      = j[4];\n",
    "            pos->c      = j[5];\n",
    "\n",
    "            break;"
   ]
  },
  {
   "cell_type": "markdown",
   "metadata": {},
   "source": [
    "### Inverse transformation\n",
    "\n",
    "To calculate the joint position $P$ from a given coordinate position $Q$ we need to follow the kinematic chain in the opposite direction from the spindle to work piece. We can invert our forward kinematic transformation and build it backwards, using the inverted rotations and the inverted translations.<br>\n",
    "Note that the input matrix $T_p$ with its translation {$T_p \\cdot T_r$} for the offset of the rotation axis and the output translation $[T_{-r} \\cdot T_c]$ need to be handled with some consideration: \n",
    "\n",
    "$$^QA_P = [T_{-r} \\cdot T_c] \\cdot R_c \\cdot \\{T_p \\cdot T_r\\} \\cdot (R_b \\cdot T_d \\cdot R_a \\cdot T_l \\cdot T_t)$$\n",
    "$$^QA_P = [offset_{fo}] \\cdot R_c \\cdot \\{input+offset_{fi}\\} \\cdot (R_b \\cdot T_d \\cdot R_a \\cdot T_l \\cdot T_t)$$\n",
    "\n",
    "\n",
    "\n",
    "In the inverse transformation the input is $T_q$ and it's 'offset' is the inverse of the 'output offset' of the forward transformation.\n",
    "Basically what we added to the result of the forward transformation needs to be removed from the input to the inverse transformation and vice versa. On the right side we additionally need to rotate the inverted spindle offsets by the rotation of the rotary C:\n",
    "\n",
    "$$^QA_P = [-offset_{fi}] \\cdot R^T_c \\cdot \\{input-offset_{fo}\\} \\cdot (R_c \\cdot R_b \\cdot T_{-d} \\cdot R_a \\cdot T_{-l} \\cdot T_{-t})$$\n",
    "\n",
    "\n",
    "$$^PA_Q = \\{ T_{-r}\\} \\cdot R^T_c \\cdot T_q \\cdot [T_{r} \\cdot T_{-c}]  \\cdot(R_c \\cdot R_b \\cdot T_{-d} \\cdot R_a \\cdot T_{-l} \\cdot T_{-t})$$\n",
    "\n",
    "Note that the brackets in the above expressions are only used to highlight the different parts of the kinematic model and are not mathematically required. \n",
    "\n",
    "This being the inverse transformation our input matrix has changed to $T_q$:\n",
    "\n"
   ]
  },
  {
   "cell_type": "code",
   "execution_count": null,
   "metadata": {},
   "outputs": [],
   "source": [
    "# define coordinate position matrix\n",
    "var('Qx','Qy','Qz')\n",
    "Tq=matrix([[ 1, 0, 0, Qx ],\n",
    "           [ 0, 1, 0, Qy],\n",
    "           [ 0, 0, 1, Qz],\n",
    "           [ 0, 0, 0, 1 ]])\n",
    "display(Math(rf'T_q =~'+latex(Tq)))"
   ]
  },
  {
   "cell_type": "code",
   "execution_count": null,
   "metadata": {},
   "outputs": [],
   "source": [
    "#define inverse translation matrices\n",
    "Tnc=matrix([[ 1, 0, 0, -Dx],\n",
    "            [ 0, 1, 0, -Ly ],\n",
    "            [ 0, 0, 1, -(Dt+Lz+Dz)],\n",
    "            [ 0, 0, 0, 1 ]])\n",
    "display(Math(rf'T._c =~'+latex(Tnc)))\n",
    "\n",
    "Tnt=matrix([[ 1, 0, 0, 0],\n",
    "            [ 0, 1, 0, 0 ],\n",
    "            [ 0, 0, 1, Dt],\n",
    "            [ 0, 0, 0, 1 ]])\n",
    "display(Math(rf'T._t =~'+latex(Tnt)))\n",
    "Tnd=matrix([[ 1, 0, 0, Dx],\n",
    "            [ 0, 1, 0,  0 ],\n",
    "            [ 0, 0, 1, Dz],\n",
    "            [ 0, 0, 0, 1 ]])\n",
    "display(Math(rf'T._d =~'+latex(Tnd)))\n",
    "Tnl=matrix([[ 1, 0, 0, 0 ],\n",
    "            [ 0, 1, 0, Ly],\n",
    "            [ 0, 0, 1, Lz],\n",
    "            [ 0, 0, 0, 1 ]])\n",
    "display(Math(rf'T._l =~'+latex(Tnl)))"
   ]
  },
  {
   "cell_type": "code",
   "execution_count": null,
   "metadata": {},
   "outputs": [],
   "source": [
    "#qAp=Tnr*Tc*Rc*(Tp*Tr)*Rb*Td*Ra*(Tl*Tt)\n",
    "pAq=Tnr*Rc.transpose()*(Tq*Tr*Tnc)*Rc*Rb*Tnd*Ra*(Tnl*Tnt)"
   ]
  },
  {
   "cell_type": "code",
   "execution_count": null,
   "metadata": {},
   "outputs": [],
   "source": [
    "display(Math(latex(Tq)+rf'\\cdot'+latex(Rb.transpose())+rf'\\cdot'+latex(Ra.transpose())+rf'\\cdot'+latex(Tnl)))\n",
    "display(Math(rf'^PA_Q=~'+latex(pAq)))"
   ]
  },
  {
   "cell_type": "code",
   "execution_count": null,
   "metadata": {},
   "outputs": [],
   "source": [
    "# Extract the joint-position vector P (INVERSE KINEMATICS) from\n",
    "# the fourth column of the inverse transformation matrix\n",
    "Px=pAq[0][3]\n",
    "Py=pAq[1][3]\n",
    "Pz=pAq[2][3]\n",
    "\n",
    "display(Math(latex(P_[0][0]) + rf'~=~'  + latex(Px)))\n",
    "display(Math(latex(P_[1][0]) + rf'~=~'  + latex(Py)))\n",
    "display(Math(latex(P_[2][0]) + rf'~=~'  + latex(Pz)))"
   ]
  },
  {
   "cell_type": "code",
   "execution_count": null,
   "metadata": {},
   "outputs": [],
   "source": [
    "# expressions as used in xyzabc_trsrn.comp\n",
    "print('TCP kinematics INVERSE')\n",
    "print('Px = ', Px)\n",
    "print('Py = ', Py)\n",
    "print('Pz = ', Pz)"
   ]
  },
  {
   "cell_type": "markdown",
   "metadata": {},
   "source": [
    "Note that $$cos²\\theta+sin²\\theta=1$$"
   ]
  },
  {
   "cell_type": "markdown",
   "metadata": {},
   "source": [
    "        case 1: // ========================= TCP kinematics INVERSE \n",
    "            Qx = pos->tran.x;\n",
    "            Qy = pos->tran.y; \n",
    "            Qz = pos->tran.z;   \n",
    "\n",
    "            j[0] =   Cb*Dx \n",
    "                   + Dz*Sb \n",
    "                   - Cc*(Drax + Dx - Qx) \n",
    "                   + (Cb*t + Sb*u)*(Dt + Lz) \n",
    "                   - (Cb*t - Sb*v)*Ly \n",
    "                   - (Dray + Ly - Qy)*Sc \n",
    "                   + Drax;\n",
    "\n",
    "            j[1] =   Ly*u \n",
    "                   + (Dt + Lz)*v \n",
    "                   - Cc*(Dray + Ly - Qy) \n",
    "                   + (Drax + Dx - Qx)*Sc \n",
    "                   + Dray;\n",
    "\n",
    "            j[2] = - (Sb*t - Cb*u)*(Dt + Lz) \n",
    "                   + Cb*Dz + (Sb*t + Cb*v)*Ly \n",
    "                   - Dx*Sb \n",
    "                   - Dt \n",
    "                   - Dz \n",
    "                   - Lz \n",
    "                   + Qz;\n",
    "\n",
    "            j[3] = pos->a;\n",
    "            j[4] = pos->b;\n",
    "            j[5] = pos->c;\n",
    "\n",
    "            break;"
   ]
  },
  {
   "cell_type": "markdown",
   "metadata": {},
   "source": [
    "Also note that with this kinematic model the offset of the rotational axis of the rotary C is the vector $(Dra_x,Dra_y,0)$ going from the pivot-point of the spindle assembly to the rotatio-axis of C with the machine in the home position.\n",
    "In other words if the C-rotary-axis has the absolute machine coordinates $(Rot_x,Rot_y,0)$ then $$Dra_x = Rot_x - Dx$$ $$Dra_y = Rot_y - Ly$$"
   ]
  },
  {
   "cell_type": "markdown",
   "metadata": {},
   "source": [
    "In the kinematic comp this is handled in the variable declaration:"
   ]
  },
  {
   "cell_type": "markdown",
   "metadata": {},
   "source": [
    "    // geometric offsets of the universal spindle head as defined in \n",
    "    double         Ly = *haldata->y_pivot;\n",
    "    double         Lz = *haldata->z_pivot;\n",
    "    double         Dx = *haldata->x_offset;\n",
    "    double         Dz = *haldata->z_offset;\n",
    "    double       Drax = *haldata->x_rot_axis - Dx;\n",
    "    double       Dray = *haldata->y_rot_axis - Ly;"
   ]
  },
  {
   "cell_type": "markdown",
   "metadata": {},
   "source": [
    "This concludes the TCP kinematic\n"
   ]
  },
  {
   "cell_type": "markdown",
   "metadata": {},
   "source": [
    "-----"
   ]
  },
  {
   "cell_type": "markdown",
   "metadata": {},
   "source": [
    "# Tool Kinematic model\n",
    "Many, if not most, applications for 5-axis milling do not require TCP kinematics where all five axes are moving simultaneously but only need the work piece to be oriented at certain angles to the tool in between 'conventional' three axis (x,y,z) milling operations. In these operations the tool is not reoriented while cutting the material. This is what is called '3+2' mode.<br>\n",
    "In 3+2 mode the machine operator can use the familiar built in cycles the machine controller offers for 3d (x,y,z) use and does not necessarily require CAM/CAD software to machine a part. The ability to move the tool in a plane perpendicular to its rotational axis also allows the use of probes for job setup.<br>\n",
    "Machines with work side rotation (eg the C rotary in our example, or the 'table-rotary-tilting' examples included in LinuxCNC simulation configs) can orient the work piece to the tool by simply rotating the work to the required orientation as the tool always remains oriented along the machine z-axis. A drilling operation on such a machine will thus still only require the machine z-axis to be moved no matter how the part is oriented.  In this case no special kinematic is required.<br>\n",
    "Machines with tool side rotation like the one presented here with A and B spindle rotations however retain the directions of the unrotated machine coordinate system when moving in IDENTITY and TCP kinematics while the tool orientation changes in respect to the machine coordinate system.  A drilling operation on such a machine will require the machine to move in a complex manner that may include all three (x,y,z) axes depending on how tool is oriented.<br>\n",
    "Commercial 5-axis machine controllers offer built in functionality that allow the operator to define work plane orientation using Gcode commands like G68.2 or similar; automatically adjusting the kinematic model to the type of kinematic of the machine. To implement such a feature for our example machine using LinuxCNC we need to create another kind of kinematic model which we will call the TOOL kinematic.  \n",
    "\n"
   ]
  },
  {
   "cell_type": "markdown",
   "metadata": {},
   "source": [
    "### Forward transformation\n",
    "\n",
    "For the TOOL kinematic start at the tool tip and work towards the work piece omitting the C axis rotation. So in our example case our forward transformation matrix $^QA_P$ is :\n",
    "\n",
    "$$^QA_P = R^T_{tc} \\cdot T_l \\cdot R^T_a \\cdot T_d \\cdot R^T_b\\ \\cdot ( T_p \\cdot T_{-d} \\cdot T_{-l})$$\n",
    "\n",
    "Where $R_{tc}$ is a virtual rotation around the rotational axis of the tool. This is required because we need a way to define the orientation of the tool-x (and -y). Without this the tool-coordinate system will be 'fixed' to the spindle head orientation which we do certainly want for the tool-z orientation but not for the x,y-directions. This will be important when developing the 'Tilted Work Plane' features later.\n",
    "\n",
    "Tool-length offset is applied automatically in LinuxCNC by subtracting the tool length value stored in the tool table from the z-axis coordinate position while the joint position remains unchanged. This built in compensation also work in our custom tool kinematic because the tool coordinate system is always aligned with the rotational axis of the tool.\n",
    "\n",
    "Note that the brackets in the above expressions are only used to highlight the different parts of the kinematic model and are not mathematically required. "
   ]
  },
  {
   "cell_type": "code",
   "execution_count": null,
   "metadata": {},
   "outputs": [],
   "source": [
    "# add c rotation of tool coordinate system\n",
    "var('Ctc','Stc')\n",
    "Rtc=matrix([[ Ctc, -Stc,   0, 0],\n",
    "           [ Stc,  Ctc,   0, 0],\n",
    "           [ 0 ,  0 ,   1, 0],\n",
    "           [ 0,   0 ,   0, 1]])"
   ]
  },
  {
   "cell_type": "code",
   "execution_count": null,
   "metadata": {
    "scrolled": true
   },
   "outputs": [],
   "source": [
    "display(Math(\n",
    "             latex(Rtc.transpose())+rf'\\cdot'\n",
    "            +latex(Tl)             +rf'\\cdot'\n",
    "            +latex(Ra.transpose()) +rf'\\cdot'\n",
    "            +latex(Td)            +rf'\\cdot'\n",
    "            +latex(Rb.transpose()) +rf'\\cdot'\n",
    "            +latex(Tp)             +rf'\\cdot'\n",
    "            +latex(Tnd)            +rf'\\cdot'\n",
    "            +latex(Tnl)              \n",
    "        ))       "
   ]
  },
  {
   "cell_type": "code",
   "execution_count": null,
   "metadata": {},
   "outputs": [],
   "source": [
    "# calculate the forward kinematic \n",
    "# brackets are only used for cosmetically adjust the resulting formula\n",
    "qAp=Rtc.transpose()*(Tl)*Ra.transpose()*Td*Rb.transpose()*(Tp*Tnd*Tnl)                                                              \n",
    "display(Math(rf'^Q A_P =~'+latex(qAp)))\n"
   ]
  },
  {
   "cell_type": "code",
   "execution_count": null,
   "metadata": {},
   "outputs": [],
   "source": [
    "# Extract the tool-position vector Q (FORWARD KINEMATICS) from\n",
    "# the fourth column of the forward transformation matrix\n",
    "Qx=qAp[0][3]\n",
    "Qy=qAp[1][3]\n",
    "Qz=qAp[2][3]\n",
    "\n",
    "display(Math(latex(Q_[0][0]) + rf'~=~'  + latex(Qx)))\n",
    "display(Math(latex(Q_[1][0]) + rf'~=~'  + latex(Qy)))\n",
    "display(Math(latex(Q_[2][0]) + rf'~=~'  + latex(Qz)))"
   ]
  },
  {
   "cell_type": "code",
   "execution_count": null,
   "metadata": {},
   "outputs": [],
   "source": [
    "# expressions as used in xyzabc_trsrn.comp\n",
    "print('TOOL kinematics FORWARD')\n",
    "print('Qx = ', Qx)\n",
    "print('Qy = ', Qy)\n",
    "print('Qz = ', Qz)"
   ]
  },
  {
   "cell_type": "markdown",
   "metadata": {},
   "source": [
    "In preparation for the 'Tilted work plane' (TWP) feature we introduce a custom offset *Twp-(x,y,z)*. This will be the offset from the current work offset (eg G54) to the origin of the TWP as defined by the (X,Y,Z) words in the Gcode (eg G68.2). <br>\n",
    "Example:<br>\n",
    "*G68.2 X10 Y20 Z30 ...* (the other words are not relevant here)\n",
    "will define a TWP with an offset of (10,20,30) to the active work origin (0,0,0).\n",
    "<br>\n",
    "\n",
    "\n",
    "This custom offset can be built into our forward kinematic as a translation of the result of the forward transformation:<br>\n",
    "$$Q~=~ T_{-twp} \\cdot~ ^QA_P \\cdot P$$\n",
    "Which means simply adding a subtraction to the respective formula in our kinematic component:  "
   ]
  },
  {
   "cell_type": "markdown",
   "metadata": {},
   "source": [
    "     case 3: // ========================= TOOL kinematics FORWARD \n",
    "            // onLy used to be consistent with math in documentation\n",
    "            Px          = j[0];\n",
    "            Py          = j[1];\n",
    "            Pz          = j[2];\n",
    "\n",
    "            pos->tran.x =    ((Ca*Ctc - Stc*t)*Cb  \n",
    "                               - (Ctc*t - Stc*v)*Sb)*(Dx + Px) \n",
    "                           -  (Ca*Ctc - Stc*t)*Dx \n",
    "                           - ((Ctc*t - Stc*v)*Cb \n",
    "                               + (Ca*Ctc - Stc*t)*Sb)*(Dz + Lz + Pz) \n",
    "                           +  (Ctc*t - Stc*v)*Dz \n",
    "                           +  (Ctc*t + Stc*u)*(Ly + Py) \n",
    "                           -  Ly*Stc\n",
    "                           -  Twp_x;\n",
    "\n",
    "\n",
    "            pos->tran.y =  - ((Ca*Stc + Ctc*t)*Cb - (Stc*t \n",
    "                               + Ctc*v)*Sb)*(Dx + Px) \n",
    "                           +  (Ca*Stc + Ctc*t)*Dx \n",
    "                           + ((Stc*t + Ctc*v)*Cb + (Ca*Stc \n",
    "                               + Ctc*t)*Sb)*(Dz + Lz + Pz) \n",
    "                           -  (Stc*t + Ctc*v)*Dz \n",
    "                           -  (Stc*t - Ctc*u)*(Ly + Py) \n",
    "                           -  Ctc*Ly\n",
    "                           -  Twp_y;\n",
    "\n",
    "\n",
    "            pos->tran.z =    (Cb*t + Sb*u)*(Dx + Px) \n",
    "                           - (Sb*t - Cb*u)*(Dz + Lz + Pz)\n",
    "                           -  Dx*t \n",
    "                           -  Dz*u\n",
    "                           + (Ly + Py)*v\n",
    "                           -  Lz\n",
    "                           -  Twp_z;\n",
    "\n",
    "            pos->a      = j[3];\n",
    "            pos->b      = j[4];\n",
    "            pos->c      = j[5];\n",
    "\n",
    "            break;"
   ]
  },
  {
   "cell_type": "code",
   "execution_count": null,
   "metadata": {},
   "outputs": [],
   "source": []
  },
  {
   "cell_type": "markdown",
   "metadata": {},
   "source": [
    "### Inverse transformation\n",
    "\n",
    "For the inverse kinematic we need to move from the machine coordinates to the tool coordinates starting with the inverted offset translations $(T_d \\cdot T_l )$ for the offsets we used on the input of the forward kinematic $T_{-d} \\cdot T_{-l}$:\n",
    "\n",
    "$$^QA_P = R^T_{tc} \\cdot T_l \\cdot R^T_a \\cdot T_d \\cdot R^T_b\\ \\cdot ( T_p \\cdot T_{-d} \\cdot T_{-l})$$\n",
    "\n",
    "$$^PA_Q = (T_d \\cdot T_l ) \\cdot R_b \\cdot T_{-d} \\cdot R_a \\cdot T_{-l} \\cdot R_{tc}\\cdot T_q $$\n",
    "\n",
    "Note that the brackets in the above expressions are only used to highlight the different parts of the kinematic model and are not mathematically required.  "
   ]
  },
  {
   "cell_type": "code",
   "execution_count": null,
   "metadata": {},
   "outputs": [],
   "source": [
    "# calculate the inverse kinematic \n",
    "# brackets are only used for cosmetically adjust the resulting formula\n",
    "#qAp=Rtc.transpose()*(Tnl)*Ra.transpose()*Tnd*Rb.transpose()*(Tp*Td*Tl)                                                     \n",
    "pAq=(Td*Tl)*Rb*Tnd*Ra*Tnl*Rtc*Tq\n",
    "\n",
    "display(Math(rf'^PA_Q =~'+latex(pAq)))"
   ]
  },
  {
   "cell_type": "code",
   "execution_count": null,
   "metadata": {
    "scrolled": true
   },
   "outputs": [],
   "source": [
    "# Extract the joint-position vector P (INVERSE KINEMATICS) from\n",
    "# the fourth column of the inverse transformation matrix\n",
    "Px=pAq[0][3]\n",
    "Py=pAq[1][3]\n",
    "Pz=pAq[2][3]\n",
    "\n",
    "display(Math(latex(P_[0][0]) + rf'~=~'  + latex(Px)))\n",
    "display(Math(latex(P_[1][0]) + rf'~=~'  + latex(Py)))\n",
    "display(Math(latex(P_[2][0]) + rf'~=~'  + latex(Pz)))\n"
   ]
  },
  {
   "cell_type": "code",
   "execution_count": null,
   "metadata": {},
   "outputs": [],
   "source": [
    "# expressions as used in xyzabc_trsrn.comp\n",
    "print('TCP kinematics INVERSE')\n",
    "print('Px = ', Px)\n",
    "print('Py = ', Py)\n",
    "print('Pz = ', Pz)"
   ]
  },
  {
   "cell_type": "markdown",
   "metadata": {},
   "source": [
    "The custom TWP-offset we built into our forward kinematic as a translation of the result needs to be reflected in our inverse kinematic by an inverse translation of the input:<br>\n",
    "$$P~=~  ^PA_Q \\cdot Q \\cdot T_{twp}~$$\n",
    "In the kinematic component this is done in lines:<br>\n",
    "\n",
    "*Qx = pos->tran.x + Twp_x;*<br>\n",
    "*Qy = pos->tran.y + Twp_y;*<br>\n",
    "*Qz = pos->tran.z + Twp_z;*\n",
    "            \n",
    "            "
   ]
  },
  {
   "cell_type": "markdown",
   "metadata": {},
   "source": [
    "    case 3: // ========================= TOOL  kinematics INVERSE\n",
    "            Qx = pos->tran.x + Twp_x;\n",
    "            Qy = pos->tran.y + Twp_y;\n",
    "            Qz = pos->tran.z + Twp_z;\n",
    "\n",
    "            j[0] =   Cb*Dx \n",
    "                   - (Cb*t - Sb*v)*Ly \n",
    "                   + (Cb*t + Sb*u)*Lz \n",
    "                   + ((Ca*Cb - Sb*t)*Ctc - (Cb*t - Sb*v)*Stc)*Qx \n",
    "                   - ((Cb*t - Sb*v)*Ctc + (Ca*Cb - Sb*t)*Stc)*Qy \n",
    "                   + (Cb*t + Sb*u)*Qz + Dz*Sb - Dx\n",
    "                   ;\n",
    "\n",
    "            j[1] =   (Ctc*t + Stc*u)*Qx \n",
    "                   - (Stc*t - Ctc*u)*Qy \n",
    "                   + Ly*u \n",
    "                   + Lz*v \n",
    "                   + Qz*v \n",
    "                   - Ly\n",
    "                   ;\n",
    "\n",
    "\n",
    "            j[2] =    Cb*Dz \n",
    "                   + (Sb*t + Cb*v)*Ly \n",
    "                   - (Sb*t - Cb*u)*Lz \n",
    "                   - ((Ca*Sb + Cb*t)*Ctc - (Sb*t + Cb*v)*Stc)*Qx \n",
    "                   + ((Sb*t + Cb*v)*Ctc + (Ca*Sb + Cb*t)*Stc)*Qy \n",
    "                   - (Sb*t - Cb*u)*Qz \n",
    "                   - Dx*Sb \n",
    "                   - Dz \n",
    "                   - Lz\n",
    "                    ;\n",
    "\n",
    "            j[3] = pos->a;\n",
    "            j[4] = pos->b;\n",
    "            j[5] = pos->c;\n",
    "\n",
    "            break;"
   ]
  },
  {
   "cell_type": "markdown",
   "metadata": {},
   "source": [
    "This completes the TOOL kinematic and we can move on to our implementation of the 'Tilted Work Plane' feature\n"
   ]
  },
  {
   "cell_type": "markdown",
   "metadata": {},
   "source": [
    "-----"
   ]
  },
  {
   "cell_type": "markdown",
   "metadata": {},
   "source": [
    "# 'Tilted Work Plane' (TWP)\n",
    "\n",
    "Commercial 5-axis machine controllers offer built in functionality that allow the operator to define work plane orientation using Gcode commands like G68.2 or similar. With the new custom TOOL kinematic we can now explore a possible implementation of TWP in LinuxCNC.<br>\n",
    "For the purpose of this example we choose the already mentioned 'G68.2' and the associated Gcodes as used by Fanuc:<br>\n",
    "\n",
    "* G68.2 - Set custom coordinate system using five different modes\n",
    "* G68.3 - Set custom coordinate system using current tool orientation\n",
    "* G68.4 - Same as 68.2 but as an incremental reorientation of an existing TWP\n",
    "\n",
    "* G53.1 - Orient the tool to the TWP using non-TCP joint rotation \n",
    "* G53.6 - Orient the tool to the TWP using TCP joint rotation\n",
    "\n",
    "* G69 - Cancel the TWP setting\n",
    "\n",
    "The TWP feature always requires a TWP-definition (G68.x) before an orientation command (G53.x) can be issued.<br> \n",
    "G68.x commands do not cause any machine movement while G53 command will cause immediate machine movement.\n",
    "At the end of a TWP operation a G69 command is used to return to machine coordinates.<br>\n",
    "\n",
    "In this presentation we use a 'Pure Python Remap' to make the above Gcode commands available to the machine operator. As a consequence our depth of integration is quite limited in the sense that the LinuxCNC Gcode interpreter will be totally ignorant of our 'TWP'-mode."
   ]
  },
  {
   "cell_type": "markdown",
   "metadata": {},
   "source": [
    "### Implementation outline\n",
    "\n",
    "This should give a rough overview of how TWP functionality is to be achieved with a python remap:\n",
    "\n",
    "\n",
    "The idea of TWP is to give the machine operator a mechanism to define a virtual work plane that is rotated (and optionally offset) in respect to the machine coordinate system. As mentioned above this is fairly trivial in a machine with work side rotation as its tool spindle is fixed to be aligned with the machine z-axis. In such a machine the tool coordinate system (TCS) remains in the orientation of the machine coordinate system (MCS)<br>\n",
    "In a machine with tool side rotation however the TCS rotates in respect to the MCS as the rotary joints move. The orientation of the TCS for a given joint rotation can be calculated using the rotational part of the transformation matrix as derived above. Furthermore we can also solve for the inverse case of finding the joint positions that will orient the tool to a given orientation.\n",
    "Note here that this is very much dependent on the specific kinematic of the machine at hand and will require careful analysis of the kinematic model to find any ambiguities in the solution as some specific tool orientations might be achieved in multiple joint positions. \n",
    "\n",
    "So to define the TWP means to define a target TCS in respect to the MCS and for this the use of a transformation matrix is well suited as it contains the rotation as well as the (optional) translation. \n",
    "\n",
    "\n",
    "### Step 1: Definition of the TWP\n",
    "The TWP is defined by a rotation (I,J,K) and optional offset (X,Y,Z) of the TCS in respect to the MCS. The optional offset is calulated from the current work offset position at the time when the G68.2 or G68.3 command is issued. \n",
    "\n",
    "The operator can choose from different methods to define the rotation of the custom work plane:\n",
    "\n",
    "*  G68.2 ... P0 ... - 'True Euler'-angles (this is the default if the P word is omitted)\n",
    "\n",
    "*  G68.2 ...  P1 ... - 'Pitch-Roll-Yaw'-angles\n",
    "\n",
    "*  G68.2 ...  P2 ... - 3 points in the plane (3 points define two vectors)\n",
    "\n",
    "*  G68.2 ...  P3 ... - 2 vectors (tool-x and tool-z)\n",
    "\n",
    "*  G68.2 ...  P4 ... - projected angles (A around machine-x, B around machine-y)\n",
    "\n",
    "For the above methods we create the transformation matrix either by using euler-rotations of the 4x4 identity matrix or by the vector information passed by the command using the cross product to calculate the y-vector. For the projected angles we use basich trigonometry to calculate the vector components.\n",
    "These calculations are independent from the specific machine kinematics.\n",
    "\n",
    "*  G68.3 ...... - define TWP perpendicular to the current tool orientation \n",
    "\n",
    "Here we need to use the specific machine kinematic model to calculate the transformation matrix of the current TCS. \n",
    "\n",
    "*  G68.4 ...... - same as G68.2 but relative to the current TWP\n",
    "\n",
    "Here we need to multiply the current TWP transformation matrix with the one built from the command words.\n",
    "\n",
    "*  G69 - cancel TWP\n",
    "\n",
    "Here we reset the TWP transformation matrix to the 4x4 identity matrix (ie no rotation, no translation).\n",
    "\n",
    "Note that, contrary to some other controllers, moves commanded between G68.x and G53.x will be in the MCS.\n",
    "\n",
    "### Step 2: Orientation of the tool to the TWP\n",
    "Once the TWP has been defined the machine spindle can be oriented by moving the rotary joints to the appropriate positions.  \n",
    "\n",
    "The operator can choose whether the rotation is done in IDENTITY kinematics (only the rotary joints move) or in TCP kinematics where all joint may move to keep the tool center point in position:\n",
    "\n",
    "*  G53.1 - orient the tool to the TWP without using TCP\n",
    "\n",
    "*  G53.6 - orient the tool to the TWP with using TCP\n",
    "\n",
    "### Handling work offsets when switching to TWP\n",
    "The TWP is defined relative to the work offset (eg G54) active when issuing a G62.x command. With the execution of the following G53.x command and the reorientation of the spindle the kinematic is switched to the TOOL kinematics and the coordinate position in the DRO will then reflect the coordinate position in the rotated TCS. If the work offset values were to be used without adjusting for the kinematic switch then the physical position of the work offset would be rotated out of place and the reference to the work coordinate system (WCS) would be lost. So in order to find the reference on the work piece in the TCS we need to use the TWP transformation matrix to transform the work offset values set in WCS to the new TCS.<br>\n",
    "Note that the original work offset will have to be restored when the TWP is canceled with a G69 command.<br>\n",
    "\n",
    "### Caveats of TOOL kinematics (TOOL kinematics is NOT TCP!)\n",
    "Any machine operator using TOOL kinematics should be well aware of its behavior before issuing motion commands!<br>\n",
    "It must be stressed that, while TOOL kinematics are active, any movement of a rotary joint will cause the machine to rotate the TCS  around the machine reference point. Because the magnitude of the resulting movement increases with the distance between the tool position and the machine reference point the effect may seem unpreditable to the inexperienced operator.\n",
    "Note here that it is possible to set the rotation point in TOOL kinematics in much the same way as we offset the rotation-point from machine zero in TCP kinematics. This however would further complicate work offset transformation and there seems to be no immediate benefit to it. \n"
   ]
  },
  {
   "cell_type": "code",
   "execution_count": null,
   "metadata": {},
   "outputs": [],
   "source": []
  }
 ],
 "metadata": {
  "authors": [
   {
    "name": "David Mueller"
   }
  ],
  "celltoolbar": "Tags",
  "hide_input": false,
  "kernelspec": {
   "display_name": "SageMath 9.0",
   "language": "sage",
   "name": "sagemath"
  },
  "language_info": {
   "codemirror_mode": {
    "name": "ipython",
    "version": 3
   },
   "file_extension": ".py",
   "mimetype": "text/x-python",
   "name": "python",
   "nbconvert_exporter": "python",
   "pygments_lexer": "ipython3",
   "version": "3.8.10"
  },
  "title": "XYZAB_TDR kinematics for LinuxCNC"
 },
 "nbformat": 4,
 "nbformat_minor": 4
}
